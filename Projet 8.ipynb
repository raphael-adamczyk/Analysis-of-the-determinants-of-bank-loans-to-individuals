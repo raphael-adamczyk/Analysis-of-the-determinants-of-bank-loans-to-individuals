{
 "cells": [
  {
   "cell_type": "markdown",
   "metadata": {},
   "source": [
    "# Projet 8: [Communiquez vos résultats](#M0)\n",
    "\n",
    "# Analyse de certains déterminants à l'octroi de crédits bancaires destinés aux particuliers."
   ]
  },
  {
   "cell_type": "markdown",
   "metadata": {},
   "source": [
    "# Table des matières  <a id=\"sommaire\" name=\"sommaire\"></a>\n",
    "\n",
    "**[Mission 1 - Description des données](#M1)**\n",
    "- [1. Nettoyage des données](#M11)\n",
    "    - [a) Valeurs aberrantes](#M111)\n",
    "    - [b) Valeurs qualitatives manquantes](#M112)\n",
    "    - [c) Valeurs quantitatives manquantes](#M113)\n",
    "- [2. Analyses univariées et bivariées](#M12)\n",
    "    - [a) Analyses univariées](#M121)\n",
    "    - [b) Analyses bivariées](#M122)\n",
    "    - [c) Corrélation entre variables](#M123)\n",
    "        - [i) Sur l'ensemble des prêts](#M1231)\n",
    "        - [ii) En fonction de la notation crédit](#M1232)\n",
    "        \n",
    "**[Mission 2 - Analyse exploratoire des données](#M2)**\n",
    "- [1. Détermination du nombre de composantes principales](#M21)\n",
    "    - [a) Etude de l'inertie](#M211)\n",
    "- [2. Analyse des Correspondances Multiples](#M22)\n",
    "    - [a) Plan factoriel de dimension 1 et 3](#M221)\n",
    "    - [b) Plan factoriel de dimension 3 et 4](#M222)\n",
    "    \n",
    "**[Mission 3 - Analyse prédictive](#M3)**\n",
    "- [1. Modélisation à l'aide d'une régression logistique multiple à variable binaire](#M31)\n",
    "    - [a) Modélisation](#M311)\n",
    "    - [b) Calcul des odd-ratios](#M312)\n",
    "    - [c) Évaluation statistique de la régression](#M313)\n",
    "    - [d) Courbe ROC](#M314)\n",
    "- [2. Test de notation du crédit](#M32)\n",
    "    - [a) Programme](#M321)\n",
    "    - [b) Essai](#M322)\n",
    "    - [c) Simulation](#M323)\n",
    "        - [i) Netoyage des données](#M3231)\n",
    "        - [ii) Test](#M3232)"
   ]
  },
  {
   "cell_type": "code",
   "execution_count": 1,
   "metadata": {},
   "outputs": [
    {
     "name": "stderr",
     "output_type": "stream",
     "text": [
      "Warning message:\n",
      "\"package 'tibble' was built under R version 3.6.3\"Warning message:\n",
      "\"package 'dplyr' was built under R version 3.6.3\"\n",
      "Attaching package: 'dplyr'\n",
      "\n",
      "The following objects are masked from 'package:stats':\n",
      "\n",
      "    filter, lag\n",
      "\n",
      "The following objects are masked from 'package:base':\n",
      "\n",
      "    intersect, setdiff, setequal, union\n",
      "\n",
      "Warning message:\n",
      "\"package 'tidyr' was built under R version 3.6.3\"Warning message:\n",
      "\"package 'FactoMineR' was built under R version 3.6.3\"Warning message:\n",
      "\"package 'factoextra' was built under R version 3.6.3\"Loading required package: ggplot2\n",
      "Warning message:\n",
      "\"package 'ggplot2' was built under R version 3.6.3\"Welcome! Want to learn more? See two factoextra-related books at https://goo.gl/ve3WBa\n",
      "Warning message:\n",
      "\"package 'corrplot' was built under R version 3.6.3\"corrplot 0.84 loaded\n",
      "Warning message:\n",
      "\"package 'reshape2' was built under R version 3.6.3\"\n",
      "Attaching package: 'reshape2'\n",
      "\n",
      "The following object is masked from 'package:tidyr':\n",
      "\n",
      "    smiths\n",
      "\n",
      "Warning message:\n",
      "\"package 'EnvStats' was built under R version 3.6.3\"\n",
      "Attaching package: 'EnvStats'\n",
      "\n",
      "The following objects are masked from 'package:stats':\n",
      "\n",
      "    predict, predict.lm\n",
      "\n",
      "The following object is masked from 'package:base':\n",
      "\n",
      "    print.default\n",
      "\n",
      "Warning message:\n",
      "\"package 'Hmisc' was built under R version 3.6.3\"Loading required package: lattice\n",
      "Loading required package: survival\n",
      "Warning message:\n",
      "\"package 'survival' was built under R version 3.6.3\"Loading required package: Formula\n",
      "\n",
      "Attaching package: 'Hmisc'\n",
      "\n",
      "The following object is masked from 'package:EnvStats':\n",
      "\n",
      "    stripChart\n",
      "\n",
      "The following objects are masked from 'package:dplyr':\n",
      "\n",
      "    src, summarize\n",
      "\n",
      "The following objects are masked from 'package:base':\n",
      "\n",
      "    format.pval, units\n",
      "\n",
      "Warning message:\n",
      "\"package 'devtools' was built under R version 3.6.3\"Loading required package: usethis\n",
      "Warning message:\n",
      "\"package 'usethis' was built under R version 3.6.3\"Warning message:\n",
      "\"package 'ggpubr' was built under R version 3.6.3\"Loading required package: magrittr\n",
      "Warning message:\n",
      "\"package 'magrittr' was built under R version 3.6.3\"\n",
      "Attaching package: 'magrittr'\n",
      "\n",
      "The following object is masked from 'package:tidyr':\n",
      "\n",
      "    extract\n",
      "\n",
      "Warning message:\n",
      "\"package 'ggcorrplot' was built under R version 3.6.3\"Warning message:\n",
      "\"package 'fpc' was built under R version 3.6.3\"Warning message:\n",
      "\"package 'caret' was built under R version 3.6.3\"\n",
      "Attaching package: 'caret'\n",
      "\n",
      "The following object is masked from 'package:survival':\n",
      "\n",
      "    cluster\n",
      "\n",
      "\n",
      "Attaching package: 'MASS'\n",
      "\n",
      "The following object is masked from 'package:EnvStats':\n",
      "\n",
      "    boxcox\n",
      "\n",
      "The following object is masked from 'package:dplyr':\n",
      "\n",
      "    select\n",
      "\n",
      "Warning message:\n",
      "\"package 'pROC' was built under R version 3.6.3\"Type 'citation(\"pROC\")' for a citation.\n",
      "\n",
      "Attaching package: 'pROC'\n",
      "\n",
      "The following objects are masked from 'package:stats':\n",
      "\n",
      "    cov, smooth, var\n",
      "\n"
     ]
    }
   ],
   "source": [
    "library(tibble)\n",
    "library(dplyr) \n",
    "library(tidyr)\n",
    "library(FactoMineR) \n",
    "library(factoextra) \n",
    "library(ggplot2)  \n",
    "library(corrplot) # Matrice de corrélation\n",
    "library(repr) \n",
    "library(reshape2)\n",
    "library(EnvStats) \n",
    "library(normtest) # Test de normalité\n",
    "library(Hmisc) # matrice de corrélations\n",
    "library(devtools)\n",
    "library(ggpubr)\n",
    "library(ggcorrplot) # Graphe de corrélation\n",
    "library(stats)\n",
    "library(fpc)\n",
    "library(caret) # matrice de confusion et validation croisée, analyse prédictive (modélisation)\n",
    "library(MASS) # modèle pas à pas basé sur le critère d'Akaïke\n",
    "library(pROC) # courbe ROC"
   ]
  },
  {
   "cell_type": "code",
   "execution_count": 2,
   "metadata": {},
   "outputs": [],
   "source": [
    "options(repr.matrix.max.rows = 15, repr.matrix.max.cols = 20)"
   ]
  },
  {
   "cell_type": "markdown",
   "metadata": {},
   "source": [
    "<a href=\"#sommaire\">Retour au sommaire</a>\n",
    "# Mission 1 - Description des données.<a name=\"M1\"></a>"
   ]
  },
  {
   "cell_type": "code",
   "execution_count": 3,
   "metadata": {},
   "outputs": [
    {
     "data": {
      "text/html": [
       "<ol class=list-inline>\n",
       "\t<li>614</li>\n",
       "\t<li>13</li>\n",
       "</ol>\n"
      ],
      "text/latex": [
       "\\begin{enumerate*}\n",
       "\\item 614\n",
       "\\item 13\n",
       "\\end{enumerate*}\n"
      ],
      "text/markdown": [
       "1. 614\n",
       "2. 13\n",
       "\n",
       "\n"
      ],
      "text/plain": [
       "[1] 614  13"
      ]
     },
     "metadata": {},
     "output_type": "display_data"
    },
    {
     "data": {
      "text/html": [
       "<table>\n",
       "<thead><tr><th scope=col>Loan_ID</th><th scope=col>Gender</th><th scope=col>Married</th><th scope=col>Dependents</th><th scope=col>Education</th><th scope=col>Self_Employed</th><th scope=col>ApplicantIncome</th><th scope=col>CoapplicantIncome</th><th scope=col>LoanAmount</th><th scope=col>Loan_Amount_Term</th><th scope=col>Credit_History</th><th scope=col>Property_Area</th><th scope=col>Loan_Status</th></tr></thead>\n",
       "<tbody>\n",
       "\t<tr><td>LP001002    </td><td>Male        </td><td>No          </td><td>0           </td><td>Graduate    </td><td>No          </td><td>5849        </td><td>   0        </td><td> NA         </td><td>360         </td><td>1           </td><td>Urban       </td><td>Y           </td></tr>\n",
       "\t<tr><td>LP001003    </td><td>Male        </td><td>Yes         </td><td>1           </td><td>Graduate    </td><td>No          </td><td>4583        </td><td>1508        </td><td>128         </td><td>360         </td><td>1           </td><td>Rural       </td><td>N           </td></tr>\n",
       "\t<tr><td>LP001005    </td><td>Male        </td><td>Yes         </td><td>0           </td><td>Graduate    </td><td>Yes         </td><td>3000        </td><td>   0        </td><td> 66         </td><td>360         </td><td>1           </td><td>Urban       </td><td>Y           </td></tr>\n",
       "\t<tr><td>LP001006    </td><td>Male        </td><td>Yes         </td><td>0           </td><td>Not Graduate</td><td>No          </td><td>2583        </td><td>2358        </td><td>120         </td><td>360         </td><td>1           </td><td>Urban       </td><td>Y           </td></tr>\n",
       "\t<tr><td>LP001008    </td><td>Male        </td><td>No          </td><td>0           </td><td>Graduate    </td><td>No          </td><td>6000        </td><td>   0        </td><td>141         </td><td>360         </td><td>1           </td><td>Urban       </td><td>Y           </td></tr>\n",
       "\t<tr><td>LP001011    </td><td>Male        </td><td>Yes         </td><td>2           </td><td>Graduate    </td><td>Yes         </td><td>5417        </td><td>4196        </td><td>267         </td><td>360         </td><td>1           </td><td>Urban       </td><td>Y           </td></tr>\n",
       "\t<tr><td>LP001013    </td><td>Male        </td><td>Yes         </td><td>0           </td><td>Not Graduate</td><td>No          </td><td>2333        </td><td>1516        </td><td> 95         </td><td>360         </td><td>1           </td><td>Urban       </td><td>Y           </td></tr>\n",
       "\t<tr><td>LP001014    </td><td>Male        </td><td>Yes         </td><td>3+          </td><td>Graduate    </td><td>No          </td><td>3036        </td><td>2504        </td><td>158         </td><td>360         </td><td>0           </td><td>Semiurban   </td><td>N           </td></tr>\n",
       "\t<tr><td>...</td><td>...</td><td>...</td><td>...</td><td>...</td><td>...</td><td>...</td><td>...</td><td>...</td><td>...</td><td>...</td><td>...</td><td>...</td></tr>\n",
       "\t<tr><td>LP002964    </td><td>Male        </td><td>Yes         </td><td>2           </td><td>Not Graduate</td><td>No          </td><td>3987        </td><td>1411        </td><td>157         </td><td>360         </td><td>1           </td><td>Rural       </td><td>Y           </td></tr>\n",
       "\t<tr><td>LP002974    </td><td>Male        </td><td>Yes         </td><td>0           </td><td>Graduate    </td><td>No          </td><td>3232        </td><td>1950        </td><td>108         </td><td>360         </td><td>1           </td><td>Rural       </td><td>Y           </td></tr>\n",
       "\t<tr><td>LP002978    </td><td>Female      </td><td>No          </td><td>0           </td><td>Graduate    </td><td>No          </td><td>2900        </td><td>   0        </td><td> 71         </td><td>360         </td><td>1           </td><td>Rural       </td><td>Y           </td></tr>\n",
       "\t<tr><td>LP002979    </td><td>Male        </td><td>Yes         </td><td>3+          </td><td>Graduate    </td><td>No          </td><td>4106        </td><td>   0        </td><td> 40         </td><td>180         </td><td>1           </td><td>Rural       </td><td>Y           </td></tr>\n",
       "\t<tr><td>LP002983    </td><td>Male        </td><td>Yes         </td><td>1           </td><td>Graduate    </td><td>No          </td><td>8072        </td><td> 240        </td><td>253         </td><td>360         </td><td>1           </td><td>Urban       </td><td>Y           </td></tr>\n",
       "\t<tr><td>LP002984    </td><td>Male        </td><td>Yes         </td><td>2           </td><td>Graduate    </td><td>No          </td><td>7583        </td><td>   0        </td><td>187         </td><td>360         </td><td>1           </td><td>Urban       </td><td>Y           </td></tr>\n",
       "\t<tr><td>LP002990    </td><td>Female      </td><td>No          </td><td>0           </td><td>Graduate    </td><td>Yes         </td><td>4583        </td><td>   0        </td><td>133         </td><td>360         </td><td>0           </td><td>Semiurban   </td><td>N           </td></tr>\n",
       "</tbody>\n",
       "</table>\n"
      ],
      "text/latex": [
       "\\begin{tabular}{r|lllllllllllll}\n",
       " Loan\\_ID & Gender & Married & Dependents & Education & Self\\_Employed & ApplicantIncome & CoapplicantIncome & LoanAmount & Loan\\_Amount\\_Term & Credit\\_History & Property\\_Area & Loan\\_Status\\\\\n",
       "\\hline\n",
       "\t LP001002     & Male         & No           & 0            & Graduate     & No           & 5849         &    0         &  NA          & 360          & 1            & Urban        & Y           \\\\\n",
       "\t LP001003     & Male         & Yes          & 1            & Graduate     & No           & 4583         & 1508         & 128          & 360          & 1            & Rural        & N           \\\\\n",
       "\t LP001005     & Male         & Yes          & 0            & Graduate     & Yes          & 3000         &    0         &  66          & 360          & 1            & Urban        & Y           \\\\\n",
       "\t LP001006     & Male         & Yes          & 0            & Not Graduate & No           & 2583         & 2358         & 120          & 360          & 1            & Urban        & Y           \\\\\n",
       "\t LP001008     & Male         & No           & 0            & Graduate     & No           & 6000         &    0         & 141          & 360          & 1            & Urban        & Y           \\\\\n",
       "\t LP001011     & Male         & Yes          & 2            & Graduate     & Yes          & 5417         & 4196         & 267          & 360          & 1            & Urban        & Y           \\\\\n",
       "\t LP001013     & Male         & Yes          & 0            & Not Graduate & No           & 2333         & 1516         &  95          & 360          & 1            & Urban        & Y           \\\\\n",
       "\t LP001014     & Male         & Yes          & 3+           & Graduate     & No           & 3036         & 2504         & 158          & 360          & 0            & Semiurban    & N           \\\\\n",
       "\t ... & ... & ... & ... & ... & ... & ... & ... & ... & ... & ... & ... & ...\\\\\n",
       "\t LP002964     & Male         & Yes          & 2            & Not Graduate & No           & 3987         & 1411         & 157          & 360          & 1            & Rural        & Y           \\\\\n",
       "\t LP002974     & Male         & Yes          & 0            & Graduate     & No           & 3232         & 1950         & 108          & 360          & 1            & Rural        & Y           \\\\\n",
       "\t LP002978     & Female       & No           & 0            & Graduate     & No           & 2900         &    0         &  71          & 360          & 1            & Rural        & Y           \\\\\n",
       "\t LP002979     & Male         & Yes          & 3+           & Graduate     & No           & 4106         &    0         &  40          & 180          & 1            & Rural        & Y           \\\\\n",
       "\t LP002983     & Male         & Yes          & 1            & Graduate     & No           & 8072         &  240         & 253          & 360          & 1            & Urban        & Y           \\\\\n",
       "\t LP002984     & Male         & Yes          & 2            & Graduate     & No           & 7583         &    0         & 187          & 360          & 1            & Urban        & Y           \\\\\n",
       "\t LP002990     & Female       & No           & 0            & Graduate     & Yes          & 4583         &    0         & 133          & 360          & 0            & Semiurban    & N           \\\\\n",
       "\\end{tabular}\n"
      ],
      "text/markdown": [
       "\n",
       "| Loan_ID | Gender | Married | Dependents | Education | Self_Employed | ApplicantIncome | CoapplicantIncome | LoanAmount | Loan_Amount_Term | Credit_History | Property_Area | Loan_Status |\n",
       "|---|---|---|---|---|---|---|---|---|---|---|---|---|\n",
       "| LP001002     | Male         | No           | 0            | Graduate     | No           | 5849         |    0         |  NA          | 360          | 1            | Urban        | Y            |\n",
       "| LP001003     | Male         | Yes          | 1            | Graduate     | No           | 4583         | 1508         | 128          | 360          | 1            | Rural        | N            |\n",
       "| LP001005     | Male         | Yes          | 0            | Graduate     | Yes          | 3000         |    0         |  66          | 360          | 1            | Urban        | Y            |\n",
       "| LP001006     | Male         | Yes          | 0            | Not Graduate | No           | 2583         | 2358         | 120          | 360          | 1            | Urban        | Y            |\n",
       "| LP001008     | Male         | No           | 0            | Graduate     | No           | 6000         |    0         | 141          | 360          | 1            | Urban        | Y            |\n",
       "| LP001011     | Male         | Yes          | 2            | Graduate     | Yes          | 5417         | 4196         | 267          | 360          | 1            | Urban        | Y            |\n",
       "| LP001013     | Male         | Yes          | 0            | Not Graduate | No           | 2333         | 1516         |  95          | 360          | 1            | Urban        | Y            |\n",
       "| LP001014     | Male         | Yes          | 3+           | Graduate     | No           | 3036         | 2504         | 158          | 360          | 0            | Semiurban    | N            |\n",
       "| ... | ... | ... | ... | ... | ... | ... | ... | ... | ... | ... | ... | ... |\n",
       "| LP002964     | Male         | Yes          | 2            | Not Graduate | No           | 3987         | 1411         | 157          | 360          | 1            | Rural        | Y            |\n",
       "| LP002974     | Male         | Yes          | 0            | Graduate     | No           | 3232         | 1950         | 108          | 360          | 1            | Rural        | Y            |\n",
       "| LP002978     | Female       | No           | 0            | Graduate     | No           | 2900         |    0         |  71          | 360          | 1            | Rural        | Y            |\n",
       "| LP002979     | Male         | Yes          | 3+           | Graduate     | No           | 4106         |    0         |  40          | 180          | 1            | Rural        | Y            |\n",
       "| LP002983     | Male         | Yes          | 1            | Graduate     | No           | 8072         |  240         | 253          | 360          | 1            | Urban        | Y            |\n",
       "| LP002984     | Male         | Yes          | 2            | Graduate     | No           | 7583         |    0         | 187          | 360          | 1            | Urban        | Y            |\n",
       "| LP002990     | Female       | No           | 0            | Graduate     | Yes          | 4583         |    0         | 133          | 360          | 0            | Semiurban    | N            |\n",
       "\n"
      ],
      "text/plain": [
       "    Loan_ID  Gender Married Dependents Education    Self_Employed\n",
       "1   LP001002 Male   No      0          Graduate     No           \n",
       "2   LP001003 Male   Yes     1          Graduate     No           \n",
       "3   LP001005 Male   Yes     0          Graduate     Yes          \n",
       "4   LP001006 Male   Yes     0          Not Graduate No           \n",
       "5   LP001008 Male   No      0          Graduate     No           \n",
       "6   LP001011 Male   Yes     2          Graduate     Yes          \n",
       "7   LP001013 Male   Yes     0          Not Graduate No           \n",
       "8   LP001014 Male   Yes     3+         Graduate     No           \n",
       "... ...      ...    ...     ...        ...          ...          \n",
       "608 LP002964 Male   Yes     2          Not Graduate No           \n",
       "609 LP002974 Male   Yes     0          Graduate     No           \n",
       "610 LP002978 Female No      0          Graduate     No           \n",
       "611 LP002979 Male   Yes     3+         Graduate     No           \n",
       "612 LP002983 Male   Yes     1          Graduate     No           \n",
       "613 LP002984 Male   Yes     2          Graduate     No           \n",
       "614 LP002990 Female No      0          Graduate     Yes          \n",
       "    ApplicantIncome CoapplicantIncome LoanAmount Loan_Amount_Term\n",
       "1   5849               0               NA        360             \n",
       "2   4583            1508              128        360             \n",
       "3   3000               0               66        360             \n",
       "4   2583            2358              120        360             \n",
       "5   6000               0              141        360             \n",
       "6   5417            4196              267        360             \n",
       "7   2333            1516               95        360             \n",
       "8   3036            2504              158        360             \n",
       "... ...             ...               ...        ...             \n",
       "608 3987            1411              157        360             \n",
       "609 3232            1950              108        360             \n",
       "610 2900               0               71        360             \n",
       "611 4106               0               40        180             \n",
       "612 8072             240              253        360             \n",
       "613 7583               0              187        360             \n",
       "614 4583               0              133        360             \n",
       "    Credit_History Property_Area Loan_Status\n",
       "1   1              Urban         Y          \n",
       "2   1              Rural         N          \n",
       "3   1              Urban         Y          \n",
       "4   1              Urban         Y          \n",
       "5   1              Urban         Y          \n",
       "6   1              Urban         Y          \n",
       "7   1              Urban         Y          \n",
       "8   0              Semiurban     N          \n",
       "... ...            ...           ...        \n",
       "608 1              Rural         Y          \n",
       "609 1              Rural         Y          \n",
       "610 1              Rural         Y          \n",
       "611 1              Rural         Y          \n",
       "612 1              Urban         Y          \n",
       "613 1              Urban         Y          \n",
       "614 0              Semiurban     N          "
      ]
     },
     "metadata": {},
     "output_type": "display_data"
    }
   ],
   "source": [
    "train <- read.csv('Fichier/train.csv', encoding = 'UTF-8')\n",
    "dim(train)\n",
    "train"
   ]
  },
  {
   "cell_type": "code",
   "execution_count": 4,
   "metadata": {},
   "outputs": [
    {
     "name": "stdout",
     "output_type": "stream",
     "text": [
      "'data.frame':\t614 obs. of  13 variables:\n",
      " $ Loan_ID          : Factor w/ 614 levels \"LP001002\",\"LP001003\",..: 1 2 3 4 5 6 7 8 9 10 ...\n",
      " $ Gender           : Factor w/ 3 levels \"\",\"Female\",\"Male\": 3 3 3 3 3 3 3 3 3 3 ...\n",
      " $ Married          : Factor w/ 3 levels \"\",\"No\",\"Yes\": 2 3 3 3 2 3 3 3 3 3 ...\n",
      " $ Dependents       : Factor w/ 5 levels \"\",\"0\",\"1\",\"2\",..: 2 3 2 2 2 4 2 5 4 3 ...\n",
      " $ Education        : Factor w/ 2 levels \"Graduate\",\"Not Graduate\": 1 1 1 2 1 1 2 1 1 1 ...\n",
      " $ Self_Employed    : Factor w/ 3 levels \"\",\"No\",\"Yes\": 2 2 3 2 2 3 2 2 2 2 ...\n",
      " $ ApplicantIncome  : int  5849 4583 3000 2583 6000 5417 2333 3036 4006 12841 ...\n",
      " $ CoapplicantIncome: num  0 1508 0 2358 0 ...\n",
      " $ LoanAmount       : int  NA 128 66 120 141 267 95 158 168 349 ...\n",
      " $ Loan_Amount_Term : int  360 360 360 360 360 360 360 360 360 360 ...\n",
      " $ Credit_History   : int  1 1 1 1 1 1 1 0 1 1 ...\n",
      " $ Property_Area    : Factor w/ 3 levels \"Rural\",\"Semiurban\",..: 3 1 3 3 3 3 3 2 3 2 ...\n",
      " $ Loan_Status      : Factor w/ 2 levels \"N\",\"Y\": 2 1 2 2 2 2 2 1 2 1 ...\n"
     ]
    }
   ],
   "source": [
    "str(train)"
   ]
  },
  {
   "cell_type": "markdown",
   "metadata": {},
   "source": [
    "Il semble étonnant que Credit_History soit classée entier. Nous la classons en facteur à deux niveaux (1 = oui et 0 = non)."
   ]
  },
  {
   "cell_type": "code",
   "execution_count": 5,
   "metadata": {},
   "outputs": [],
   "source": [
    "train$Credit_History <- droplevels(as.factor(train$Credit_History))"
   ]
  },
  {
   "cell_type": "markdown",
   "metadata": {},
   "source": [
    "<a href=\"#sommaire\">Retour au sommaire</a>\n",
    "## <span style='color:blue'>1. Nettoyage des données.<a name=\"M11\"></a>"
   ]
  },
  {
   "cell_type": "code",
   "execution_count": 6,
   "metadata": {},
   "outputs": [
    {
     "data": {
      "text/plain": [
       "     Loan_ID       Gender    Married   Dependents        Education  \n",
       " LP001002:  1         : 13      :  3     : 15     Graduate    :480  \n",
       " LP001003:  1   Female:112   No :213   0 :345     Not Graduate:134  \n",
       " LP001005:  1   Male  :489   Yes:398   1 :102                       \n",
       " LP001006:  1                          2 :101                       \n",
       " LP001008:  1                          3+: 51                       \n",
       " LP001011:  1                                                       \n",
       " (Other) :608                                                       \n",
       " Self_Employed ApplicantIncome CoapplicantIncome   LoanAmount   \n",
       "    : 32       Min.   :  150   Min.   :    0     Min.   :  9.0  \n",
       " No :500       1st Qu.: 2878   1st Qu.:    0     1st Qu.:100.0  \n",
       " Yes: 82       Median : 3812   Median : 1188     Median :128.0  \n",
       "               Mean   : 5403   Mean   : 1621     Mean   :146.4  \n",
       "               3rd Qu.: 5795   3rd Qu.: 2297     3rd Qu.:168.0  \n",
       "               Max.   :81000   Max.   :41667     Max.   :700.0  \n",
       "                                                 NA's   :22     \n",
       " Loan_Amount_Term Credit_History   Property_Area Loan_Status\n",
       " Min.   : 12      0   : 89       Rural    :179   N:192      \n",
       " 1st Qu.:360      1   :475       Semiurban:233   Y:422      \n",
       " Median :360      NA's: 50       Urban    :202              \n",
       " Mean   :342                                                \n",
       " 3rd Qu.:360                                                \n",
       " Max.   :480                                                \n",
       " NA's   :14                                                 "
      ]
     },
     "metadata": {},
     "output_type": "display_data"
    }
   ],
   "source": [
    "summary(train)"
   ]
  },
  {
   "cell_type": "markdown",
   "metadata": {},
   "source": [
    "CCL: Il semble y avoir deux valeurs aberrantes (ApplicantIncome et CoapplicantIncome)."
   ]
  },
  {
   "cell_type": "markdown",
   "metadata": {},
   "source": [
    "<a href=\"#sommaire\">Retour au sommaire</a>\n",
    "## <span style='color:brown'>a) Valeurs aberrantes.<a name=\"M111\"></a>"
   ]
  },
  {
   "cell_type": "code",
   "execution_count": 7,
   "metadata": {},
   "outputs": [
    {
     "data": {
      "image/png": "[encoded data removed]",
      "text/plain": [
       "Plot with title \"Répartition des revenus du demandeur et du co-demandeur\""
      ]
     },
     "metadata": {},
     "output_type": "display_data"
    }
   ],
   "source": [
    "options(repr.plot.width = 7, repr.plot.height = 5)\n",
    "boxplot(train[, c('ApplicantIncome', 'CoapplicantIncome')], xlab = 'Revenus', ylab = '', col = 'blue', \n",
    "        horizontal = T, cex.main = 1, main = 'Répartition des revenus du demandeur et du co-demandeur')"
   ]
  },
  {
   "cell_type": "code",
   "execution_count": 8,
   "metadata": {},
   "outputs": [
    {
     "data": {
      "text/html": [
       "<table>\n",
       "<thead><tr><th></th><th scope=col>Loan_ID</th><th scope=col>Gender</th><th scope=col>Married</th><th scope=col>Dependents</th><th scope=col>Education</th><th scope=col>Self_Employed</th><th scope=col>ApplicantIncome</th><th scope=col>CoapplicantIncome</th><th scope=col>LoanAmount</th><th scope=col>Loan_Amount_Term</th><th scope=col>Credit_History</th><th scope=col>Property_Area</th><th scope=col>Loan_Status</th></tr></thead>\n",
       "<tbody>\n",
       "\t<tr><th scope=row>410</th><td>LP002317</td><td>Male    </td><td>Yes     </td><td>3+      </td><td>Graduate</td><td>No      </td><td>81000   </td><td>0       </td><td>360     </td><td>360     </td><td>0       </td><td>Rural   </td><td>N       </td></tr>\n",
       "</tbody>\n",
       "</table>\n"
      ],
      "text/latex": [
       "\\begin{tabular}{r|lllllllllllll}\n",
       "  & Loan\\_ID & Gender & Married & Dependents & Education & Self\\_Employed & ApplicantIncome & CoapplicantIncome & LoanAmount & Loan\\_Amount\\_Term & Credit\\_History & Property\\_Area & Loan\\_Status\\\\\n",
       "\\hline\n",
       "\t410 & LP002317 & Male     & Yes      & 3+       & Graduate & No       & 81000    & 0        & 360      & 360      & 0        & Rural    & N       \\\\\n",
       "\\end{tabular}\n"
      ],
      "text/markdown": [
       "\n",
       "| <!--/--> | Loan_ID | Gender | Married | Dependents | Education | Self_Employed | ApplicantIncome | CoapplicantIncome | LoanAmount | Loan_Amount_Term | Credit_History | Property_Area | Loan_Status |\n",
       "|---|---|---|---|---|---|---|---|---|---|---|---|---|---|\n",
       "| 410 | LP002317 | Male     | Yes      | 3+       | Graduate | No       | 81000    | 0        | 360      | 360      | 0        | Rural    | N        |\n",
       "\n"
      ],
      "text/plain": [
       "    Loan_ID  Gender Married Dependents Education Self_Employed ApplicantIncome\n",
       "410 LP002317 Male   Yes     3+         Graduate  No            81000          \n",
       "    CoapplicantIncome LoanAmount Loan_Amount_Term Credit_History Property_Area\n",
       "410 0                 360        360              0              Rural        \n",
       "    Loan_Status\n",
       "410 N          "
      ]
     },
     "metadata": {},
     "output_type": "display_data"
    },
    {
     "data": {
      "text/html": [
       "<table>\n",
       "<thead><tr><th></th><th scope=col>Loan_ID</th><th scope=col>Gender</th><th scope=col>Married</th><th scope=col>Dependents</th><th scope=col>Education</th><th scope=col>Self_Employed</th><th scope=col>ApplicantIncome</th><th scope=col>CoapplicantIncome</th><th scope=col>LoanAmount</th><th scope=col>Loan_Amount_Term</th><th scope=col>Credit_History</th><th scope=col>Property_Area</th><th scope=col>Loan_Status</th></tr></thead>\n",
       "<tbody>\n",
       "\t<tr><th scope=row>601</th><td>LP002949</td><td>Female  </td><td>No      </td><td>3+      </td><td>Graduate</td><td>        </td><td>416     </td><td>41667   </td><td>350     </td><td>180     </td><td>NA      </td><td>Urban   </td><td>N       </td></tr>\n",
       "</tbody>\n",
       "</table>\n"
      ],
      "text/latex": [
       "\\begin{tabular}{r|lllllllllllll}\n",
       "  & Loan\\_ID & Gender & Married & Dependents & Education & Self\\_Employed & ApplicantIncome & CoapplicantIncome & LoanAmount & Loan\\_Amount\\_Term & Credit\\_History & Property\\_Area & Loan\\_Status\\\\\n",
       "\\hline\n",
       "\t601 & LP002949 & Female   & No       & 3+       & Graduate &          & 416      & 41667    & 350      & 180      & NA       & Urban    & N       \\\\\n",
       "\\end{tabular}\n"
      ],
      "text/markdown": [
       "\n",
       "| <!--/--> | Loan_ID | Gender | Married | Dependents | Education | Self_Employed | ApplicantIncome | CoapplicantIncome | LoanAmount | Loan_Amount_Term | Credit_History | Property_Area | Loan_Status |\n",
       "|---|---|---|---|---|---|---|---|---|---|---|---|---|---|\n",
       "| 601 | LP002949 | Female   | No       | 3+       | Graduate |          | 416      | 41667    | 350      | 180      | NA       | Urban    | N        |\n",
       "\n"
      ],
      "text/plain": [
       "    Loan_ID  Gender Married Dependents Education Self_Employed ApplicantIncome\n",
       "601 LP002949 Female No      3+         Graduate                416            \n",
       "    CoapplicantIncome LoanAmount Loan_Amount_Term Credit_History Property_Area\n",
       "601 41667             350        180              NA             Urban        \n",
       "    Loan_Status\n",
       "601 N          "
      ]
     },
     "metadata": {},
     "output_type": "display_data"
    }
   ],
   "source": [
    "train[train$ApplicantIncome == 81000, ]\n",
    "train[train$CoapplicantIncome == 41667, ]"
   ]
  },
  {
   "cell_type": "markdown",
   "metadata": {},
   "source": [
    "CCL:\n",
    "- Bien que ces valeurs soient extrêmes, nous ne les considèrerons pas comme aberrantes.\n",
    "- Il apparait que ces clients n'ont pas obtenu leur prêt malgré des revenus 20 fois supérieur à la moyenne. Les modalités d'obtention du modèle employé par la banque montrent qe ce critère ne rentre pas en jeu. "
   ]
  },
  {
   "cell_type": "code",
   "execution_count": 9,
   "metadata": {
    "scrolled": false
   },
   "outputs": [
    {
     "data": {
      "text/html": [
       "0"
      ],
      "text/latex": [
       "0"
      ],
      "text/markdown": [
       "0"
      ],
      "text/plain": [
       "[1] 0"
      ]
     },
     "metadata": {},
     "output_type": "display_data"
    },
    {
     "data": {
      "text/html": [
       "0"
      ],
      "text/latex": [
       "0"
      ],
      "text/markdown": [
       "0"
      ],
      "text/plain": [
       "[1] 0"
      ]
     },
     "metadata": {},
     "output_type": "display_data"
    },
    {
     "data": {
      "text/html": [
       "0"
      ],
      "text/latex": [
       "0"
      ],
      "text/markdown": [
       "0"
      ],
      "text/plain": [
       "[1] 0"
      ]
     },
     "metadata": {},
     "output_type": "display_data"
    }
   ],
   "source": [
    "# Existence de doublons avec l'identifiant, sans l'identifiant et sans l'identifiant et la notation du crédit:\n",
    "sum(duplicated(train))\n",
    "sum(duplicated(train[, -1]))\n",
    "sum(duplicated(train[, -c(1, 13)]))"
   ]
  },
  {
   "cell_type": "markdown",
   "metadata": {},
   "source": [
    "CCL: Pas de données clients en double."
   ]
  },
  {
   "cell_type": "markdown",
   "metadata": {},
   "source": [
    "<a href=\"#sommaire\">Retour au sommaire</a>\n",
    "## <span style='color:brown'>b) Valeurs qualitatives manquantes.<a name=\"M112\"></a>"
   ]
  },
  {
   "cell_type": "markdown",
   "metadata": {},
   "source": [
    "### Colonne 'Genre':"
   ]
  },
  {
   "cell_type": "code",
   "execution_count": 10,
   "metadata": {},
   "outputs": [
    {
     "data": {
      "text/html": [
       "<table>\n",
       "<thead><tr><th></th><th scope=col>Loan_ID</th><th scope=col>Gender</th><th scope=col>Married</th><th scope=col>Dependents</th><th scope=col>Education</th><th scope=col>Self_Employed</th><th scope=col>ApplicantIncome</th><th scope=col>CoapplicantIncome</th><th scope=col>LoanAmount</th><th scope=col>Loan_Amount_Term</th><th scope=col>Credit_History</th><th scope=col>Property_Area</th><th scope=col>Loan_Status</th></tr></thead>\n",
       "<tbody>\n",
       "\t<tr><th scope=row>24</th><td>LP001050    </td><td>            </td><td>Yes         </td><td>2           </td><td>Not Graduate</td><td>No          </td><td> 3365       </td><td>1917        </td><td>112         </td><td>360         </td><td>0           </td><td>Rural       </td><td>N           </td></tr>\n",
       "\t<tr><th scope=row>127</th><td>LP001448    </td><td>            </td><td>Yes         </td><td>3+          </td><td>Graduate    </td><td>No          </td><td>23803       </td><td>   0        </td><td>370         </td><td>360         </td><td>1           </td><td>Rural       </td><td>Y           </td></tr>\n",
       "\t<tr><th scope=row>172</th><td>LP001585    </td><td>            </td><td>Yes         </td><td>3+          </td><td>Graduate    </td><td>No          </td><td>51763       </td><td>   0        </td><td>700         </td><td>300         </td><td>1           </td><td>Urban       </td><td>Y           </td></tr>\n",
       "\t<tr><th scope=row>189</th><td>LP001644    </td><td>            </td><td>Yes         </td><td>0           </td><td>Graduate    </td><td>Yes         </td><td>  674       </td><td>5296        </td><td>168         </td><td>360         </td><td>1           </td><td>Rural       </td><td>Y           </td></tr>\n",
       "\t<tr><th scope=row>315</th><td>LP002024    </td><td>            </td><td>Yes         </td><td>0           </td><td>Graduate    </td><td>No          </td><td> 2473       </td><td>1843        </td><td>159         </td><td>360         </td><td>1           </td><td>Rural       </td><td>N           </td></tr>\n",
       "\t<tr><th scope=row>335</th><td>LP002103    </td><td>            </td><td>Yes         </td><td>1           </td><td>Graduate    </td><td>Yes         </td><td> 9833       </td><td>1833        </td><td>182         </td><td>180         </td><td>1           </td><td>Urban       </td><td>Y           </td></tr>\n",
       "\t<tr><th scope=row>461</th><td>LP002478    </td><td>            </td><td>Yes         </td><td>0           </td><td>Graduate    </td><td>Yes         </td><td> 2083       </td><td>4083        </td><td>160         </td><td>360         </td><td>NA          </td><td>Semiurban   </td><td>Y           </td></tr>\n",
       "\t<tr><th scope=row>468</th><td>LP002501    </td><td>            </td><td>Yes         </td><td>0           </td><td>Graduate    </td><td>No          </td><td>16692       </td><td>   0        </td><td>110         </td><td>360         </td><td>1           </td><td>Semiurban   </td><td>Y           </td></tr>\n",
       "\t<tr><th scope=row>478</th><td>LP002530    </td><td>            </td><td>Yes         </td><td>2           </td><td>Graduate    </td><td>No          </td><td> 2873       </td><td>1872        </td><td>132         </td><td>360         </td><td>0           </td><td>Semiurban   </td><td>N           </td></tr>\n",
       "\t<tr><th scope=row>508</th><td>LP002625    </td><td>            </td><td>No          </td><td>0           </td><td>Graduate    </td><td>No          </td><td> 3583       </td><td>   0        </td><td> 96         </td><td>360         </td><td>1           </td><td>Urban       </td><td>N           </td></tr>\n",
       "\t<tr><th scope=row>577</th><td>LP002872    </td><td>            </td><td>Yes         </td><td>0           </td><td>Graduate    </td><td>No          </td><td> 3087       </td><td>2210        </td><td>136         </td><td>360         </td><td>0           </td><td>Semiurban   </td><td>N           </td></tr>\n",
       "\t<tr><th scope=row>589</th><td>LP002925    </td><td>            </td><td>No          </td><td>0           </td><td>Graduate    </td><td>No          </td><td> 4750       </td><td>   0        </td><td> 94         </td><td>360         </td><td>1           </td><td>Semiurban   </td><td>Y           </td></tr>\n",
       "\t<tr><th scope=row>593</th><td>LP002933    </td><td>            </td><td>No          </td><td>3+          </td><td>Graduate    </td><td>Yes         </td><td> 9357       </td><td>   0        </td><td>292         </td><td>360         </td><td>1           </td><td>Semiurban   </td><td>Y           </td></tr>\n",
       "</tbody>\n",
       "</table>\n"
      ],
      "text/latex": [
       "\\begin{tabular}{r|lllllllllllll}\n",
       "  & Loan\\_ID & Gender & Married & Dependents & Education & Self\\_Employed & ApplicantIncome & CoapplicantIncome & LoanAmount & Loan\\_Amount\\_Term & Credit\\_History & Property\\_Area & Loan\\_Status\\\\\n",
       "\\hline\n",
       "\t24 & LP001050     &              & Yes          & 2            & Not Graduate & No           &  3365        & 1917         & 112          & 360          & 0            & Rural        & N           \\\\\n",
       "\t127 & LP001448     &              & Yes          & 3+           & Graduate     & No           & 23803        &    0         & 370          & 360          & 1            & Rural        & Y           \\\\\n",
       "\t172 & LP001585     &              & Yes          & 3+           & Graduate     & No           & 51763        &    0         & 700          & 300          & 1            & Urban        & Y           \\\\\n",
       "\t189 & LP001644     &              & Yes          & 0            & Graduate     & Yes          &   674        & 5296         & 168          & 360          & 1            & Rural        & Y           \\\\\n",
       "\t315 & LP002024     &              & Yes          & 0            & Graduate     & No           &  2473        & 1843         & 159          & 360          & 1            & Rural        & N           \\\\\n",
       "\t335 & LP002103     &              & Yes          & 1            & Graduate     & Yes          &  9833        & 1833         & 182          & 180          & 1            & Urban        & Y           \\\\\n",
       "\t461 & LP002478     &              & Yes          & 0            & Graduate     & Yes          &  2083        & 4083         & 160          & 360          & NA           & Semiurban    & Y           \\\\\n",
       "\t468 & LP002501     &              & Yes          & 0            & Graduate     & No           & 16692        &    0         & 110          & 360          & 1            & Semiurban    & Y           \\\\\n",
       "\t478 & LP002530     &              & Yes          & 2            & Graduate     & No           &  2873        & 1872         & 132          & 360          & 0            & Semiurban    & N           \\\\\n",
       "\t508 & LP002625     &              & No           & 0            & Graduate     & No           &  3583        &    0         &  96          & 360          & 1            & Urban        & N           \\\\\n",
       "\t577 & LP002872     &              & Yes          & 0            & Graduate     & No           &  3087        & 2210         & 136          & 360          & 0            & Semiurban    & N           \\\\\n",
       "\t589 & LP002925     &              & No           & 0            & Graduate     & No           &  4750        &    0         &  94          & 360          & 1            & Semiurban    & Y           \\\\\n",
       "\t593 & LP002933     &              & No           & 3+           & Graduate     & Yes          &  9357        &    0         & 292          & 360          & 1            & Semiurban    & Y           \\\\\n",
       "\\end{tabular}\n"
      ],
      "text/markdown": [
       "\n",
       "| <!--/--> | Loan_ID | Gender | Married | Dependents | Education | Self_Employed | ApplicantIncome | CoapplicantIncome | LoanAmount | Loan_Amount_Term | Credit_History | Property_Area | Loan_Status |\n",
       "|---|---|---|---|---|---|---|---|---|---|---|---|---|---|\n",
       "| 24 | LP001050     |              | Yes          | 2            | Not Graduate | No           |  3365        | 1917         | 112          | 360          | 0            | Rural        | N            |\n",
       "| 127 | LP001448     |              | Yes          | 3+           | Graduate     | No           | 23803        |    0         | 370          | 360          | 1            | Rural        | Y            |\n",
       "| 172 | LP001585     |              | Yes          | 3+           | Graduate     | No           | 51763        |    0         | 700          | 300          | 1            | Urban        | Y            |\n",
       "| 189 | LP001644     |              | Yes          | 0            | Graduate     | Yes          |   674        | 5296         | 168          | 360          | 1            | Rural        | Y            |\n",
       "| 315 | LP002024     |              | Yes          | 0            | Graduate     | No           |  2473        | 1843         | 159          | 360          | 1            | Rural        | N            |\n",
       "| 335 | LP002103     |              | Yes          | 1            | Graduate     | Yes          |  9833        | 1833         | 182          | 180          | 1            | Urban        | Y            |\n",
       "| 461 | LP002478     |              | Yes          | 0            | Graduate     | Yes          |  2083        | 4083         | 160          | 360          | NA           | Semiurban    | Y            |\n",
       "| 468 | LP002501     |              | Yes          | 0            | Graduate     | No           | 16692        |    0         | 110          | 360          | 1            | Semiurban    | Y            |\n",
       "| 478 | LP002530     |              | Yes          | 2            | Graduate     | No           |  2873        | 1872         | 132          | 360          | 0            | Semiurban    | N            |\n",
       "| 508 | LP002625     |              | No           | 0            | Graduate     | No           |  3583        |    0         |  96          | 360          | 1            | Urban        | N            |\n",
       "| 577 | LP002872     |              | Yes          | 0            | Graduate     | No           |  3087        | 2210         | 136          | 360          | 0            | Semiurban    | N            |\n",
       "| 589 | LP002925     |              | No           | 0            | Graduate     | No           |  4750        |    0         |  94          | 360          | 1            | Semiurban    | Y            |\n",
       "| 593 | LP002933     |              | No           | 3+           | Graduate     | Yes          |  9357        |    0         | 292          | 360          | 1            | Semiurban    | Y            |\n",
       "\n"
      ],
      "text/plain": [
       "    Loan_ID  Gender Married Dependents Education    Self_Employed\n",
       "24  LP001050        Yes     2          Not Graduate No           \n",
       "127 LP001448        Yes     3+         Graduate     No           \n",
       "172 LP001585        Yes     3+         Graduate     No           \n",
       "189 LP001644        Yes     0          Graduate     Yes          \n",
       "315 LP002024        Yes     0          Graduate     No           \n",
       "335 LP002103        Yes     1          Graduate     Yes          \n",
       "461 LP002478        Yes     0          Graduate     Yes          \n",
       "468 LP002501        Yes     0          Graduate     No           \n",
       "478 LP002530        Yes     2          Graduate     No           \n",
       "508 LP002625        No      0          Graduate     No           \n",
       "577 LP002872        Yes     0          Graduate     No           \n",
       "589 LP002925        No      0          Graduate     No           \n",
       "593 LP002933        No      3+         Graduate     Yes          \n",
       "    ApplicantIncome CoapplicantIncome LoanAmount Loan_Amount_Term\n",
       "24   3365           1917              112        360             \n",
       "127 23803              0              370        360             \n",
       "172 51763              0              700        300             \n",
       "189   674           5296              168        360             \n",
       "315  2473           1843              159        360             \n",
       "335  9833           1833              182        180             \n",
       "461  2083           4083              160        360             \n",
       "468 16692              0              110        360             \n",
       "478  2873           1872              132        360             \n",
       "508  3583              0               96        360             \n",
       "577  3087           2210              136        360             \n",
       "589  4750              0               94        360             \n",
       "593  9357              0              292        360             \n",
       "    Credit_History Property_Area Loan_Status\n",
       "24  0              Rural         N          \n",
       "127 1              Rural         Y          \n",
       "172 1              Urban         Y          \n",
       "189 1              Rural         Y          \n",
       "315 1              Rural         N          \n",
       "335 1              Urban         Y          \n",
       "461 NA             Semiurban     Y          \n",
       "468 1              Semiurban     Y          \n",
       "478 0              Semiurban     N          \n",
       "508 1              Urban         N          \n",
       "577 0              Semiurban     N          \n",
       "589 1              Semiurban     Y          \n",
       "593 1              Semiurban     Y          "
      ]
     },
     "metadata": {},
     "output_type": "display_data"
    }
   ],
   "source": [
    "train[train$Gender == '', ]"
   ]
  },
  {
   "cell_type": "code",
   "execution_count": 11,
   "metadata": {},
   "outputs": [
    {
     "data": {
      "text/html": [
       "<ol class=list-inline>\n",
       "\t<li>601</li>\n",
       "\t<li>13</li>\n",
       "</ol>\n"
      ],
      "text/latex": [
       "\\begin{enumerate*}\n",
       "\\item 601\n",
       "\\item 13\n",
       "\\end{enumerate*}\n"
      ],
      "text/markdown": [
       "1. 601\n",
       "2. 13\n",
       "\n",
       "\n"
      ],
      "text/plain": [
       "[1] 601  13"
      ]
     },
     "metadata": {},
     "output_type": "display_data"
    }
   ],
   "source": [
    "# Suppression et réorganisation:\n",
    "train <- train[-which(train$Gender == ''), ]\n",
    "train <- train[order(train$Loan_ID), ]\n",
    "\n",
    "# Suppression du level inutile:\n",
    "train$Gender <- droplevels(train$Gender)\n",
    "\n",
    "dim(train)"
   ]
  },
  {
   "cell_type": "code",
   "execution_count": 12,
   "metadata": {},
   "outputs": [
    {
     "data": {
      "text/plain": [
       "     Loan_ID       Gender    Married   Dependents        Education  \n",
       " LP001002:  1   Female:112      :  3     : 15     Graduate    :468  \n",
       " LP001003:  1   Male  :489   No :210   0 :338     Not Graduate:133  \n",
       " LP001005:  1                Yes:388   1 :101                       \n",
       " LP001006:  1                          2 : 99                       \n",
       " LP001008:  1                          3+: 48                       \n",
       " LP001011:  1                                                       \n",
       " (Other) :595                                                       \n",
       " Self_Employed ApplicantIncome CoapplicantIncome   LoanAmount   \n",
       "    : 32       Min.   :  150   Min.   :    0     Min.   :  9.0  \n",
       " No :491       1st Qu.: 2882   1st Qu.:    0     1st Qu.:100.0  \n",
       " Yes: 78       Median : 3813   Median : 1167     Median :127.0  \n",
       "               Mean   : 5297   Mean   : 1625     Mean   :145.0  \n",
       "               3rd Qu.: 5746   3rd Qu.: 2306     3rd Qu.:166.5  \n",
       "               Max.   :81000   Max.   :41667     Max.   :650.0  \n",
       "                                                 NA's   :22     \n",
       " Loan_Amount_Term Credit_History   Property_Area Loan_Status\n",
       " Min.   : 12      0   : 86       Rural    :175   N:187      \n",
       " 1st Qu.:360      1   :466       Semiurban:227   Y:414      \n",
       " Median :360      NA's: 49       Urban    :199              \n",
       " Mean   :342                                                \n",
       " 3rd Qu.:360                                                \n",
       " Max.   :480                                                \n",
       " NA's   :14                                                 "
      ]
     },
     "metadata": {},
     "output_type": "display_data"
    }
   ],
   "source": [
    "# Vérification de la suppression des valeurs manquantes de la colonne Gender et du level inutilisé:\n",
    "summary(train)"
   ]
  },
  {
   "cell_type": "markdown",
   "metadata": {},
   "source": [
    "### Colonne 'Marié':"
   ]
  },
  {
   "cell_type": "code",
   "execution_count": 13,
   "metadata": {
    "scrolled": true
   },
   "outputs": [
    {
     "data": {
      "text/html": [
       "<table>\n",
       "<thead><tr><th></th><th scope=col>Loan_ID</th><th scope=col>Gender</th><th scope=col>Married</th><th scope=col>Dependents</th><th scope=col>Education</th><th scope=col>Self_Employed</th><th scope=col>ApplicantIncome</th><th scope=col>CoapplicantIncome</th><th scope=col>LoanAmount</th><th scope=col>Loan_Amount_Term</th><th scope=col>Credit_History</th><th scope=col>Property_Area</th><th scope=col>Loan_Status</th></tr></thead>\n",
       "<tbody>\n",
       "\t<tr><th scope=row>105</th><td>LP001357 </td><td>Male     </td><td>         </td><td>         </td><td>Graduate </td><td>No       </td><td> 3816    </td><td>754      </td><td>160      </td><td>360      </td><td>1        </td><td>Urban    </td><td>Y        </td></tr>\n",
       "\t<tr><th scope=row>229</th><td>LP001760 </td><td>Male     </td><td>         </td><td>         </td><td>Graduate </td><td>No       </td><td> 4758    </td><td>  0      </td><td>158      </td><td>480      </td><td>1        </td><td>Semiurban</td><td>Y        </td></tr>\n",
       "\t<tr><th scope=row>436</th><td>LP002393 </td><td>Female   </td><td>         </td><td>         </td><td>Graduate </td><td>No       </td><td>10047    </td><td>  0      </td><td> NA      </td><td>240      </td><td>1        </td><td>Semiurban</td><td>Y        </td></tr>\n",
       "</tbody>\n",
       "</table>\n"
      ],
      "text/latex": [
       "\\begin{tabular}{r|lllllllllllll}\n",
       "  & Loan\\_ID & Gender & Married & Dependents & Education & Self\\_Employed & ApplicantIncome & CoapplicantIncome & LoanAmount & Loan\\_Amount\\_Term & Credit\\_History & Property\\_Area & Loan\\_Status\\\\\n",
       "\\hline\n",
       "\t105 & LP001357  & Male      &           &           & Graduate  & No        &  3816     & 754       & 160       & 360       & 1         & Urban     & Y        \\\\\n",
       "\t229 & LP001760  & Male      &           &           & Graduate  & No        &  4758     &   0       & 158       & 480       & 1         & Semiurban & Y        \\\\\n",
       "\t436 & LP002393  & Female    &           &           & Graduate  & No        & 10047     &   0       &  NA       & 240       & 1         & Semiurban & Y        \\\\\n",
       "\\end{tabular}\n"
      ],
      "text/markdown": [
       "\n",
       "| <!--/--> | Loan_ID | Gender | Married | Dependents | Education | Self_Employed | ApplicantIncome | CoapplicantIncome | LoanAmount | Loan_Amount_Term | Credit_History | Property_Area | Loan_Status |\n",
       "|---|---|---|---|---|---|---|---|---|---|---|---|---|---|\n",
       "| 105 | LP001357  | Male      |           |           | Graduate  | No        |  3816     | 754       | 160       | 360       | 1         | Urban     | Y         |\n",
       "| 229 | LP001760  | Male      |           |           | Graduate  | No        |  4758     |   0       | 158       | 480       | 1         | Semiurban | Y         |\n",
       "| 436 | LP002393  | Female    |           |           | Graduate  | No        | 10047     |   0       |  NA       | 240       | 1         | Semiurban | Y         |\n",
       "\n"
      ],
      "text/plain": [
       "    Loan_ID  Gender Married Dependents Education Self_Employed ApplicantIncome\n",
       "105 LP001357 Male                      Graduate  No             3816          \n",
       "229 LP001760 Male                      Graduate  No             4758          \n",
       "436 LP002393 Female                    Graduate  No            10047          \n",
       "    CoapplicantIncome LoanAmount Loan_Amount_Term Credit_History Property_Area\n",
       "105 754               160        360              1              Urban        \n",
       "229   0               158        480              1              Semiurban    \n",
       "436   0                NA        240              1              Semiurban    \n",
       "    Loan_Status\n",
       "105 Y          \n",
       "229 Y          \n",
       "436 Y          "
      ]
     },
     "metadata": {},
     "output_type": "display_data"
    }
   ],
   "source": [
    "train[train$Married == '', ]"
   ]
  },
  {
   "cell_type": "code",
   "execution_count": 14,
   "metadata": {},
   "outputs": [
    {
     "data": {
      "text/html": [
       "<ol class=list-inline>\n",
       "\t<li>598</li>\n",
       "\t<li>13</li>\n",
       "</ol>\n"
      ],
      "text/latex": [
       "\\begin{enumerate*}\n",
       "\\item 598\n",
       "\\item 13\n",
       "\\end{enumerate*}\n"
      ],
      "text/markdown": [
       "1. 598\n",
       "2. 13\n",
       "\n",
       "\n"
      ],
      "text/plain": [
       "[1] 598  13"
      ]
     },
     "metadata": {},
     "output_type": "display_data"
    }
   ],
   "source": [
    "# Suppression et réorganisation:\n",
    "train <- train[-which(train$Married == ''), ]\n",
    "train <- train[order(train$Loan_ID), ]\n",
    "\n",
    "# Suppression du level inutile:\n",
    "train$Married <- droplevels(train$Married)\n",
    "\n",
    "dim(train)"
   ]
  },
  {
   "cell_type": "markdown",
   "metadata": {},
   "source": [
    "### Colonne 'Personne à charge':"
   ]
  },
  {
   "cell_type": "code",
   "execution_count": 15,
   "metadata": {},
   "outputs": [
    {
     "data": {
      "text/html": [
       "<table>\n",
       "<thead><tr><th></th><th scope=col>Loan_ID</th><th scope=col>Gender</th><th scope=col>Married</th><th scope=col>Dependents</th><th scope=col>Education</th><th scope=col>Self_Employed</th><th scope=col>ApplicantIncome</th><th scope=col>CoapplicantIncome</th><th scope=col>LoanAmount</th><th scope=col>Loan_Amount_Term</th><th scope=col>Credit_History</th><th scope=col>Property_Area</th><th scope=col>Loan_Status</th></tr></thead>\n",
       "<tbody>\n",
       "\t<tr><th scope=row>103</th><td>LP001350    </td><td>Male        </td><td>Yes         </td><td>            </td><td>Graduate    </td><td>No          </td><td>13650       </td><td>   0        </td><td> NA         </td><td>360         </td><td>1           </td><td>Urban       </td><td>Y           </td></tr>\n",
       "\t<tr><th scope=row>121</th><td>LP001426    </td><td>Male        </td><td>Yes         </td><td>            </td><td>Graduate    </td><td>No          </td><td> 5667       </td><td>2667        </td><td>180         </td><td>360         </td><td>1           </td><td>Rural       </td><td>Y           </td></tr>\n",
       "\t<tr><th scope=row>227</th><td>LP001754    </td><td>Male        </td><td>Yes         </td><td>            </td><td>Not Graduate</td><td>Yes         </td><td> 4735       </td><td>   0        </td><td>138         </td><td>360         </td><td>1           </td><td>Urban       </td><td>N           </td></tr>\n",
       "\t<tr><th scope=row>294</th><td>LP001945    </td><td>Female      </td><td>No          </td><td>            </td><td>Graduate    </td><td>No          </td><td> 5417       </td><td>   0        </td><td>143         </td><td>480         </td><td>0           </td><td>Urban       </td><td>N           </td></tr>\n",
       "\t<tr><th scope=row>302</th><td>LP001972    </td><td>Male        </td><td>Yes         </td><td>            </td><td>Not Graduate</td><td>No          </td><td> 2875       </td><td>1750        </td><td>105         </td><td>360         </td><td>1           </td><td>Semiurban   </td><td>Y           </td></tr>\n",
       "\t<tr><th scope=row>333</th><td>LP002100    </td><td>Male        </td><td>No          </td><td>            </td><td>Graduate    </td><td>No          </td><td> 2833       </td><td>   0        </td><td> 71         </td><td>360         </td><td>1           </td><td>Urban       </td><td>Y           </td></tr>\n",
       "\t<tr><th scope=row>336</th><td>LP002106    </td><td>Male        </td><td>Yes         </td><td>            </td><td>Graduate    </td><td>Yes         </td><td> 5503       </td><td>4490        </td><td> 70         </td><td> NA         </td><td>1           </td><td>Semiurban   </td><td>Y           </td></tr>\n",
       "\t<tr><th scope=row>347</th><td>LP002130    </td><td>Male        </td><td>Yes         </td><td>            </td><td>Not Graduate</td><td>No          </td><td> 3523       </td><td>3230        </td><td>152         </td><td>360         </td><td>0           </td><td>Rural       </td><td>N           </td></tr>\n",
       "\t<tr><th scope=row>356</th><td>LP002144    </td><td>Female      </td><td>No          </td><td>            </td><td>Graduate    </td><td>No          </td><td> 3813       </td><td>   0        </td><td>116         </td><td>180         </td><td>1           </td><td>Urban       </td><td>Y           </td></tr>\n",
       "\t<tr><th scope=row>518</th><td>LP002682    </td><td>Male        </td><td>Yes         </td><td>            </td><td>Not Graduate</td><td>No          </td><td> 3074       </td><td>1800        </td><td>123         </td><td>360         </td><td>0           </td><td>Semiurban   </td><td>N           </td></tr>\n",
       "\t<tr><th scope=row>572</th><td>LP002847    </td><td>Male        </td><td>Yes         </td><td>            </td><td>Graduate    </td><td>No          </td><td> 5116       </td><td>1451        </td><td>165         </td><td>360         </td><td>0           </td><td>Urban       </td><td>N           </td></tr>\n",
       "\t<tr><th scope=row>598</th><td>LP002943    </td><td>Male        </td><td>No          </td><td>            </td><td>Graduate    </td><td>No          </td><td> 2987       </td><td>   0        </td><td> 88         </td><td>360         </td><td>0           </td><td>Semiurban   </td><td>N           </td></tr>\n",
       "</tbody>\n",
       "</table>\n"
      ],
      "text/latex": [
       "\\begin{tabular}{r|lllllllllllll}\n",
       "  & Loan\\_ID & Gender & Married & Dependents & Education & Self\\_Employed & ApplicantIncome & CoapplicantIncome & LoanAmount & Loan\\_Amount\\_Term & Credit\\_History & Property\\_Area & Loan\\_Status\\\\\n",
       "\\hline\n",
       "\t103 & LP001350     & Male         & Yes          &              & Graduate     & No           & 13650        &    0         &  NA          & 360          & 1            & Urban        & Y           \\\\\n",
       "\t121 & LP001426     & Male         & Yes          &              & Graduate     & No           &  5667        & 2667         & 180          & 360          & 1            & Rural        & Y           \\\\\n",
       "\t227 & LP001754     & Male         & Yes          &              & Not Graduate & Yes          &  4735        &    0         & 138          & 360          & 1            & Urban        & N           \\\\\n",
       "\t294 & LP001945     & Female       & No           &              & Graduate     & No           &  5417        &    0         & 143          & 480          & 0            & Urban        & N           \\\\\n",
       "\t302 & LP001972     & Male         & Yes          &              & Not Graduate & No           &  2875        & 1750         & 105          & 360          & 1            & Semiurban    & Y           \\\\\n",
       "\t333 & LP002100     & Male         & No           &              & Graduate     & No           &  2833        &    0         &  71          & 360          & 1            & Urban        & Y           \\\\\n",
       "\t336 & LP002106     & Male         & Yes          &              & Graduate     & Yes          &  5503        & 4490         &  70          &  NA          & 1            & Semiurban    & Y           \\\\\n",
       "\t347 & LP002130     & Male         & Yes          &              & Not Graduate & No           &  3523        & 3230         & 152          & 360          & 0            & Rural        & N           \\\\\n",
       "\t356 & LP002144     & Female       & No           &              & Graduate     & No           &  3813        &    0         & 116          & 180          & 1            & Urban        & Y           \\\\\n",
       "\t518 & LP002682     & Male         & Yes          &              & Not Graduate & No           &  3074        & 1800         & 123          & 360          & 0            & Semiurban    & N           \\\\\n",
       "\t572 & LP002847     & Male         & Yes          &              & Graduate     & No           &  5116        & 1451         & 165          & 360          & 0            & Urban        & N           \\\\\n",
       "\t598 & LP002943     & Male         & No           &              & Graduate     & No           &  2987        &    0         &  88          & 360          & 0            & Semiurban    & N           \\\\\n",
       "\\end{tabular}\n"
      ],
      "text/markdown": [
       "\n",
       "| <!--/--> | Loan_ID | Gender | Married | Dependents | Education | Self_Employed | ApplicantIncome | CoapplicantIncome | LoanAmount | Loan_Amount_Term | Credit_History | Property_Area | Loan_Status |\n",
       "|---|---|---|---|---|---|---|---|---|---|---|---|---|---|\n",
       "| 103 | LP001350     | Male         | Yes          |              | Graduate     | No           | 13650        |    0         |  NA          | 360          | 1            | Urban        | Y            |\n",
       "| 121 | LP001426     | Male         | Yes          |              | Graduate     | No           |  5667        | 2667         | 180          | 360          | 1            | Rural        | Y            |\n",
       "| 227 | LP001754     | Male         | Yes          |              | Not Graduate | Yes          |  4735        |    0         | 138          | 360          | 1            | Urban        | N            |\n",
       "| 294 | LP001945     | Female       | No           |              | Graduate     | No           |  5417        |    0         | 143          | 480          | 0            | Urban        | N            |\n",
       "| 302 | LP001972     | Male         | Yes          |              | Not Graduate | No           |  2875        | 1750         | 105          | 360          | 1            | Semiurban    | Y            |\n",
       "| 333 | LP002100     | Male         | No           |              | Graduate     | No           |  2833        |    0         |  71          | 360          | 1            | Urban        | Y            |\n",
       "| 336 | LP002106     | Male         | Yes          |              | Graduate     | Yes          |  5503        | 4490         |  70          |  NA          | 1            | Semiurban    | Y            |\n",
       "| 347 | LP002130     | Male         | Yes          |              | Not Graduate | No           |  3523        | 3230         | 152          | 360          | 0            | Rural        | N            |\n",
       "| 356 | LP002144     | Female       | No           |              | Graduate     | No           |  3813        |    0         | 116          | 180          | 1            | Urban        | Y            |\n",
       "| 518 | LP002682     | Male         | Yes          |              | Not Graduate | No           |  3074        | 1800         | 123          | 360          | 0            | Semiurban    | N            |\n",
       "| 572 | LP002847     | Male         | Yes          |              | Graduate     | No           |  5116        | 1451         | 165          | 360          | 0            | Urban        | N            |\n",
       "| 598 | LP002943     | Male         | No           |              | Graduate     | No           |  2987        |    0         |  88          | 360          | 0            | Semiurban    | N            |\n",
       "\n"
      ],
      "text/plain": [
       "    Loan_ID  Gender Married Dependents Education    Self_Employed\n",
       "103 LP001350 Male   Yes                Graduate     No           \n",
       "121 LP001426 Male   Yes                Graduate     No           \n",
       "227 LP001754 Male   Yes                Not Graduate Yes          \n",
       "294 LP001945 Female No                 Graduate     No           \n",
       "302 LP001972 Male   Yes                Not Graduate No           \n",
       "333 LP002100 Male   No                 Graduate     No           \n",
       "336 LP002106 Male   Yes                Graduate     Yes          \n",
       "347 LP002130 Male   Yes                Not Graduate No           \n",
       "356 LP002144 Female No                 Graduate     No           \n",
       "518 LP002682 Male   Yes                Not Graduate No           \n",
       "572 LP002847 Male   Yes                Graduate     No           \n",
       "598 LP002943 Male   No                 Graduate     No           \n",
       "    ApplicantIncome CoapplicantIncome LoanAmount Loan_Amount_Term\n",
       "103 13650              0               NA        360             \n",
       "121  5667           2667              180        360             \n",
       "227  4735              0              138        360             \n",
       "294  5417              0              143        480             \n",
       "302  2875           1750              105        360             \n",
       "333  2833              0               71        360             \n",
       "336  5503           4490               70         NA             \n",
       "347  3523           3230              152        360             \n",
       "356  3813              0              116        180             \n",
       "518  3074           1800              123        360             \n",
       "572  5116           1451              165        360             \n",
       "598  2987              0               88        360             \n",
       "    Credit_History Property_Area Loan_Status\n",
       "103 1              Urban         Y          \n",
       "121 1              Rural         Y          \n",
       "227 1              Urban         N          \n",
       "294 0              Urban         N          \n",
       "302 1              Semiurban     Y          \n",
       "333 1              Urban         Y          \n",
       "336 1              Semiurban     Y          \n",
       "347 0              Rural         N          \n",
       "356 1              Urban         Y          \n",
       "518 0              Semiurban     N          \n",
       "572 0              Urban         N          \n",
       "598 0              Semiurban     N          "
      ]
     },
     "metadata": {},
     "output_type": "display_data"
    }
   ],
   "source": [
    "train[train$Dependents == '', ]"
   ]
  },
  {
   "cell_type": "code",
   "execution_count": 16,
   "metadata": {},
   "outputs": [
    {
     "data": {
      "text/html": [
       "<ol class=list-inline>\n",
       "\t<li>586</li>\n",
       "\t<li>13</li>\n",
       "</ol>\n"
      ],
      "text/latex": [
       "\\begin{enumerate*}\n",
       "\\item 586\n",
       "\\item 13\n",
       "\\end{enumerate*}\n"
      ],
      "text/markdown": [
       "1. 586\n",
       "2. 13\n",
       "\n",
       "\n"
      ],
      "text/plain": [
       "[1] 586  13"
      ]
     },
     "metadata": {},
     "output_type": "display_data"
    }
   ],
   "source": [
    "# Suppression et réorganisation:\n",
    "train <- train[-which(train$Dependents == ''), ]\n",
    "train <- train[order(train$Loan_ID), ]\n",
    "\n",
    "# Suppression du level inutile:\n",
    "train$Dependents <- droplevels(factor(train$Dependents))\n",
    "\n",
    "dim(train)"
   ]
  },
  {
   "cell_type": "markdown",
   "metadata": {},
   "source": [
    "### Colonne 'Travailleur indépendant':"
   ]
  },
  {
   "cell_type": "code",
   "execution_count": 17,
   "metadata": {},
   "outputs": [
    {
     "data": {
      "text/html": [
       "<table>\n",
       "<thead><tr><th></th><th scope=col>Loan_ID</th><th scope=col>Gender</th><th scope=col>Married</th><th scope=col>Dependents</th><th scope=col>Education</th><th scope=col>Self_Employed</th><th scope=col>ApplicantIncome</th><th scope=col>CoapplicantIncome</th><th scope=col>LoanAmount</th><th scope=col>Loan_Amount_Term</th><th scope=col>Credit_History</th><th scope=col>Property_Area</th><th scope=col>Loan_Status</th></tr></thead>\n",
       "<tbody>\n",
       "\t<tr><th scope=row>12</th><td>LP001027    </td><td>Male        </td><td>Yes         </td><td>2           </td><td>Graduate    </td><td>            </td><td>2500        </td><td>1840        </td><td>109         </td><td>360         </td><td>1           </td><td>Urban       </td><td>Y           </td></tr>\n",
       "\t<tr><th scope=row>20</th><td>LP001041    </td><td>Male        </td><td>Yes         </td><td>0           </td><td>Graduate    </td><td>            </td><td>2600        </td><td>3500        </td><td>115         </td><td> NA         </td><td>1           </td><td>Urban       </td><td>Y           </td></tr>\n",
       "\t<tr><th scope=row>25</th><td>LP001052    </td><td>Male        </td><td>Yes         </td><td>1           </td><td>Graduate    </td><td>            </td><td>3717        </td><td>2925        </td><td>151         </td><td>360         </td><td>NA          </td><td>Semiurban   </td><td>N           </td></tr>\n",
       "\t<tr><th scope=row>30</th><td>LP001087    </td><td>Female      </td><td>No          </td><td>2           </td><td>Graduate    </td><td>            </td><td>3750        </td><td>2083        </td><td>120         </td><td>360         </td><td>1           </td><td>Semiurban   </td><td>Y           </td></tr>\n",
       "\t<tr><th scope=row>31</th><td>LP001091    </td><td>Male        </td><td>Yes         </td><td>1           </td><td>Graduate    </td><td>            </td><td>4166        </td><td>3369        </td><td>201         </td><td>360         </td><td>NA          </td><td>Urban       </td><td>N           </td></tr>\n",
       "\t<tr><th scope=row>96</th><td>LP001326    </td><td>Male        </td><td>No          </td><td>0           </td><td>Graduate    </td><td>            </td><td>6782        </td><td>   0        </td><td> NA         </td><td>360         </td><td>NA          </td><td>Urban       </td><td>N           </td></tr>\n",
       "\t<tr><th scope=row>108</th><td>LP001370    </td><td>Male        </td><td>No          </td><td>0           </td><td>Not Graduate</td><td>            </td><td>7333        </td><td>   0        </td><td>120         </td><td>360         </td><td>1           </td><td>Rural       </td><td>N           </td></tr>\n",
       "\t<tr><th scope=row>112</th><td>LP001387    </td><td>Female      </td><td>Yes         </td><td>0           </td><td>Graduate    </td><td>            </td><td>2929        </td><td>2333        </td><td>139         </td><td>360         </td><td>1           </td><td>Semiurban   </td><td>Y           </td></tr>\n",
       "\t<tr><th scope=row>...</th><td>...</td><td>...</td><td>...</td><td>...</td><td>...</td><td>...</td><td>...</td><td>...</td><td>...</td><td>...</td><td>...</td><td>...</td><td>...</td></tr>\n",
       "\t<tr><th scope=row>464</th><td>LP002489    </td><td>Female      </td><td>No          </td><td>1           </td><td>Not Graduate</td><td>            </td><td>5191        </td><td>    0       </td><td>132         </td><td>360         </td><td>1           </td><td>Semiurban   </td><td>Y           </td></tr>\n",
       "\t<tr><th scope=row>469</th><td>LP002502    </td><td>Female      </td><td>Yes         </td><td>2           </td><td>Not Graduate</td><td>            </td><td> 210        </td><td> 2917       </td><td> 98         </td><td>360         </td><td>1           </td><td>Semiurban   </td><td>Y           </td></tr>\n",
       "\t<tr><th scope=row>536</th><td>LP002732    </td><td>Male        </td><td>No          </td><td>0           </td><td>Not Graduate</td><td>            </td><td>2550        </td><td> 2042       </td><td>126         </td><td>360         </td><td>1           </td><td>Rural       </td><td>Y           </td></tr>\n",
       "\t<tr><th scope=row>543</th><td>LP002753    </td><td>Female      </td><td>No          </td><td>1           </td><td>Graduate    </td><td>            </td><td>3652        </td><td>    0       </td><td> 95         </td><td>360         </td><td>1           </td><td>Semiurban   </td><td>Y           </td></tr>\n",
       "\t<tr><th scope=row>580</th><td>LP002888    </td><td>Male        </td><td>No          </td><td>0           </td><td>Graduate    </td><td>            </td><td>3182        </td><td> 2917       </td><td>161         </td><td>360         </td><td>1           </td><td>Urban       </td><td>Y           </td></tr>\n",
       "\t<tr><th scope=row>601</th><td>LP002949    </td><td>Female      </td><td>No          </td><td>3+          </td><td>Graduate    </td><td>            </td><td> 416        </td><td>41667       </td><td>350         </td><td>180         </td><td>NA          </td><td>Urban       </td><td>N           </td></tr>\n",
       "\t<tr><th scope=row>602</th><td>LP002950    </td><td>Male        </td><td>Yes         </td><td>0           </td><td>Not Graduate</td><td>            </td><td>2894        </td><td> 2792       </td><td>155         </td><td>360         </td><td>1           </td><td>Rural       </td><td>Y           </td></tr>\n",
       "</tbody>\n",
       "</table>\n"
      ],
      "text/latex": [
       "\\begin{tabular}{r|lllllllllllll}\n",
       "  & Loan\\_ID & Gender & Married & Dependents & Education & Self\\_Employed & ApplicantIncome & CoapplicantIncome & LoanAmount & Loan\\_Amount\\_Term & Credit\\_History & Property\\_Area & Loan\\_Status\\\\\n",
       "\\hline\n",
       "\t12 & LP001027     & Male         & Yes          & 2            & Graduate     &              & 2500         & 1840         & 109          & 360          & 1            & Urban        & Y           \\\\\n",
       "\t20 & LP001041     & Male         & Yes          & 0            & Graduate     &              & 2600         & 3500         & 115          &  NA          & 1            & Urban        & Y           \\\\\n",
       "\t25 & LP001052     & Male         & Yes          & 1            & Graduate     &              & 3717         & 2925         & 151          & 360          & NA           & Semiurban    & N           \\\\\n",
       "\t30 & LP001087     & Female       & No           & 2            & Graduate     &              & 3750         & 2083         & 120          & 360          & 1            & Semiurban    & Y           \\\\\n",
       "\t31 & LP001091     & Male         & Yes          & 1            & Graduate     &              & 4166         & 3369         & 201          & 360          & NA           & Urban        & N           \\\\\n",
       "\t96 & LP001326     & Male         & No           & 0            & Graduate     &              & 6782         &    0         &  NA          & 360          & NA           & Urban        & N           \\\\\n",
       "\t108 & LP001370     & Male         & No           & 0            & Not Graduate &              & 7333         &    0         & 120          & 360          & 1            & Rural        & N           \\\\\n",
       "\t112 & LP001387     & Female       & Yes          & 0            & Graduate     &              & 2929         & 2333         & 139          & 360          & 1            & Semiurban    & Y           \\\\\n",
       "\t... & ... & ... & ... & ... & ... & ... & ... & ... & ... & ... & ... & ... & ...\\\\\n",
       "\t464 & LP002489     & Female       & No           & 1            & Not Graduate &              & 5191         &     0        & 132          & 360          & 1            & Semiurban    & Y           \\\\\n",
       "\t469 & LP002502     & Female       & Yes          & 2            & Not Graduate &              &  210         &  2917        &  98          & 360          & 1            & Semiurban    & Y           \\\\\n",
       "\t536 & LP002732     & Male         & No           & 0            & Not Graduate &              & 2550         &  2042        & 126          & 360          & 1            & Rural        & Y           \\\\\n",
       "\t543 & LP002753     & Female       & No           & 1            & Graduate     &              & 3652         &     0        &  95          & 360          & 1            & Semiurban    & Y           \\\\\n",
       "\t580 & LP002888     & Male         & No           & 0            & Graduate     &              & 3182         &  2917        & 161          & 360          & 1            & Urban        & Y           \\\\\n",
       "\t601 & LP002949     & Female       & No           & 3+           & Graduate     &              &  416         & 41667        & 350          & 180          & NA           & Urban        & N           \\\\\n",
       "\t602 & LP002950     & Male         & Yes          & 0            & Not Graduate &              & 2894         &  2792        & 155          & 360          & 1            & Rural        & Y           \\\\\n",
       "\\end{tabular}\n"
      ],
      "text/markdown": [
       "\n",
       "| <!--/--> | Loan_ID | Gender | Married | Dependents | Education | Self_Employed | ApplicantIncome | CoapplicantIncome | LoanAmount | Loan_Amount_Term | Credit_History | Property_Area | Loan_Status |\n",
       "|---|---|---|---|---|---|---|---|---|---|---|---|---|---|\n",
       "| 12 | LP001027     | Male         | Yes          | 2            | Graduate     |              | 2500         | 1840         | 109          | 360          | 1            | Urban        | Y            |\n",
       "| 20 | LP001041     | Male         | Yes          | 0            | Graduate     |              | 2600         | 3500         | 115          |  NA          | 1            | Urban        | Y            |\n",
       "| 25 | LP001052     | Male         | Yes          | 1            | Graduate     |              | 3717         | 2925         | 151          | 360          | NA           | Semiurban    | N            |\n",
       "| 30 | LP001087     | Female       | No           | 2            | Graduate     |              | 3750         | 2083         | 120          | 360          | 1            | Semiurban    | Y            |\n",
       "| 31 | LP001091     | Male         | Yes          | 1            | Graduate     |              | 4166         | 3369         | 201          | 360          | NA           | Urban        | N            |\n",
       "| 96 | LP001326     | Male         | No           | 0            | Graduate     |              | 6782         |    0         |  NA          | 360          | NA           | Urban        | N            |\n",
       "| 108 | LP001370     | Male         | No           | 0            | Not Graduate |              | 7333         |    0         | 120          | 360          | 1            | Rural        | N            |\n",
       "| 112 | LP001387     | Female       | Yes          | 0            | Graduate     |              | 2929         | 2333         | 139          | 360          | 1            | Semiurban    | Y            |\n",
       "| ... | ... | ... | ... | ... | ... | ... | ... | ... | ... | ... | ... | ... | ... |\n",
       "| 464 | LP002489     | Female       | No           | 1            | Not Graduate |              | 5191         |     0        | 132          | 360          | 1            | Semiurban    | Y            |\n",
       "| 469 | LP002502     | Female       | Yes          | 2            | Not Graduate |              |  210         |  2917        |  98          | 360          | 1            | Semiurban    | Y            |\n",
       "| 536 | LP002732     | Male         | No           | 0            | Not Graduate |              | 2550         |  2042        | 126          | 360          | 1            | Rural        | Y            |\n",
       "| 543 | LP002753     | Female       | No           | 1            | Graduate     |              | 3652         |     0        |  95          | 360          | 1            | Semiurban    | Y            |\n",
       "| 580 | LP002888     | Male         | No           | 0            | Graduate     |              | 3182         |  2917        | 161          | 360          | 1            | Urban        | Y            |\n",
       "| 601 | LP002949     | Female       | No           | 3+           | Graduate     |              |  416         | 41667        | 350          | 180          | NA           | Urban        | N            |\n",
       "| 602 | LP002950     | Male         | Yes          | 0            | Not Graduate |              | 2894         |  2792        | 155          | 360          | 1            | Rural        | Y            |\n",
       "\n"
      ],
      "text/plain": [
       "    Loan_ID  Gender Married Dependents Education    Self_Employed\n",
       "12  LP001027 Male   Yes     2          Graduate                  \n",
       "20  LP001041 Male   Yes     0          Graduate                  \n",
       "25  LP001052 Male   Yes     1          Graduate                  \n",
       "30  LP001087 Female No      2          Graduate                  \n",
       "31  LP001091 Male   Yes     1          Graduate                  \n",
       "96  LP001326 Male   No      0          Graduate                  \n",
       "108 LP001370 Male   No      0          Not Graduate              \n",
       "112 LP001387 Female Yes     0          Graduate                  \n",
       "... ...      ...    ...     ...        ...          ...          \n",
       "464 LP002489 Female No      1          Not Graduate              \n",
       "469 LP002502 Female Yes     2          Not Graduate              \n",
       "536 LP002732 Male   No      0          Not Graduate              \n",
       "543 LP002753 Female No      1          Graduate                  \n",
       "580 LP002888 Male   No      0          Graduate                  \n",
       "601 LP002949 Female No      3+         Graduate                  \n",
       "602 LP002950 Male   Yes     0          Not Graduate              \n",
       "    ApplicantIncome CoapplicantIncome LoanAmount Loan_Amount_Term\n",
       "12  2500            1840              109        360             \n",
       "20  2600            3500              115         NA             \n",
       "25  3717            2925              151        360             \n",
       "30  3750            2083              120        360             \n",
       "31  4166            3369              201        360             \n",
       "96  6782               0               NA        360             \n",
       "108 7333               0              120        360             \n",
       "112 2929            2333              139        360             \n",
       "... ...             ...               ...        ...             \n",
       "464 5191                0             132        360             \n",
       "469  210             2917              98        360             \n",
       "536 2550             2042             126        360             \n",
       "543 3652                0              95        360             \n",
       "580 3182             2917             161        360             \n",
       "601  416            41667             350        180             \n",
       "602 2894             2792             155        360             \n",
       "    Credit_History Property_Area Loan_Status\n",
       "12  1              Urban         Y          \n",
       "20  1              Urban         Y          \n",
       "25  NA             Semiurban     N          \n",
       "30  1              Semiurban     Y          \n",
       "31  NA             Urban         N          \n",
       "96  NA             Urban         N          \n",
       "108 1              Rural         N          \n",
       "112 1              Semiurban     Y          \n",
       "... ...            ...           ...        \n",
       "464 1              Semiurban     Y          \n",
       "469 1              Semiurban     Y          \n",
       "536 1              Rural         Y          \n",
       "543 1              Semiurban     Y          \n",
       "580 1              Urban         Y          \n",
       "601 NA             Urban         N          \n",
       "602 1              Rural         Y          "
      ]
     },
     "metadata": {},
     "output_type": "display_data"
    }
   ],
   "source": [
    "train[train$Self_Employed == '', ]"
   ]
  },
  {
   "cell_type": "code",
   "execution_count": 18,
   "metadata": {},
   "outputs": [
    {
     "data": {
      "text/html": [
       "<ol class=list-inline>\n",
       "\t<li>554</li>\n",
       "\t<li>13</li>\n",
       "</ol>\n"
      ],
      "text/latex": [
       "\\begin{enumerate*}\n",
       "\\item 554\n",
       "\\item 13\n",
       "\\end{enumerate*}\n"
      ],
      "text/markdown": [
       "1. 554\n",
       "2. 13\n",
       "\n",
       "\n"
      ],
      "text/plain": [
       "[1] 554  13"
      ]
     },
     "metadata": {},
     "output_type": "display_data"
    }
   ],
   "source": [
    "# Regroupement et réorganisation:\n",
    "train <- train[-which(train$Self_Employed == ''), ]\n",
    "train <- train[order(train$Loan_ID), ]\n",
    "\n",
    "# Suppression du level inutile:\n",
    "train$Self_Employed <- droplevels(train$Self_Employed)\n",
    "\n",
    "dim(train)"
   ]
  },
  {
   "cell_type": "code",
   "execution_count": 19,
   "metadata": {},
   "outputs": [
    {
     "data": {
      "text/plain": [
       "     Loan_ID       Gender    Married   Dependents        Education  \n",
       " LP001002:  1   Female:101   No :192   0 :319     Graduate    :431  \n",
       " LP001003:  1   Male  :453   Yes:362   1 : 95     Not Graduate:123  \n",
       " LP001005:  1                          2 : 94                       \n",
       " LP001006:  1                          3+: 46                       \n",
       " LP001008:  1                                                       \n",
       " LP001011:  1                                                       \n",
       " (Other) :548                                                       \n",
       " Self_Employed ApplicantIncome CoapplicantIncome   LoanAmount   \n",
       " No :478       Min.   :  150   Min.   :    0     Min.   :  9.0  \n",
       " Yes: 76       1st Qu.: 2844   1st Qu.:    0     1st Qu.:100.0  \n",
       "               Median : 3840   Median : 1149     Median :127.0  \n",
       "               Mean   : 5267   Mean   : 1586     Mean   :144.9  \n",
       "               3rd Qu.: 5819   3rd Qu.: 2297     3rd Qu.:170.0  \n",
       "               Max.   :81000   Max.   :33837     Max.   :650.0  \n",
       "                                                 NA's   :19     \n",
       " Loan_Amount_Term Credit_History   Property_Area Loan_Status\n",
       " Min.   : 12      0   : 80       Rural    :163   N:172      \n",
       " 1st Qu.:360      1   :431       Semiurban:211   Y:382      \n",
       " Median :360      NA's: 43       Urban    :180              \n",
       " Mean   :342                                                \n",
       " 3rd Qu.:360                                                \n",
       " Max.   :480                                                \n",
       " NA's   :12                                                 "
      ]
     },
     "metadata": {},
     "output_type": "display_data"
    }
   ],
   "source": [
    "summary(train)"
   ]
  },
  {
   "cell_type": "markdown",
   "metadata": {},
   "source": [
    "<a href=\"#sommaire\">Retour au sommaire</a>\n",
    "## <span style='color:brown'>c) Valeurs quantitatives manquantes.<a name=\"M113\"></a>"
   ]
  },
  {
   "cell_type": "code",
   "execution_count": 20,
   "metadata": {},
   "outputs": [
    {
     "name": "stdout",
     "output_type": "stream",
     "text": [
      "'data.frame':\t554 obs. of  13 variables:\n",
      " $ Loan_ID          : Factor w/ 614 levels \"LP001002\",\"LP001003\",..: 1 2 3 4 5 6 7 8 9 10 ...\n",
      " $ Gender           : Factor w/ 2 levels \"Female\",\"Male\": 2 2 2 2 2 2 2 2 2 2 ...\n",
      " $ Married          : Factor w/ 2 levels \"No\",\"Yes\": 1 2 2 2 1 2 2 2 2 2 ...\n",
      " $ Dependents       : Factor w/ 4 levels \"0\",\"1\",\"2\",\"3+\": 1 2 1 1 1 3 1 4 3 2 ...\n",
      " $ Education        : Factor w/ 2 levels \"Graduate\",\"Not Graduate\": 1 1 1 2 1 1 2 1 1 1 ...\n",
      " $ Self_Employed    : Factor w/ 2 levels \"No\",\"Yes\": 1 1 2 1 1 2 1 1 1 1 ...\n",
      " $ ApplicantIncome  : int  5849 4583 3000 2583 6000 5417 2333 3036 4006 12841 ...\n",
      " $ CoapplicantIncome: num  0 1508 0 2358 0 ...\n",
      " $ LoanAmount       : int  NA 128 66 120 141 267 95 158 168 349 ...\n",
      " $ Loan_Amount_Term : int  360 360 360 360 360 360 360 360 360 360 ...\n",
      " $ Credit_History   : Factor w/ 2 levels \"0\",\"1\": 2 2 2 2 2 2 2 1 2 2 ...\n",
      " $ Property_Area    : Factor w/ 3 levels \"Rural\",\"Semiurban\",..: 3 1 3 3 3 3 3 2 3 2 ...\n",
      " $ Loan_Status      : Factor w/ 2 levels \"N\",\"Y\": 2 1 2 2 2 2 2 1 2 1 ...\n"
     ]
    }
   ],
   "source": [
    "str(train)"
   ]
  },
  {
   "cell_type": "code",
   "execution_count": 21,
   "metadata": {},
   "outputs": [
    {
     "data": {
      "text/html": [
       "<dl class=dl-horizontal>\n",
       "\t<dt>Loan_ID</dt>\n",
       "\t\t<dd>0</dd>\n",
       "\t<dt>Gender</dt>\n",
       "\t\t<dd>0</dd>\n",
       "\t<dt>Married</dt>\n",
       "\t\t<dd>0</dd>\n",
       "\t<dt>Dependents</dt>\n",
       "\t\t<dd>0</dd>\n",
       "\t<dt>Education</dt>\n",
       "\t\t<dd>0</dd>\n",
       "\t<dt>Self_Employed</dt>\n",
       "\t\t<dd>0</dd>\n",
       "\t<dt>ApplicantIncome</dt>\n",
       "\t\t<dd>0</dd>\n",
       "\t<dt>CoapplicantIncome</dt>\n",
       "\t\t<dd>0</dd>\n",
       "\t<dt>LoanAmount</dt>\n",
       "\t\t<dd>19</dd>\n",
       "\t<dt>Loan_Amount_Term</dt>\n",
       "\t\t<dd>12</dd>\n",
       "\t<dt>Credit_History</dt>\n",
       "\t\t<dd>43</dd>\n",
       "\t<dt>Property_Area</dt>\n",
       "\t\t<dd>0</dd>\n",
       "\t<dt>Loan_Status</dt>\n",
       "\t\t<dd>0</dd>\n",
       "</dl>\n"
      ],
      "text/latex": [
       "\\begin{description*}\n",
       "\\item[Loan\\textbackslash{}\\_ID] 0\n",
       "\\item[Gender] 0\n",
       "\\item[Married] 0\n",
       "\\item[Dependents] 0\n",
       "\\item[Education] 0\n",
       "\\item[Self\\textbackslash{}\\_Employed] 0\n",
       "\\item[ApplicantIncome] 0\n",
       "\\item[CoapplicantIncome] 0\n",
       "\\item[LoanAmount] 19\n",
       "\\item[Loan\\textbackslash{}\\_Amount\\textbackslash{}\\_Term] 12\n",
       "\\item[Credit\\textbackslash{}\\_History] 43\n",
       "\\item[Property\\textbackslash{}\\_Area] 0\n",
       "\\item[Loan\\textbackslash{}\\_Status] 0\n",
       "\\end{description*}\n"
      ],
      "text/markdown": [
       "Loan_ID\n",
       ":   0Gender\n",
       ":   0Married\n",
       ":   0Dependents\n",
       ":   0Education\n",
       ":   0Self_Employed\n",
       ":   0ApplicantIncome\n",
       ":   0CoapplicantIncome\n",
       ":   0LoanAmount\n",
       ":   19Loan_Amount_Term\n",
       ":   12Credit_History\n",
       ":   43Property_Area\n",
       ":   0Loan_Status\n",
       ":   0\n",
       "\n"
      ],
      "text/plain": [
       "          Loan_ID            Gender           Married        Dependents \n",
       "                0                 0                 0                 0 \n",
       "        Education     Self_Employed   ApplicantIncome CoapplicantIncome \n",
       "                0                 0                 0                 0 \n",
       "       LoanAmount  Loan_Amount_Term    Credit_History     Property_Area \n",
       "               19                12                43                 0 \n",
       "      Loan_Status \n",
       "                0 "
      ]
     },
     "metadata": {},
     "output_type": "display_data"
    }
   ],
   "source": [
    "# Valeurs quantitatives manquantes:\n",
    "sapply(train, function(x) sum(is.na(x)))"
   ]
  },
  {
   "cell_type": "code",
   "execution_count": 22,
   "metadata": {},
   "outputs": [
    {
     "data": {
      "text/html": [
       "<ol class=list-inline>\n",
       "\t<li>480</li>\n",
       "\t<li>13</li>\n",
       "</ol>\n"
      ],
      "text/latex": [
       "\\begin{enumerate*}\n",
       "\\item 480\n",
       "\\item 13\n",
       "\\end{enumerate*}\n"
      ],
      "text/markdown": [
       "1. 480\n",
       "2. 13\n",
       "\n",
       "\n"
      ],
      "text/plain": [
       "[1] 480  13"
      ]
     },
     "metadata": {},
     "output_type": "display_data"
    }
   ],
   "source": [
    "train <- train[complete.cases(train[, 9:11]), ] # élimine les valeurs manquantes des colonnes sélectionnées\n",
    "rownames(train) <- 1:nrow(train)\n",
    "dim(train)"
   ]
  },
  {
   "cell_type": "markdown",
   "metadata": {},
   "source": [
    "CCL: On a perdu 134 clients dans le nettoyage soit presque 22%."
   ]
  },
  {
   "cell_type": "code",
   "execution_count": 23,
   "metadata": {},
   "outputs": [
    {
     "data": {
      "text/plain": [
       "     Loan_ID       Gender    Married   Dependents        Education  \n",
       " LP001003:  1   Female: 86   No :169   0 :274     Graduate    :383  \n",
       " LP001005:  1   Male  :394   Yes:311   1 : 80     Not Graduate: 97  \n",
       " LP001006:  1                          2 : 85                       \n",
       " LP001008:  1                          3+: 41                       \n",
       " LP001011:  1                                                       \n",
       " LP001013:  1                                                       \n",
       " (Other) :474                                                       \n",
       " Self_Employed ApplicantIncome CoapplicantIncome   LoanAmount   \n",
       " No :414       Min.   :  150   Min.   :    0     Min.   :  9.0  \n",
       " Yes: 66       1st Qu.: 2899   1st Qu.:    0     1st Qu.:100.0  \n",
       "               Median : 3859   Median : 1084     Median :128.0  \n",
       "               Mean   : 5364   Mean   : 1581     Mean   :144.7  \n",
       "               3rd Qu.: 5852   3rd Qu.: 2253     3rd Qu.:170.0  \n",
       "               Max.   :81000   Max.   :33837     Max.   :600.0  \n",
       "                                                                \n",
       " Loan_Amount_Term Credit_History   Property_Area Loan_Status\n",
       " Min.   : 36.0    0: 70          Rural    :139   N:148      \n",
       " 1st Qu.:360.0    1:410          Semiurban:191   Y:332      \n",
       " Median :360.0                   Urban    :150              \n",
       " Mean   :342.1                                              \n",
       " 3rd Qu.:360.0                                              \n",
       " Max.   :480.0                                              \n",
       "                                                            "
      ]
     },
     "metadata": {},
     "output_type": "display_data"
    }
   ],
   "source": [
    "# Vérification:\n",
    "summary(train)"
   ]
  },
  {
   "cell_type": "markdown",
   "metadata": {},
   "source": [
    "On fractionne de 10% le dataset 'train' afin d'en créer un nouveau, dans le but uniquement de tester la fiabilité de la modélisation avec des clients \"nouveaux\" et des notations de crédit connus d'avance.\n",
    "On scinde de la 'quantité' voulue de lignes-clients le jeu de donnée et on ne procède pas par randomisation pour ne pas modifer les paramètres de la modélisation par la suite."
   ]
  },
  {
   "cell_type": "code",
   "execution_count": 24,
   "metadata": {},
   "outputs": [],
   "source": [
    "essai <- train[431:480, ]\n",
    "train <- train[1:430, ]"
   ]
  },
  {
   "cell_type": "code",
   "execution_count": 25,
   "metadata": {},
   "outputs": [
    {
     "data": {
      "text/html": [
       "<ol class=list-inline>\n",
       "\t<li>430</li>\n",
       "\t<li>13</li>\n",
       "</ol>\n"
      ],
      "text/latex": [
       "\\begin{enumerate*}\n",
       "\\item 430\n",
       "\\item 13\n",
       "\\end{enumerate*}\n"
      ],
      "text/markdown": [
       "1. 430\n",
       "2. 13\n",
       "\n",
       "\n"
      ],
      "text/plain": [
       "[1] 430  13"
      ]
     },
     "metadata": {},
     "output_type": "display_data"
    }
   ],
   "source": [
    "dim(train)"
   ]
  },
  {
   "cell_type": "code",
   "execution_count": 26,
   "metadata": {},
   "outputs": [
    {
     "data": {
      "text/html": [
       "<ol class=list-inline>\n",
       "\t<li>50</li>\n",
       "\t<li>13</li>\n",
       "</ol>\n"
      ],
      "text/latex": [
       "\\begin{enumerate*}\n",
       "\\item 50\n",
       "\\item 13\n",
       "\\end{enumerate*}\n"
      ],
      "text/markdown": [
       "1. 50\n",
       "2. 13\n",
       "\n",
       "\n"
      ],
      "text/plain": [
       "[1] 50 13"
      ]
     },
     "metadata": {},
     "output_type": "display_data"
    }
   ],
   "source": [
    "dim(essai)"
   ]
  },
  {
   "cell_type": "code",
   "execution_count": 27,
   "metadata": {},
   "outputs": [
    {
     "data": {
      "text/plain": [
       "\n",
       " N  Y \n",
       "15 35 "
      ]
     },
     "metadata": {},
     "output_type": "display_data"
    }
   ],
   "source": [
    "table(essai$Loan_Status)"
   ]
  },
  {
   "cell_type": "code",
   "execution_count": 28,
   "metadata": {},
   "outputs": [
    {
     "data": {
      "text/html": [
       "<table>\n",
       "<thead><tr><th></th><th scope=col>Loan_ID</th><th scope=col>Gender</th><th scope=col>Married</th><th scope=col>Dependents</th><th scope=col>Education</th><th scope=col>Self_Employed</th><th scope=col>ApplicantIncome</th><th scope=col>CoapplicantIncome</th><th scope=col>LoanAmount</th><th scope=col>Loan_Amount_Term</th><th scope=col>Credit_History</th><th scope=col>Property_Area</th><th scope=col>Loan_Status</th></tr></thead>\n",
       "<tbody>\n",
       "\t<tr><th scope=row>431</th><td>LP002785    </td><td>Male        </td><td>Yes         </td><td>1           </td><td>Graduate    </td><td>No          </td><td> 3333       </td><td>3250        </td><td>158         </td><td>360         </td><td>1           </td><td>Urban       </td><td>Y           </td></tr>\n",
       "\t<tr><th scope=row>432</th><td>LP002788    </td><td>Male        </td><td>Yes         </td><td>0           </td><td>Not Graduate</td><td>No          </td><td> 2454       </td><td>2333        </td><td>181         </td><td>360         </td><td>0           </td><td>Urban       </td><td>N           </td></tr>\n",
       "\t<tr><th scope=row>433</th><td>LP002789    </td><td>Male        </td><td>Yes         </td><td>0           </td><td>Graduate    </td><td>No          </td><td> 3593       </td><td>4266        </td><td>132         </td><td>180         </td><td>0           </td><td>Rural       </td><td>N           </td></tr>\n",
       "\t<tr><th scope=row>434</th><td>LP002792    </td><td>Male        </td><td>Yes         </td><td>1           </td><td>Graduate    </td><td>No          </td><td> 5468       </td><td>1032        </td><td> 26         </td><td>360         </td><td>1           </td><td>Semiurban   </td><td>Y           </td></tr>\n",
       "\t<tr><th scope=row>435</th><td>LP002795    </td><td>Male        </td><td>Yes         </td><td>3+          </td><td>Graduate    </td><td>Yes         </td><td>10139       </td><td>   0        </td><td>260         </td><td>360         </td><td>1           </td><td>Semiurban   </td><td>Y           </td></tr>\n",
       "\t<tr><th scope=row>436</th><td>LP002798    </td><td>Male        </td><td>Yes         </td><td>0           </td><td>Graduate    </td><td>No          </td><td> 3887       </td><td>2669        </td><td>162         </td><td>360         </td><td>1           </td><td>Semiurban   </td><td>Y           </td></tr>\n",
       "</tbody>\n",
       "</table>\n"
      ],
      "text/latex": [
       "\\begin{tabular}{r|lllllllllllll}\n",
       "  & Loan\\_ID & Gender & Married & Dependents & Education & Self\\_Employed & ApplicantIncome & CoapplicantIncome & LoanAmount & Loan\\_Amount\\_Term & Credit\\_History & Property\\_Area & Loan\\_Status\\\\\n",
       "\\hline\n",
       "\t431 & LP002785     & Male         & Yes          & 1            & Graduate     & No           &  3333        & 3250         & 158          & 360          & 1            & Urban        & Y           \\\\\n",
       "\t432 & LP002788     & Male         & Yes          & 0            & Not Graduate & No           &  2454        & 2333         & 181          & 360          & 0            & Urban        & N           \\\\\n",
       "\t433 & LP002789     & Male         & Yes          & 0            & Graduate     & No           &  3593        & 4266         & 132          & 180          & 0            & Rural        & N           \\\\\n",
       "\t434 & LP002792     & Male         & Yes          & 1            & Graduate     & No           &  5468        & 1032         &  26          & 360          & 1            & Semiurban    & Y           \\\\\n",
       "\t435 & LP002795     & Male         & Yes          & 3+           & Graduate     & Yes          & 10139        &    0         & 260          & 360          & 1            & Semiurban    & Y           \\\\\n",
       "\t436 & LP002798     & Male         & Yes          & 0            & Graduate     & No           &  3887        & 2669         & 162          & 360          & 1            & Semiurban    & Y           \\\\\n",
       "\\end{tabular}\n"
      ],
      "text/markdown": [
       "\n",
       "| <!--/--> | Loan_ID | Gender | Married | Dependents | Education | Self_Employed | ApplicantIncome | CoapplicantIncome | LoanAmount | Loan_Amount_Term | Credit_History | Property_Area | Loan_Status |\n",
       "|---|---|---|---|---|---|---|---|---|---|---|---|---|---|\n",
       "| 431 | LP002785     | Male         | Yes          | 1            | Graduate     | No           |  3333        | 3250         | 158          | 360          | 1            | Urban        | Y            |\n",
       "| 432 | LP002788     | Male         | Yes          | 0            | Not Graduate | No           |  2454        | 2333         | 181          | 360          | 0            | Urban        | N            |\n",
       "| 433 | LP002789     | Male         | Yes          | 0            | Graduate     | No           |  3593        | 4266         | 132          | 180          | 0            | Rural        | N            |\n",
       "| 434 | LP002792     | Male         | Yes          | 1            | Graduate     | No           |  5468        | 1032         |  26          | 360          | 1            | Semiurban    | Y            |\n",
       "| 435 | LP002795     | Male         | Yes          | 3+           | Graduate     | Yes          | 10139        |    0         | 260          | 360          | 1            | Semiurban    | Y            |\n",
       "| 436 | LP002798     | Male         | Yes          | 0            | Graduate     | No           |  3887        | 2669         | 162          | 360          | 1            | Semiurban    | Y            |\n",
       "\n"
      ],
      "text/plain": [
       "    Loan_ID  Gender Married Dependents Education    Self_Employed\n",
       "431 LP002785 Male   Yes     1          Graduate     No           \n",
       "432 LP002788 Male   Yes     0          Not Graduate No           \n",
       "433 LP002789 Male   Yes     0          Graduate     No           \n",
       "434 LP002792 Male   Yes     1          Graduate     No           \n",
       "435 LP002795 Male   Yes     3+         Graduate     Yes          \n",
       "436 LP002798 Male   Yes     0          Graduate     No           \n",
       "    ApplicantIncome CoapplicantIncome LoanAmount Loan_Amount_Term\n",
       "431  3333           3250              158        360             \n",
       "432  2454           2333              181        360             \n",
       "433  3593           4266              132        180             \n",
       "434  5468           1032               26        360             \n",
       "435 10139              0              260        360             \n",
       "436  3887           2669              162        360             \n",
       "    Credit_History Property_Area Loan_Status\n",
       "431 1              Urban         Y          \n",
       "432 0              Urban         N          \n",
       "433 0              Rural         N          \n",
       "434 1              Semiurban     Y          \n",
       "435 1              Semiurban     Y          \n",
       "436 1              Semiurban     Y          "
      ]
     },
     "metadata": {},
     "output_type": "display_data"
    }
   ],
   "source": [
    "head(essai)"
   ]
  },
  {
   "cell_type": "markdown",
   "metadata": {},
   "source": [
    "<a href=\"#sommaire\">Retour au sommaire</a>\n",
    "## <span style='color:blue'>2. Analyses univariées et bivariées.<a name=\"M12\"></a>\n",
    "## <span style='color:brown'>a) Analyses univariées.<a name=\"M121\"></a>"
   ]
  },
  {
   "cell_type": "markdown",
   "metadata": {},
   "source": [
    "### Gender:"
   ]
  },
  {
   "cell_type": "code",
   "execution_count": 29,
   "metadata": {},
   "outputs": [
    {
     "data": {
      "image/png": "[encoded data removed]",
      "text/plain": [
       "Plot with title \"Répartition par sexe\""
      ]
     },
     "metadata": {},
     "output_type": "display_data"
    }
   ],
   "source": [
    "options(repr.plot.width = 5, repr.plot.height = 5)\n",
    "plot(train$Gender, col = c('orange', 'purple'), cex.main = 1.1, main = 'Répartition par sexe')\n",
    "text(0.725, 40, sprintf('%s%%', round(prop.table(table(train$Gender))*100, 1)[1]), cex = 2)\n",
    "text(1.925, 290, sprintf('%s%%', round(prop.table(table(train$Gender))*100, 1)[2]), cex = 2)"
   ]
  },
  {
   "cell_type": "markdown",
   "metadata": {},
   "source": [
    "### Married:"
   ]
  },
  {
   "cell_type": "code",
   "execution_count": 30,
   "metadata": {},
   "outputs": [
    {
     "data": {
      "image/png": "[encoded data removed]",
      "text/plain": [
       "Plot with title \"Clients mariés\""
      ]
     },
     "metadata": {},
     "output_type": "display_data"
    }
   ],
   "source": [
    "options(repr.plot.width = 5, repr.plot.height = 5)\n",
    "plot(train$Married, col = c('red', 'green'), cex.main = 1.1, main = 'Clients mariés')\n",
    "text(0.725, 100, sprintf('%s%%', round(prop.table(table(train$Married))*100, 1)[1]), cex = 2)\n",
    "text(1.925, 220, sprintf('%s%%', round(prop.table(table(train$Married))*100, 1)[2]), cex = 2)"
   ]
  },
  {
   "cell_type": "markdown",
   "metadata": {},
   "source": [
    "### Dependents:"
   ]
  },
  {
   "cell_type": "code",
   "execution_count": 31,
   "metadata": {},
   "outputs": [
    {
     "data": {
      "image/png": "[encoded data removed]",
      "text/plain": [
       "Plot with title \"Nombre de personnes à charge\""
      ]
     },
     "metadata": {},
     "output_type": "display_data"
    }
   ],
   "source": [
    "options(repr.plot.width = 9, repr.plot.height = 5)\n",
    "plot(train$Dependents, col = c('green', 'orange', 'red', 'purple'), cex.main = 1.1, main = 'Nombre de personnes à charge')\n",
    "text(0.725, 200, sprintf('%s%%', round(prop.table(table(train$Dependents))*100, 1)[1]), cex = 2)\n",
    "text(1.925, 40, sprintf('%s%%', round(prop.table(table(train$Dependents))*100, 1)[2]), cex = 2)\n",
    "text(3.125, 40, sprintf('%s%%', round(prop.table(table(train$Dependents))*100, 1)[3]), cex = 2)\n",
    "text(4.325, 15, sprintf('%s%%', round(prop.table(table(train$Dependents))*100, 1)[4]), cex = 2)"
   ]
  },
  {
   "cell_type": "markdown",
   "metadata": {},
   "source": [
    "### Education:"
   ]
  },
  {
   "cell_type": "code",
   "execution_count": 32,
   "metadata": {},
   "outputs": [
    {
     "data": {
      "image/png": "[encoded data removed]",
      "text/plain": [
       "Plot with title \"Clients diplomés\""
      ]
     },
     "metadata": {},
     "output_type": "display_data"
    }
   ],
   "source": [
    "options(repr.plot.width = 5, repr.plot.height = 5)\n",
    "plot(train$Education, col = c('green', 'red'), cex.main = 1.1, main = 'Clients diplomés')\n",
    "text(0.725, 300, sprintf('%s%%', round(prop.table(table(train$Education))*100, 1)[1]), cex = 2)\n",
    "text(1.925, 50, sprintf('%s%%', round(prop.table(table(train$Education))*100, 1)[2]), cex = 2)"
   ]
  },
  {
   "cell_type": "markdown",
   "metadata": {},
   "source": [
    "### Self_Employed:"
   ]
  },
  {
   "cell_type": "code",
   "execution_count": 33,
   "metadata": {},
   "outputs": [
    {
     "data": {
      "image/png": "[encoded data removed]",
      "text/plain": [
       "Plot with title \"Travailleurs indépendants\""
      ]
     },
     "metadata": {},
     "output_type": "display_data"
    }
   ],
   "source": [
    "options(repr.plot.width = 5, repr.plot.height = 5)\n",
    "plot(train$Self_Employed, col = c('green', 'red'), cex.main = 1.1, main = 'Travailleurs indépendants')\n",
    "text(0.725, 330, sprintf('%s%%', round(prop.table(table(train$Self_Employed))*100, 1)[1]), cex = 2)\n",
    "text(1.925, 30, sprintf('%s%%', round(prop.table(table(train$Self_Employed))*100, 1)[2]), cex = 2)"
   ]
  },
  {
   "cell_type": "markdown",
   "metadata": {},
   "source": [
    "### Loan_Amount_Term:"
   ]
  },
  {
   "cell_type": "code",
   "execution_count": 34,
   "metadata": {},
   "outputs": [
    {
     "data": {
      "image/png": "[encoded data removed]",
      "text/plain": [
       "Plot with title \"Durée de remboursement (en jours)\""
      ]
     },
     "metadata": {},
     "output_type": "display_data"
    }
   ],
   "source": [
    "options(repr.plot.width = 9, repr.plot.height = 5)\n",
    "copy <- train\n",
    "copy$Loan_Amount_Term <- factor(copy$Loan_Amount_Term)\n",
    "plot(copy$Loan_Amount_Term, col = c('red', 'green'), cex.main = 1.1, main = 'Durée de remboursement (en jours)')\n",
    "text(0.725, 30, sprintf('%s%%', round(prop.table(table(train$Loan_Amount_Term))*100, 1)[1]), cex = 1.2)\n",
    "text(1.925, 30, sprintf('%s%%', round(prop.table(table(train$Loan_Amount_Term))*100, 1)[2]), cex = 1.2)\n",
    "text(3.125, 30, sprintf('%s%%', round(prop.table(table(train$Loan_Amount_Term))*100, 1)[3]), cex = 1.2)\n",
    "text(4.325, 30, sprintf('%s%%', round(prop.table(table(train$Loan_Amount_Term))*100, 1)[4]), cex = 1.2)\n",
    "text(5.525, 60, sprintf('%s%%', round(prop.table(table(train$Loan_Amount_Term))*100, 1)[5]), cex = 1.2)\n",
    "text(6.725, 30, sprintf('%s%%', round(prop.table(table(train$Loan_Amount_Term))*100, 1)[6]), cex = 1.2)\n",
    "text(7.925, 40, sprintf('%s%%', round(prop.table(table(train$Loan_Amount_Term))*100, 1)[7]), cex = 1.2)\n",
    "text(9.125, 330, sprintf('%s%%', round(prop.table(table(train$Loan_Amount_Term))*100, 1)[8]), cex = 1.2)\n",
    "text(10.325, 40, sprintf('%s%%', round(prop.table(table(train$Loan_Amount_Term))*100, 1)[9]), cex = 1.2)"
   ]
  },
  {
   "cell_type": "markdown",
   "metadata": {},
   "source": [
    "### Credit_History:"
   ]
  },
  {
   "cell_type": "code",
   "execution_count": 35,
   "metadata": {},
   "outputs": [
    {
     "data": {
      "image/png": "[encoded data removed]",
      "text/plain": [
       "Plot with title \"Antécédents de crédits\""
      ]
     },
     "metadata": {},
     "output_type": "display_data"
    }
   ],
   "source": [
    "options(repr.plot.width = 5, repr.plot.height = 5)\n",
    "plot(train$Credit_History, col = c('red', 'green'), cex.main = 1.1, main = 'Antécédents de crédits')\n",
    "text(0.725, 30, sprintf('%s%%', round(prop.table(table(train$Credit_History))*100, 1)[1]), cex = 2)\n",
    "text(1.925, 300, sprintf('%s%%', round(prop.table(table(train$Credit_History))*100, 1)[2]), cex = 2)"
   ]
  },
  {
   "cell_type": "markdown",
   "metadata": {},
   "source": [
    "### Property_Area:"
   ]
  },
  {
   "cell_type": "code",
   "execution_count": 36,
   "metadata": {},
   "outputs": [
    {
     "data": {
      "image/png": "[encoded data removed]",
      "text/plain": [
       "Plot with title \"Zone d'habitation\""
      ]
     },
     "metadata": {},
     "output_type": "display_data"
    }
   ],
   "source": [
    "options(repr.plot.width = 7, repr.plot.height = 5)\n",
    "plot(train$Property_Area, col = c('red', 'yellow', 'green'), cex.main = 1.1, main = 'Zone d\\'habitation')\n",
    "text(0.725, 100, sprintf('%s%%', round(prop.table(table(train$Property_Area))*100, 1)[1]), cex = 2)\n",
    "text(1.925, 150, sprintf('%s%%', round(prop.table(table(train$Property_Area))*100, 1)[2]), cex = 2)\n",
    "text(3.125, 110, sprintf('%s%%', round(prop.table(table(train$Property_Area))*100, 1)[3]), cex = 2)"
   ]
  },
  {
   "cell_type": "markdown",
   "metadata": {},
   "source": [
    "### Loan_Status:"
   ]
  },
  {
   "cell_type": "code",
   "execution_count": 37,
   "metadata": {},
   "outputs": [
    {
     "data": {
      "text/plain": [
       "\n",
       "  N   Y \n",
       "133 297 "
      ]
     },
     "metadata": {},
     "output_type": "display_data"
    }
   ],
   "source": [
    "table(train$Loan_Status)"
   ]
  },
  {
   "cell_type": "markdown",
   "metadata": {},
   "source": [
    "On a 148 refus de prêt et 332 accords de prêts."
   ]
  },
  {
   "cell_type": "code",
   "execution_count": 38,
   "metadata": {},
   "outputs": [
    {
     "data": {
      "image/png": "[encoded data removed]",
      "text/plain": [
       "Plot with title \"Obtention des prêts\""
      ]
     },
     "metadata": {},
     "output_type": "display_data"
    }
   ],
   "source": [
    "options(repr.plot.width = 5, repr.plot.height = 5)\n",
    "plot(train$Loan_Status, col = c('red', 'green'), cex.main = 1.1, main = 'Obtention des prêts')\n",
    "text(0.725, 110, sprintf('%s%%', round(prop.table(table(train$Loan_Status))*100, 1)[1]), cex = 2)\n",
    "text(1.925, 270, sprintf('%s%%', round(prop.table(table(train$Loan_Status))*100, 1)[2]), cex = 2)"
   ]
  },
  {
   "cell_type": "markdown",
   "metadata": {},
   "source": [
    "<a href=\"#sommaire\">Retour au sommaire</a>\n",
    "## <span style='color:brown'>b) Analyses bivariées.<a name=\"M122\"></a>    "
   ]
  },
  {
   "cell_type": "code",
   "execution_count": 39,
   "metadata": {},
   "outputs": [
    {
     "data": {
      "image/png": "[encoded data removed]",
      "text/plain": [
       "Plot with title \"Loan_Amount_Term\""
      ]
     },
     "metadata": {},
     "output_type": "display_data"
    }
   ],
   "source": [
    "# Observation des variables quantitatives en fonction de la variable qualitative: (les outliers ne sont pas montrés)\n",
    "options(repr.plot.width = 6, repr.plot.height = 5.5)\n",
    "par(mfrow = c(2, 2))\n",
    "for (i in seq(7, 10))\n",
    "{\n",
    "    boxplot(train[, i] ~ train$Loan_Status, xlab = \"\", ylab = \"\", main = names(train)[i], col = c('red', 'green'), \n",
    "            horizontal = F, las = 1, cex.axis = 1.2, cex.main = 1.5, outline = F)\n",
    "}"
   ]
  },
  {
   "cell_type": "markdown",
   "metadata": {},
   "source": [
    "CCL: On devine très vite que ces variables risquent de ne pas impacter dans la détermination de la notation du crédit."
   ]
  },
  {
   "cell_type": "code",
   "execution_count": 40,
   "metadata": {},
   "outputs": [
    {
     "data": {
      "image/png": "[encoded data removed]",
      "text/plain": [
       "plot without title"
      ]
     },
     "metadata": {},
     "output_type": "display_data"
    }
   ],
   "source": [
    "# Observation des variables quantitatives en fonction de la variable qualitative:\n",
    "options(repr.plot.width = 8, repr.plot.height = 5)\n",
    "g1 <- ggdensity(train, x = 'ApplicantIncome', fill = 'Loan_Status')\n",
    "g2 <- ggdensity(train, x = 'CoapplicantIncome', fill = 'Loan_Status')\n",
    "g3 <- ggdensity(train, x = 'LoanAmount', fill = 'Loan_Status')\n",
    "g4 <- ggdensity(train, x = 'Loan_Amount_Term', fill = 'Loan_Status')\n",
    "ggarrange(g1, g2, g3, g4, common.legend = TRUE, legend = \"bottom\")"
   ]
  },
  {
   "cell_type": "markdown",
   "metadata": {},
   "source": [
    "CCL: Ces variables ne sont en rien déterminantes dans l'accord des prêts.\n",
    "\n",
    "On effectue une ANOVA sur les variables quantitatives en fonction de la variable catégorielle 'Loan_Status'.<br/>\n",
    "Il faut, avant cela, s'assurer de la normalité de nos variables à expliquer.<br/>\n",
    "Pour cela, on observe dans un premier un graphe quantile-quantile puis on procède ensuite à un test de Shapiro-Wilk."
   ]
  },
  {
   "cell_type": "markdown",
   "metadata": {},
   "source": [
    "### <span style='color:purple'>Test de normalité des variables:"
   ]
  },
  {
   "cell_type": "code",
   "execution_count": 41,
   "metadata": {},
   "outputs": [
    {
     "data": {
      "image/png": "[encoded data removed]",
      "text/plain": [
       "Plot with title \"Loan_Amount_Term\""
      ]
     },
     "metadata": {},
     "output_type": "display_data"
    }
   ],
   "source": [
    "# Graphes QQ-plot de chaque variable:\n",
    "options(repr.plot.width = 8, repr.plot.height = 5)\n",
    "par(mfrow = c(2, 2))\n",
    "\n",
    "for (i in seq(7, 10))\n",
    "{\n",
    "    qqnorm(train[, c(i)], cex = 1, col = \"blue\", main = names(train)[i], cex.main = 1.5)\n",
    "    qqline(train[, c(i)], col = 'red')\n",
    "}"
   ]
  },
  {
   "cell_type": "markdown",
   "metadata": {},
   "source": [
    "CCL: Les variables semblent suivre une loi normale."
   ]
  },
  {
   "cell_type": "markdown",
   "metadata": {},
   "source": [
    "#### <span style='color:red'>Test de Shapiro-Wilk.<a name=\"M\"></a>\n",
    "\n",
    "Hypothèse nulle H0: la variable suit une loi normale.<br/>\n",
    "Hypothèse alternative H1: la variable n'est pas gaussienne.<br/>\n",
    "Test bilatéral car H0 est différent de H1.\n",
    "\n",
    "Seuil de risque à 1%."
   ]
  },
  {
   "cell_type": "code",
   "execution_count": 107,
   "metadata": {},
   "outputs": [
    {
     "name": "stdout",
     "output_type": "stream",
     "text": [
      "ApplicantIncome: H0 est rejetée (p-value = 1.6084835e-33).\n",
      "\n",
      "CoapplicantIncome: H0 est rejetée (p-value = 5.620023566467e-28).\n",
      "\n",
      "LoanAmount: H0 est rejetée (p-value = 3.58308267930214e-22).\n",
      "\n",
      "Loan_Amount_Term: H0 est rejetée (p-value = 9.543222e-34).\n",
      "\n"
     ]
    }
   ],
   "source": [
    "alpha <- 0.01\n",
    "for (i in seq(7, 10))\n",
    "{\n",
    "    if (shapiro.test(train[, i])$p.value < alpha)\n",
    "        cat(sprintf('%s: H0 est rejetée (p-value = %s).\\n\\n', names(train)[i],\n",
    "                    round(shapiro.test(train[, c(i)])$p.value, digits = 40)))\n",
    "}"
   ]
  },
  {
   "cell_type": "markdown",
   "metadata": {},
   "source": [
    "CCL: La p_value étant significative au seuil de 1%, H0 est rejeté: aucune variable ne suit une loi normale.<br/>\n",
    "Or, au regard de la taille de notre échantillon, le TCL permet de considérer que nos variables sont gaussiennes.\n",
    "\n",
    "On peut donc maintenant appliquer sur nos variables la statistique de test de Fisher (ANOVA)."
   ]
  },
  {
   "cell_type": "markdown",
   "metadata": {},
   "source": [
    "### <span style='color:purple'>ANOVA:"
   ]
  },
  {
   "cell_type": "markdown",
   "metadata": {},
   "source": [
    "Vérifions l'intérêt des variables pour savoir si elles sont déterminantes dans l'autorisation d'un prêt.<br/>\n",
    "Pour cela, on compare les moyennes de chaque variable en fonction de l'accord du prêt.<br/>\n",
    "\n",
    "Hypothèse nulle H0: les moyennes de chaque modalité propre à la variable sont égales.<br/>\n",
    "Hypthèse alternative H1: les moyennes de chaque modalité propre à la variable sont différentes.<br/>\n",
    "Test bilatéral et seuil de risque alpha est fixé à 5%."
   ]
  },
  {
   "cell_type": "code",
   "execution_count": 105,
   "metadata": {},
   "outputs": [
    {
     "name": "stdout",
     "output_type": "stream",
     "text": [
      "LoanAmount: H0 est rejetée (p-value = 0.0422).\n",
      "\n"
     ]
    }
   ],
   "source": [
    "alpha <- 0.05\n",
    "for (i in seq(7, 10))\n",
    "{\n",
    "    if (summary(aov(train[, i] ~ train$Loan_Status, train))[[1]][[\"Pr(>F)\"]][[1]] < alpha)\n",
    "        cat(sprintf('%s: H0 est rejetée (p-value = %s).\\n\\n', names(train)[i], \n",
    "                    round(summary(aov(train[, i] ~ train$Loan_Status, train))[[1]][[\"Pr(>F)\"]][[1]], digits = 4)))\n",
    "}\n",
    "        "
   ]
  },
  {
   "cell_type": "markdown",
   "metadata": {},
   "source": [
    "CCL: Mise à part LoanAmount, on peut affirmer que les trois autres variables ne sont pas déterminantes pour l'autorisation du prêt (bien que LoanAmount ait une p-value proche du seuil de risque)."
   ]
  },
  {
   "cell_type": "markdown",
   "metadata": {},
   "source": [
    "### <span style='color:purple'>Test du Chi² d'indépendance:"
   ]
  },
  {
   "cell_type": "code",
   "execution_count": 44,
   "metadata": {},
   "outputs": [
    {
     "data": {
      "text/html": [
       "<table>\n",
       "<thead><tr><th scope=col>Gender</th><th scope=col>Married</th><th scope=col>Dependents</th><th scope=col>Education</th><th scope=col>Self_Employed</th><th scope=col>Credit_History</th><th scope=col>Property_Area</th><th scope=col>Loan_Status</th></tr></thead>\n",
       "<tbody>\n",
       "\t<tr><td>Male        </td><td>Yes         </td><td>1           </td><td>Graduate    </td><td>No          </td><td>1           </td><td>Rural       </td><td>N           </td></tr>\n",
       "\t<tr><td>Male        </td><td>Yes         </td><td>0           </td><td>Graduate    </td><td>Yes         </td><td>1           </td><td>Urban       </td><td>Y           </td></tr>\n",
       "\t<tr><td>Male        </td><td>Yes         </td><td>0           </td><td>Not Graduate</td><td>No          </td><td>1           </td><td>Urban       </td><td>Y           </td></tr>\n",
       "\t<tr><td>Male        </td><td>No          </td><td>0           </td><td>Graduate    </td><td>No          </td><td>1           </td><td>Urban       </td><td>Y           </td></tr>\n",
       "\t<tr><td>Male        </td><td>Yes         </td><td>2           </td><td>Graduate    </td><td>Yes         </td><td>1           </td><td>Urban       </td><td>Y           </td></tr>\n",
       "\t<tr><td>Male        </td><td>Yes         </td><td>0           </td><td>Not Graduate</td><td>No          </td><td>1           </td><td>Urban       </td><td>Y           </td></tr>\n",
       "</tbody>\n",
       "</table>\n"
      ],
      "text/latex": [
       "\\begin{tabular}{r|llllllll}\n",
       " Gender & Married & Dependents & Education & Self\\_Employed & Credit\\_History & Property\\_Area & Loan\\_Status\\\\\n",
       "\\hline\n",
       "\t Male         & Yes          & 1            & Graduate     & No           & 1            & Rural        & N           \\\\\n",
       "\t Male         & Yes          & 0            & Graduate     & Yes          & 1            & Urban        & Y           \\\\\n",
       "\t Male         & Yes          & 0            & Not Graduate & No           & 1            & Urban        & Y           \\\\\n",
       "\t Male         & No           & 0            & Graduate     & No           & 1            & Urban        & Y           \\\\\n",
       "\t Male         & Yes          & 2            & Graduate     & Yes          & 1            & Urban        & Y           \\\\\n",
       "\t Male         & Yes          & 0            & Not Graduate & No           & 1            & Urban        & Y           \\\\\n",
       "\\end{tabular}\n"
      ],
      "text/markdown": [
       "\n",
       "| Gender | Married | Dependents | Education | Self_Employed | Credit_History | Property_Area | Loan_Status |\n",
       "|---|---|---|---|---|---|---|---|\n",
       "| Male         | Yes          | 1            | Graduate     | No           | 1            | Rural        | N            |\n",
       "| Male         | Yes          | 0            | Graduate     | Yes          | 1            | Urban        | Y            |\n",
       "| Male         | Yes          | 0            | Not Graduate | No           | 1            | Urban        | Y            |\n",
       "| Male         | No           | 0            | Graduate     | No           | 1            | Urban        | Y            |\n",
       "| Male         | Yes          | 2            | Graduate     | Yes          | 1            | Urban        | Y            |\n",
       "| Male         | Yes          | 0            | Not Graduate | No           | 1            | Urban        | Y            |\n",
       "\n"
      ],
      "text/plain": [
       "  Gender Married Dependents Education    Self_Employed Credit_History\n",
       "1 Male   Yes     1          Graduate     No            1             \n",
       "2 Male   Yes     0          Graduate     Yes           1             \n",
       "3 Male   Yes     0          Not Graduate No            1             \n",
       "4 Male   No      0          Graduate     No            1             \n",
       "5 Male   Yes     2          Graduate     Yes           1             \n",
       "6 Male   Yes     0          Not Graduate No            1             \n",
       "  Property_Area Loan_Status\n",
       "1 Rural         N          \n",
       "2 Urban         Y          \n",
       "3 Urban         Y          \n",
       "4 Urban         Y          \n",
       "5 Urban         Y          \n",
       "6 Urban         Y          "
      ]
     },
     "metadata": {},
     "output_type": "display_data"
    }
   ],
   "source": [
    "# Création d'un nouveau dataframe sans les variables quantitatives:\n",
    "train2 <- train[, -c(1, 7:10)]\n",
    "head(train2)"
   ]
  },
  {
   "cell_type": "markdown",
   "metadata": {},
   "source": [
    "### <span style='color:red'>Test du Chi²:\n",
    "\n",
    "Hypothèse nulle H0: Les variables sont indépendantes entre elles.<br/>\n",
    "Hypothèse alternative H1: Les variables sont liées.<br/>\n",
    "Test bilatéral et seuil de risque fixé à 5%."
   ]
  },
  {
   "cell_type": "code",
   "execution_count": 45,
   "metadata": {},
   "outputs": [
    {
     "name": "stdout",
     "output_type": "stream",
     "text": [
      "Married: H0 est rejetée (p-value = 0.0144132881918812): Les variables sont liées.\n",
      "\n",
      "Credit_History: H0 est rejetée (p-value = 9.44668785929582e-26): Les variables sont liées.\n",
      "\n",
      "Property_Area: H0 est rejetée (p-value = 0.00160991328300756): Les variables sont liées.\n",
      "\n"
     ]
    }
   ],
   "source": [
    "alpha <- 0.05\n",
    "for (i in seq(1, 7))\n",
    "{\n",
    "    if (chisq.test(table(train2$Loan_Status, train2[, i]))$p.val < alpha)\n",
    "        cat(sprintf('%s: H0 est rejetée (p-value = %s): Les variables sont liées.\\n\\n', names(train2)[i], \n",
    "                    round(chisq.test(table(train2$Loan_Status, train2[, i]))$p.val, digits = 40)))        \n",
    "}"
   ]
  },
  {
   "cell_type": "markdown",
   "metadata": {},
   "source": [
    "CCL: Ces trois variables semblent prépondérantes à la notation du crédit, bien que les p-values de Married et Property_Area soient très proches du seuil de risque."
   ]
  },
  {
   "cell_type": "markdown",
   "metadata": {},
   "source": [
    "<a href=\"#sommaire\">Retour au sommaire</a>\n",
    "## <span style='color:brown'>c) Corrélations entre variables.<a name=\"M123\"></a> \n",
    "### <span style='color:red'>i) Sur l'ensemble des prêts:<a name=\"M1231\"></a>"
   ]
  },
  {
   "cell_type": "code",
   "execution_count": 46,
   "metadata": {},
   "outputs": [
    {
     "data": {
      "text/html": [
       "<table>\n",
       "<thead><tr><th scope=col>Gender</th><th scope=col>Married</th><th scope=col>Dependents</th><th scope=col>Education</th><th scope=col>Self_Employed</th><th scope=col>ApplicantIncome</th><th scope=col>CoapplicantIncome</th><th scope=col>LoanAmount</th><th scope=col>Loan_Amount_Term</th><th scope=col>Credit_History</th><th scope=col>Property_Area</th><th scope=col>Loan_Status</th></tr></thead>\n",
       "<tbody>\n",
       "\t<tr><td>2   </td><td>2   </td><td>2   </td><td>1   </td><td>1   </td><td>4583</td><td>1508</td><td>128 </td><td>360 </td><td>2   </td><td>1   </td><td>1   </td></tr>\n",
       "\t<tr><td>2   </td><td>2   </td><td>1   </td><td>1   </td><td>2   </td><td>3000</td><td>   0</td><td> 66 </td><td>360 </td><td>2   </td><td>3   </td><td>2   </td></tr>\n",
       "\t<tr><td>2   </td><td>2   </td><td>1   </td><td>2   </td><td>1   </td><td>2583</td><td>2358</td><td>120 </td><td>360 </td><td>2   </td><td>3   </td><td>2   </td></tr>\n",
       "\t<tr><td>2   </td><td>1   </td><td>1   </td><td>1   </td><td>1   </td><td>6000</td><td>   0</td><td>141 </td><td>360 </td><td>2   </td><td>3   </td><td>2   </td></tr>\n",
       "\t<tr><td>2   </td><td>2   </td><td>3   </td><td>1   </td><td>2   </td><td>5417</td><td>4196</td><td>267 </td><td>360 </td><td>2   </td><td>3   </td><td>2   </td></tr>\n",
       "\t<tr><td>2   </td><td>2   </td><td>1   </td><td>2   </td><td>1   </td><td>2333</td><td>1516</td><td> 95 </td><td>360 </td><td>2   </td><td>3   </td><td>2   </td></tr>\n",
       "\t<tr><td>2   </td><td>2   </td><td>4   </td><td>1   </td><td>1   </td><td>3036</td><td>2504</td><td>158 </td><td>360 </td><td>1   </td><td>2   </td><td>1   </td></tr>\n",
       "\t<tr><td>2   </td><td>2   </td><td>3   </td><td>1   </td><td>1   </td><td>4006</td><td>1526</td><td>168 </td><td>360 </td><td>2   </td><td>3   </td><td>2   </td></tr>\n",
       "\t<tr><td>...</td><td>...</td><td>...</td><td>...</td><td>...</td><td>...</td><td>...</td><td>...</td><td>...</td><td>...</td><td>...</td><td>...</td></tr>\n",
       "\t<tr><td>1   </td><td>1   </td><td>1   </td><td>1   </td><td>1   </td><td>2138</td><td>   0</td><td> 99 </td><td>360 </td><td>1   </td><td>2   </td><td>1   </td></tr>\n",
       "\t<tr><td>2   </td><td>2   </td><td>2   </td><td>2   </td><td>1   </td><td>2239</td><td>2524</td><td>128 </td><td>360 </td><td>2   </td><td>3   </td><td>2   </td></tr>\n",
       "\t<tr><td>2   </td><td>2   </td><td>1   </td><td>1   </td><td>1   </td><td>2768</td><td>1950</td><td>155 </td><td>360 </td><td>2   </td><td>1   </td><td>2   </td></tr>\n",
       "\t<tr><td>2   </td><td>1   </td><td>1   </td><td>2   </td><td>1   </td><td>3358</td><td>   0</td><td> 80 </td><td> 36 </td><td>2   </td><td>2   </td><td>1   </td></tr>\n",
       "\t<tr><td>2   </td><td>1   </td><td>1   </td><td>1   </td><td>1   </td><td>2526</td><td>1783</td><td>145 </td><td>360 </td><td>2   </td><td>1   </td><td>2   </td></tr>\n",
       "\t<tr><td>1   </td><td>1   </td><td>1   </td><td>1   </td><td>1   </td><td>5000</td><td>   0</td><td>103 </td><td>360 </td><td>1   </td><td>2   </td><td>1   </td></tr>\n",
       "\t<tr><td>2   </td><td>2   </td><td>1   </td><td>1   </td><td>1   </td><td>2785</td><td>2016</td><td>110 </td><td>360 </td><td>2   </td><td>1   </td><td>2   </td></tr>\n",
       "</tbody>\n",
       "</table>\n"
      ],
      "text/latex": [
       "\\begin{tabular}{r|llllllllllll}\n",
       " Gender & Married & Dependents & Education & Self\\_Employed & ApplicantIncome & CoapplicantIncome & LoanAmount & Loan\\_Amount\\_Term & Credit\\_History & Property\\_Area & Loan\\_Status\\\\\n",
       "\\hline\n",
       "\t 2    & 2    & 2    & 1    & 1    & 4583 & 1508 & 128  & 360  & 2    & 1    & 1   \\\\\n",
       "\t 2    & 2    & 1    & 1    & 2    & 3000 &    0 &  66  & 360  & 2    & 3    & 2   \\\\\n",
       "\t 2    & 2    & 1    & 2    & 1    & 2583 & 2358 & 120  & 360  & 2    & 3    & 2   \\\\\n",
       "\t 2    & 1    & 1    & 1    & 1    & 6000 &    0 & 141  & 360  & 2    & 3    & 2   \\\\\n",
       "\t 2    & 2    & 3    & 1    & 2    & 5417 & 4196 & 267  & 360  & 2    & 3    & 2   \\\\\n",
       "\t 2    & 2    & 1    & 2    & 1    & 2333 & 1516 &  95  & 360  & 2    & 3    & 2   \\\\\n",
       "\t 2    & 2    & 4    & 1    & 1    & 3036 & 2504 & 158  & 360  & 1    & 2    & 1   \\\\\n",
       "\t 2    & 2    & 3    & 1    & 1    & 4006 & 1526 & 168  & 360  & 2    & 3    & 2   \\\\\n",
       "\t ... & ... & ... & ... & ... & ... & ... & ... & ... & ... & ... & ...\\\\\n",
       "\t 1    & 1    & 1    & 1    & 1    & 2138 &    0 &  99  & 360  & 1    & 2    & 1   \\\\\n",
       "\t 2    & 2    & 2    & 2    & 1    & 2239 & 2524 & 128  & 360  & 2    & 3    & 2   \\\\\n",
       "\t 2    & 2    & 1    & 1    & 1    & 2768 & 1950 & 155  & 360  & 2    & 1    & 2   \\\\\n",
       "\t 2    & 1    & 1    & 2    & 1    & 3358 &    0 &  80  &  36  & 2    & 2    & 1   \\\\\n",
       "\t 2    & 1    & 1    & 1    & 1    & 2526 & 1783 & 145  & 360  & 2    & 1    & 2   \\\\\n",
       "\t 1    & 1    & 1    & 1    & 1    & 5000 &    0 & 103  & 360  & 1    & 2    & 1   \\\\\n",
       "\t 2    & 2    & 1    & 1    & 1    & 2785 & 2016 & 110  & 360  & 2    & 1    & 2   \\\\\n",
       "\\end{tabular}\n"
      ],
      "text/markdown": [
       "\n",
       "| Gender | Married | Dependents | Education | Self_Employed | ApplicantIncome | CoapplicantIncome | LoanAmount | Loan_Amount_Term | Credit_History | Property_Area | Loan_Status |\n",
       "|---|---|---|---|---|---|---|---|---|---|---|---|\n",
       "| 2    | 2    | 2    | 1    | 1    | 4583 | 1508 | 128  | 360  | 2    | 1    | 1    |\n",
       "| 2    | 2    | 1    | 1    | 2    | 3000 |    0 |  66  | 360  | 2    | 3    | 2    |\n",
       "| 2    | 2    | 1    | 2    | 1    | 2583 | 2358 | 120  | 360  | 2    | 3    | 2    |\n",
       "| 2    | 1    | 1    | 1    | 1    | 6000 |    0 | 141  | 360  | 2    | 3    | 2    |\n",
       "| 2    | 2    | 3    | 1    | 2    | 5417 | 4196 | 267  | 360  | 2    | 3    | 2    |\n",
       "| 2    | 2    | 1    | 2    | 1    | 2333 | 1516 |  95  | 360  | 2    | 3    | 2    |\n",
       "| 2    | 2    | 4    | 1    | 1    | 3036 | 2504 | 158  | 360  | 1    | 2    | 1    |\n",
       "| 2    | 2    | 3    | 1    | 1    | 4006 | 1526 | 168  | 360  | 2    | 3    | 2    |\n",
       "| ... | ... | ... | ... | ... | ... | ... | ... | ... | ... | ... | ... |\n",
       "| 1    | 1    | 1    | 1    | 1    | 2138 |    0 |  99  | 360  | 1    | 2    | 1    |\n",
       "| 2    | 2    | 2    | 2    | 1    | 2239 | 2524 | 128  | 360  | 2    | 3    | 2    |\n",
       "| 2    | 2    | 1    | 1    | 1    | 2768 | 1950 | 155  | 360  | 2    | 1    | 2    |\n",
       "| 2    | 1    | 1    | 2    | 1    | 3358 |    0 |  80  |  36  | 2    | 2    | 1    |\n",
       "| 2    | 1    | 1    | 1    | 1    | 2526 | 1783 | 145  | 360  | 2    | 1    | 2    |\n",
       "| 1    | 1    | 1    | 1    | 1    | 5000 |    0 | 103  | 360  | 1    | 2    | 1    |\n",
       "| 2    | 2    | 1    | 1    | 1    | 2785 | 2016 | 110  | 360  | 2    | 1    | 2    |\n",
       "\n"
      ],
      "text/plain": [
       "    Gender Married Dependents Education Self_Employed ApplicantIncome\n",
       "1   2      2       2          1         1             4583           \n",
       "2   2      2       1          1         2             3000           \n",
       "3   2      2       1          2         1             2583           \n",
       "4   2      1       1          1         1             6000           \n",
       "5   2      2       3          1         2             5417           \n",
       "6   2      2       1          2         1             2333           \n",
       "7   2      2       4          1         1             3036           \n",
       "8   2      2       3          1         1             4006           \n",
       "... ...    ...     ...        ...       ...           ...            \n",
       "424 1      1       1          1         1             2138           \n",
       "425 2      2       2          2         1             2239           \n",
       "426 2      2       1          1         1             2768           \n",
       "427 2      1       1          2         1             3358           \n",
       "428 2      1       1          1         1             2526           \n",
       "429 1      1       1          1         1             5000           \n",
       "430 2      2       1          1         1             2785           \n",
       "    CoapplicantIncome LoanAmount Loan_Amount_Term Credit_History Property_Area\n",
       "1   1508              128        360              2              1            \n",
       "2      0               66        360              2              3            \n",
       "3   2358              120        360              2              3            \n",
       "4      0              141        360              2              3            \n",
       "5   4196              267        360              2              3            \n",
       "6   1516               95        360              2              3            \n",
       "7   2504              158        360              1              2            \n",
       "8   1526              168        360              2              3            \n",
       "... ...               ...        ...              ...            ...          \n",
       "424    0               99        360              1              2            \n",
       "425 2524              128        360              2              3            \n",
       "426 1950              155        360              2              1            \n",
       "427    0               80         36              2              2            \n",
       "428 1783              145        360              2              1            \n",
       "429    0              103        360              1              2            \n",
       "430 2016              110        360              2              1            \n",
       "    Loan_Status\n",
       "1   1          \n",
       "2   2          \n",
       "3   2          \n",
       "4   2          \n",
       "5   2          \n",
       "6   2          \n",
       "7   1          \n",
       "8   2          \n",
       "... ...        \n",
       "424 1          \n",
       "425 2          \n",
       "426 2          \n",
       "427 1          \n",
       "428 2          \n",
       "429 1          \n",
       "430 2          "
      ]
     },
     "metadata": {},
     "output_type": "display_data"
    }
   ],
   "source": [
    "loan <- train[, -1] # copie\n",
    "\n",
    "# Conversion des colonnes 'factor' en variables numériques:\n",
    "loan$Gender <- as.numeric(loan$Gender)\n",
    "loan$Married <- as.numeric(loan$Married)\n",
    "loan$Dependents <- as.numeric(loan$Dependents)\n",
    "loan$Education <- as.numeric(loan$Education)\n",
    "loan$Self_Employed <- as.numeric(loan$Self_Employed)\n",
    "loan$Credit_History <- as.numeric(loan$Credit_History)\n",
    "loan$Property_Area <- as.numeric(loan$Property_Area)\n",
    "loan$Loan_Status <- as.numeric(loan$Loan_Status)\n",
    "\n",
    "loan"
   ]
  },
  {
   "cell_type": "code",
   "execution_count": 47,
   "metadata": {},
   "outputs": [
    {
     "data": {
      "text/html": [
       "<table>\n",
       "<thead><tr><th></th><th scope=col>Married</th><th scope=col>Dependents</th><th scope=col>Education</th><th scope=col>Self_Employed</th><th scope=col>ApplicantIncome</th><th scope=col>CoapplicantIncome</th><th scope=col>LoanAmount</th><th scope=col>Loan_Amount_Term</th><th scope=col>Credit_History</th><th scope=col>Property_Area</th><th scope=col>Loan_Status</th></tr></thead>\n",
       "<tbody>\n",
       "\t<tr><th scope=row>Married</th><td> 1.00</td><td> 0.37</td><td> 0.02</td><td> 0.02</td><td> 0.02</td><td> 0.18</td><td> 0.16</td><td>-0.10</td><td> 0.04</td><td> 0.05</td><td> 0.12</td></tr>\n",
       "\t<tr><th scope=row>Dependents</th><td> 0.37</td><td> 1.00</td><td> 0.03</td><td> 0.04</td><td> 0.13</td><td> 0.05</td><td> 0.17</td><td>-0.10</td><td>-0.03</td><td> 0.00</td><td> 0.06</td></tr>\n",
       "\t<tr><th scope=row>Education</th><td> 0.02</td><td> 0.03</td><td> 1.00</td><td>-0.01</td><td>-0.13</td><td>-0.08</td><td>-0.18</td><td>-0.15</td><td>-0.07</td><td>-0.04</td><td>-0.07</td></tr>\n",
       "\t<tr><th scope=row>Self_Employed</th><td> 0.02</td><td> 0.04</td><td>-0.01</td><td> 1.00</td><td> 0.15</td><td> 0.04</td><td> 0.08</td><td>-0.05</td><td>-0.02</td><td>-0.05</td><td>-0.02</td></tr>\n",
       "\t<tr><th scope=row>ApplicantIncome</th><td> 0.02</td><td> 0.13</td><td>-0.13</td><td> 0.15</td><td> 1.00</td><td>-0.10</td><td> 0.48</td><td>-0.03</td><td>-0.07</td><td>-0.07</td><td>-0.06</td></tr>\n",
       "\t<tr><th scope=row>CoapplicantIncome</th><td> 0.18</td><td> 0.05</td><td>-0.08</td><td> 0.04</td><td>-0.10</td><td> 1.00</td><td> 0.30</td><td> 0.00</td><td>-0.01</td><td>-0.01</td><td>-0.01</td></tr>\n",
       "\t<tr><th scope=row>LoanAmount</th><td> 0.16</td><td> 0.17</td><td>-0.18</td><td> 0.08</td><td> 0.48</td><td> 0.30</td><td> 1.00</td><td> 0.04</td><td>-0.05</td><td>-0.14</td><td>-0.10</td></tr>\n",
       "\t<tr><th scope=row>Loan_Amount_Term</th><td>-0.10</td><td>-0.10</td><td>-0.15</td><td>-0.05</td><td>-0.03</td><td> 0.00</td><td> 0.04</td><td> 1.00</td><td> 0.04</td><td>-0.09</td><td>-0.01</td></tr>\n",
       "\t<tr><th scope=row>Credit_History</th><td> 0.04</td><td>-0.03</td><td>-0.07</td><td>-0.02</td><td>-0.07</td><td>-0.01</td><td>-0.05</td><td> 0.04</td><td> 1.00</td><td>-0.01</td><td> 0.51</td></tr>\n",
       "\t<tr><th scope=row>Property_Area</th><td> 0.05</td><td> 0.00</td><td>-0.04</td><td>-0.05</td><td>-0.07</td><td>-0.01</td><td>-0.14</td><td>-0.09</td><td>-0.01</td><td> 1.00</td><td> 0.03</td></tr>\n",
       "\t<tr><th scope=row>Loan_Status</th><td> 0.12</td><td> 0.06</td><td>-0.07</td><td>-0.02</td><td>-0.06</td><td>-0.01</td><td>-0.10</td><td>-0.01</td><td> 0.51</td><td> 0.03</td><td> 1.00</td></tr>\n",
       "</tbody>\n",
       "</table>\n"
      ],
      "text/latex": [
       "\\begin{tabular}{r|lllllllllll}\n",
       "  & Married & Dependents & Education & Self\\_Employed & ApplicantIncome & CoapplicantIncome & LoanAmount & Loan\\_Amount\\_Term & Credit\\_History & Property\\_Area & Loan\\_Status\\\\\n",
       "\\hline\n",
       "\tMarried &  1.00 &  0.37 &  0.02 &  0.02 &  0.02 &  0.18 &  0.16 & -0.10 &  0.04 &  0.05 &  0.12\\\\\n",
       "\tDependents &  0.37 &  1.00 &  0.03 &  0.04 &  0.13 &  0.05 &  0.17 & -0.10 & -0.03 &  0.00 &  0.06\\\\\n",
       "\tEducation &  0.02 &  0.03 &  1.00 & -0.01 & -0.13 & -0.08 & -0.18 & -0.15 & -0.07 & -0.04 & -0.07\\\\\n",
       "\tSelf\\_Employed &  0.02 &  0.04 & -0.01 &  1.00 &  0.15 &  0.04 &  0.08 & -0.05 & -0.02 & -0.05 & -0.02\\\\\n",
       "\tApplicantIncome &  0.02 &  0.13 & -0.13 &  0.15 &  1.00 & -0.10 &  0.48 & -0.03 & -0.07 & -0.07 & -0.06\\\\\n",
       "\tCoapplicantIncome &  0.18 &  0.05 & -0.08 &  0.04 & -0.10 &  1.00 &  0.30 &  0.00 & -0.01 & -0.01 & -0.01\\\\\n",
       "\tLoanAmount &  0.16 &  0.17 & -0.18 &  0.08 &  0.48 &  0.30 &  1.00 &  0.04 & -0.05 & -0.14 & -0.10\\\\\n",
       "\tLoan\\_Amount\\_Term & -0.10 & -0.10 & -0.15 & -0.05 & -0.03 &  0.00 &  0.04 &  1.00 &  0.04 & -0.09 & -0.01\\\\\n",
       "\tCredit\\_History &  0.04 & -0.03 & -0.07 & -0.02 & -0.07 & -0.01 & -0.05 &  0.04 &  1.00 & -0.01 &  0.51\\\\\n",
       "\tProperty\\_Area &  0.05 &  0.00 & -0.04 & -0.05 & -0.07 & -0.01 & -0.14 & -0.09 & -0.01 &  1.00 &  0.03\\\\\n",
       "\tLoan\\_Status &  0.12 &  0.06 & -0.07 & -0.02 & -0.06 & -0.01 & -0.10 & -0.01 &  0.51 &  0.03 &  1.00\\\\\n",
       "\\end{tabular}\n"
      ],
      "text/markdown": [
       "\n",
       "| <!--/--> | Married | Dependents | Education | Self_Employed | ApplicantIncome | CoapplicantIncome | LoanAmount | Loan_Amount_Term | Credit_History | Property_Area | Loan_Status |\n",
       "|---|---|---|---|---|---|---|---|---|---|---|---|\n",
       "| Married |  1.00 |  0.37 |  0.02 |  0.02 |  0.02 |  0.18 |  0.16 | -0.10 |  0.04 |  0.05 |  0.12 |\n",
       "| Dependents |  0.37 |  1.00 |  0.03 |  0.04 |  0.13 |  0.05 |  0.17 | -0.10 | -0.03 |  0.00 |  0.06 |\n",
       "| Education |  0.02 |  0.03 |  1.00 | -0.01 | -0.13 | -0.08 | -0.18 | -0.15 | -0.07 | -0.04 | -0.07 |\n",
       "| Self_Employed |  0.02 |  0.04 | -0.01 |  1.00 |  0.15 |  0.04 |  0.08 | -0.05 | -0.02 | -0.05 | -0.02 |\n",
       "| ApplicantIncome |  0.02 |  0.13 | -0.13 |  0.15 |  1.00 | -0.10 |  0.48 | -0.03 | -0.07 | -0.07 | -0.06 |\n",
       "| CoapplicantIncome |  0.18 |  0.05 | -0.08 |  0.04 | -0.10 |  1.00 |  0.30 |  0.00 | -0.01 | -0.01 | -0.01 |\n",
       "| LoanAmount |  0.16 |  0.17 | -0.18 |  0.08 |  0.48 |  0.30 |  1.00 |  0.04 | -0.05 | -0.14 | -0.10 |\n",
       "| Loan_Amount_Term | -0.10 | -0.10 | -0.15 | -0.05 | -0.03 |  0.00 |  0.04 |  1.00 |  0.04 | -0.09 | -0.01 |\n",
       "| Credit_History |  0.04 | -0.03 | -0.07 | -0.02 | -0.07 | -0.01 | -0.05 |  0.04 |  1.00 | -0.01 |  0.51 |\n",
       "| Property_Area |  0.05 |  0.00 | -0.04 | -0.05 | -0.07 | -0.01 | -0.14 | -0.09 | -0.01 |  1.00 |  0.03 |\n",
       "| Loan_Status |  0.12 |  0.06 | -0.07 | -0.02 | -0.06 | -0.01 | -0.10 | -0.01 |  0.51 |  0.03 |  1.00 |\n",
       "\n"
      ],
      "text/plain": [
       "                  Married Dependents Education Self_Employed ApplicantIncome\n",
       "Married            1.00    0.37       0.02      0.02          0.02          \n",
       "Dependents         0.37    1.00       0.03      0.04          0.13          \n",
       "Education          0.02    0.03       1.00     -0.01         -0.13          \n",
       "Self_Employed      0.02    0.04      -0.01      1.00          0.15          \n",
       "ApplicantIncome    0.02    0.13      -0.13      0.15          1.00          \n",
       "CoapplicantIncome  0.18    0.05      -0.08      0.04         -0.10          \n",
       "LoanAmount         0.16    0.17      -0.18      0.08          0.48          \n",
       "Loan_Amount_Term  -0.10   -0.10      -0.15     -0.05         -0.03          \n",
       "Credit_History     0.04   -0.03      -0.07     -0.02         -0.07          \n",
       "Property_Area      0.05    0.00      -0.04     -0.05         -0.07          \n",
       "Loan_Status        0.12    0.06      -0.07     -0.02         -0.06          \n",
       "                  CoapplicantIncome LoanAmount Loan_Amount_Term Credit_History\n",
       "Married            0.18              0.16      -0.10             0.04         \n",
       "Dependents         0.05              0.17      -0.10            -0.03         \n",
       "Education         -0.08             -0.18      -0.15            -0.07         \n",
       "Self_Employed      0.04              0.08      -0.05            -0.02         \n",
       "ApplicantIncome   -0.10              0.48      -0.03            -0.07         \n",
       "CoapplicantIncome  1.00              0.30       0.00            -0.01         \n",
       "LoanAmount         0.30              1.00       0.04            -0.05         \n",
       "Loan_Amount_Term   0.00              0.04       1.00             0.04         \n",
       "Credit_History    -0.01             -0.05       0.04             1.00         \n",
       "Property_Area     -0.01             -0.14      -0.09            -0.01         \n",
       "Loan_Status       -0.01             -0.10      -0.01             0.51         \n",
       "                  Property_Area Loan_Status\n",
       "Married            0.05          0.12      \n",
       "Dependents         0.00          0.06      \n",
       "Education         -0.04         -0.07      \n",
       "Self_Employed     -0.05         -0.02      \n",
       "ApplicantIncome   -0.07         -0.06      \n",
       "CoapplicantIncome -0.01         -0.01      \n",
       "LoanAmount        -0.14         -0.10      \n",
       "Loan_Amount_Term  -0.09         -0.01      \n",
       "Credit_History    -0.01          0.51      \n",
       "Property_Area      1.00          0.03      \n",
       "Loan_Status        0.03          1.00      "
      ]
     },
     "metadata": {},
     "output_type": "display_data"
    },
    {
     "data": {
      "text/html": [
       "<table>\n",
       "<thead><tr><th></th><th scope=col>Married</th><th scope=col>Dependents</th><th scope=col>Education</th><th scope=col>Self_Employed</th><th scope=col>ApplicantIncome</th><th scope=col>CoapplicantIncome</th><th scope=col>LoanAmount</th><th scope=col>Loan_Amount_Term</th><th scope=col>Credit_History</th><th scope=col>Property_Area</th><th scope=col>Loan_Status</th></tr></thead>\n",
       "<tbody>\n",
       "\t<tr><th scope=row>Married</th><td>0.000000000</td><td>0.000000000</td><td>0.638730552</td><td>0.75177461 </td><td>0.643079655</td><td>0.000199239</td><td>0.000717783</td><td>0.044224852</td><td>0.3831280  </td><td>0.344673517</td><td>0.01055269 </td></tr>\n",
       "\t<tr><th scope=row>Dependents</th><td>0.000000000</td><td>0.000000000</td><td>0.486680508</td><td>0.39710273 </td><td>0.009235621</td><td>0.266012339</td><td>0.000425838</td><td>0.032876730</td><td>0.5628921  </td><td>0.961747597</td><td>0.24943620 </td></tr>\n",
       "\t<tr><th scope=row>Education</th><td>0.638730552</td><td>0.486680508</td><td>0.000000000</td><td>0.78009002 </td><td>0.006120838</td><td>0.119531552</td><td>0.000118338</td><td>0.002423274</td><td>0.1586358  </td><td>0.367689141</td><td>0.15950204 </td></tr>\n",
       "\t<tr><th scope=row>Self_Employed</th><td>0.751774607</td><td>0.397102733</td><td>0.780090022</td><td>0.00000000 </td><td>0.001913870</td><td>0.373416001</td><td>0.083541182</td><td>0.300237530</td><td>0.7524252  </td><td>0.340410561</td><td>0.67428533 </td></tr>\n",
       "\t<tr><th scope=row>ApplicantIncome</th><td>0.643079655</td><td>0.009235621</td><td>0.006120838</td><td>0.00191387 </td><td>0.000000000</td><td>0.031386462</td><td>0.000000000</td><td>0.596494496</td><td>0.1243677  </td><td>0.150254467</td><td>0.21093023 </td></tr>\n",
       "\t<tr><th scope=row>CoapplicantIncome</th><td>0.000199239</td><td>0.266012339</td><td>0.119531552</td><td>0.37341600 </td><td>0.031386462</td><td>0.000000000</td><td>0.000000000</td><td>0.981688271</td><td>0.7600144  </td><td>0.769769623</td><td>0.89080497 </td></tr>\n",
       "\t<tr><th scope=row>LoanAmount</th><td>0.000717783</td><td>0.000425838</td><td>0.000118338</td><td>0.08354118 </td><td>0.000000000</td><td>0.000000000</td><td>0.000000000</td><td>0.457112792</td><td>0.2554426  </td><td>0.003725242</td><td>0.04222219 </td></tr>\n",
       "\t<tr><th scope=row>Loan_Amount_Term</th><td>0.044224852</td><td>0.032876730</td><td>0.002423274</td><td>0.30023753 </td><td>0.596494496</td><td>0.981688271</td><td>0.457112792</td><td>0.000000000</td><td>0.4140725  </td><td>0.050222394</td><td>0.76508491 </td></tr>\n",
       "\t<tr><th scope=row>Credit_History</th><td>0.383127968</td><td>0.562892103</td><td>0.158635802</td><td>0.75242517 </td><td>0.124367672</td><td>0.760014388</td><td>0.255442647</td><td>0.414072455</td><td>0.0000000  </td><td>0.900999168</td><td>0.00000000 </td></tr>\n",
       "\t<tr><th scope=row>Property_Area</th><td>0.344673517</td><td>0.961747597</td><td>0.367689141</td><td>0.34041056 </td><td>0.150254467</td><td>0.769769623</td><td>0.003725242</td><td>0.050222394</td><td>0.9009992  </td><td>0.000000000</td><td>0.51950197 </td></tr>\n",
       "\t<tr><th scope=row>Loan_Status</th><td>0.010552686</td><td>0.249436204</td><td>0.159502038</td><td>0.67428533 </td><td>0.210930233</td><td>0.890804972</td><td>0.042222188</td><td>0.765084912</td><td>0.0000000  </td><td>0.519501967</td><td>0.00000000 </td></tr>\n",
       "</tbody>\n",
       "</table>\n"
      ],
      "text/latex": [
       "\\begin{tabular}{r|lllllllllll}\n",
       "  & Married & Dependents & Education & Self\\_Employed & ApplicantIncome & CoapplicantIncome & LoanAmount & Loan\\_Amount\\_Term & Credit\\_History & Property\\_Area & Loan\\_Status\\\\\n",
       "\\hline\n",
       "\tMarried & 0.000000000 & 0.000000000 & 0.638730552 & 0.75177461  & 0.643079655 & 0.000199239 & 0.000717783 & 0.044224852 & 0.3831280   & 0.344673517 & 0.01055269 \\\\\n",
       "\tDependents & 0.000000000 & 0.000000000 & 0.486680508 & 0.39710273  & 0.009235621 & 0.266012339 & 0.000425838 & 0.032876730 & 0.5628921   & 0.961747597 & 0.24943620 \\\\\n",
       "\tEducation & 0.638730552 & 0.486680508 & 0.000000000 & 0.78009002  & 0.006120838 & 0.119531552 & 0.000118338 & 0.002423274 & 0.1586358   & 0.367689141 & 0.15950204 \\\\\n",
       "\tSelf\\_Employed & 0.751774607 & 0.397102733 & 0.780090022 & 0.00000000  & 0.001913870 & 0.373416001 & 0.083541182 & 0.300237530 & 0.7524252   & 0.340410561 & 0.67428533 \\\\\n",
       "\tApplicantIncome & 0.643079655 & 0.009235621 & 0.006120838 & 0.00191387  & 0.000000000 & 0.031386462 & 0.000000000 & 0.596494496 & 0.1243677   & 0.150254467 & 0.21093023 \\\\\n",
       "\tCoapplicantIncome & 0.000199239 & 0.266012339 & 0.119531552 & 0.37341600  & 0.031386462 & 0.000000000 & 0.000000000 & 0.981688271 & 0.7600144   & 0.769769623 & 0.89080497 \\\\\n",
       "\tLoanAmount & 0.000717783 & 0.000425838 & 0.000118338 & 0.08354118  & 0.000000000 & 0.000000000 & 0.000000000 & 0.457112792 & 0.2554426   & 0.003725242 & 0.04222219 \\\\\n",
       "\tLoan\\_Amount\\_Term & 0.044224852 & 0.032876730 & 0.002423274 & 0.30023753  & 0.596494496 & 0.981688271 & 0.457112792 & 0.000000000 & 0.4140725   & 0.050222394 & 0.76508491 \\\\\n",
       "\tCredit\\_History & 0.383127968 & 0.562892103 & 0.158635802 & 0.75242517  & 0.124367672 & 0.760014388 & 0.255442647 & 0.414072455 & 0.0000000   & 0.900999168 & 0.00000000 \\\\\n",
       "\tProperty\\_Area & 0.344673517 & 0.961747597 & 0.367689141 & 0.34041056  & 0.150254467 & 0.769769623 & 0.003725242 & 0.050222394 & 0.9009992   & 0.000000000 & 0.51950197 \\\\\n",
       "\tLoan\\_Status & 0.010552686 & 0.249436204 & 0.159502038 & 0.67428533  & 0.210930233 & 0.890804972 & 0.042222188 & 0.765084912 & 0.0000000   & 0.519501967 & 0.00000000 \\\\\n",
       "\\end{tabular}\n"
      ],
      "text/markdown": [
       "\n",
       "| <!--/--> | Married | Dependents | Education | Self_Employed | ApplicantIncome | CoapplicantIncome | LoanAmount | Loan_Amount_Term | Credit_History | Property_Area | Loan_Status |\n",
       "|---|---|---|---|---|---|---|---|---|---|---|---|\n",
       "| Married | 0.000000000 | 0.000000000 | 0.638730552 | 0.75177461  | 0.643079655 | 0.000199239 | 0.000717783 | 0.044224852 | 0.3831280   | 0.344673517 | 0.01055269  |\n",
       "| Dependents | 0.000000000 | 0.000000000 | 0.486680508 | 0.39710273  | 0.009235621 | 0.266012339 | 0.000425838 | 0.032876730 | 0.5628921   | 0.961747597 | 0.24943620  |\n",
       "| Education | 0.638730552 | 0.486680508 | 0.000000000 | 0.78009002  | 0.006120838 | 0.119531552 | 0.000118338 | 0.002423274 | 0.1586358   | 0.367689141 | 0.15950204  |\n",
       "| Self_Employed | 0.751774607 | 0.397102733 | 0.780090022 | 0.00000000  | 0.001913870 | 0.373416001 | 0.083541182 | 0.300237530 | 0.7524252   | 0.340410561 | 0.67428533  |\n",
       "| ApplicantIncome | 0.643079655 | 0.009235621 | 0.006120838 | 0.00191387  | 0.000000000 | 0.031386462 | 0.000000000 | 0.596494496 | 0.1243677   | 0.150254467 | 0.21093023  |\n",
       "| CoapplicantIncome | 0.000199239 | 0.266012339 | 0.119531552 | 0.37341600  | 0.031386462 | 0.000000000 | 0.000000000 | 0.981688271 | 0.7600144   | 0.769769623 | 0.89080497  |\n",
       "| LoanAmount | 0.000717783 | 0.000425838 | 0.000118338 | 0.08354118  | 0.000000000 | 0.000000000 | 0.000000000 | 0.457112792 | 0.2554426   | 0.003725242 | 0.04222219  |\n",
       "| Loan_Amount_Term | 0.044224852 | 0.032876730 | 0.002423274 | 0.30023753  | 0.596494496 | 0.981688271 | 0.457112792 | 0.000000000 | 0.4140725   | 0.050222394 | 0.76508491  |\n",
       "| Credit_History | 0.383127968 | 0.562892103 | 0.158635802 | 0.75242517  | 0.124367672 | 0.760014388 | 0.255442647 | 0.414072455 | 0.0000000   | 0.900999168 | 0.00000000  |\n",
       "| Property_Area | 0.344673517 | 0.961747597 | 0.367689141 | 0.34041056  | 0.150254467 | 0.769769623 | 0.003725242 | 0.050222394 | 0.9009992   | 0.000000000 | 0.51950197  |\n",
       "| Loan_Status | 0.010552686 | 0.249436204 | 0.159502038 | 0.67428533  | 0.210930233 | 0.890804972 | 0.042222188 | 0.765084912 | 0.0000000   | 0.519501967 | 0.00000000  |\n",
       "\n"
      ],
      "text/plain": [
       "                  Married     Dependents  Education   Self_Employed\n",
       "Married           0.000000000 0.000000000 0.638730552 0.75177461   \n",
       "Dependents        0.000000000 0.000000000 0.486680508 0.39710273   \n",
       "Education         0.638730552 0.486680508 0.000000000 0.78009002   \n",
       "Self_Employed     0.751774607 0.397102733 0.780090022 0.00000000   \n",
       "ApplicantIncome   0.643079655 0.009235621 0.006120838 0.00191387   \n",
       "CoapplicantIncome 0.000199239 0.266012339 0.119531552 0.37341600   \n",
       "LoanAmount        0.000717783 0.000425838 0.000118338 0.08354118   \n",
       "Loan_Amount_Term  0.044224852 0.032876730 0.002423274 0.30023753   \n",
       "Credit_History    0.383127968 0.562892103 0.158635802 0.75242517   \n",
       "Property_Area     0.344673517 0.961747597 0.367689141 0.34041056   \n",
       "Loan_Status       0.010552686 0.249436204 0.159502038 0.67428533   \n",
       "                  ApplicantIncome CoapplicantIncome LoanAmount \n",
       "Married           0.643079655     0.000199239       0.000717783\n",
       "Dependents        0.009235621     0.266012339       0.000425838\n",
       "Education         0.006120838     0.119531552       0.000118338\n",
       "Self_Employed     0.001913870     0.373416001       0.083541182\n",
       "ApplicantIncome   0.000000000     0.031386462       0.000000000\n",
       "CoapplicantIncome 0.031386462     0.000000000       0.000000000\n",
       "LoanAmount        0.000000000     0.000000000       0.000000000\n",
       "Loan_Amount_Term  0.596494496     0.981688271       0.457112792\n",
       "Credit_History    0.124367672     0.760014388       0.255442647\n",
       "Property_Area     0.150254467     0.769769623       0.003725242\n",
       "Loan_Status       0.210930233     0.890804972       0.042222188\n",
       "                  Loan_Amount_Term Credit_History Property_Area Loan_Status\n",
       "Married           0.044224852      0.3831280      0.344673517   0.01055269 \n",
       "Dependents        0.032876730      0.5628921      0.961747597   0.24943620 \n",
       "Education         0.002423274      0.1586358      0.367689141   0.15950204 \n",
       "Self_Employed     0.300237530      0.7524252      0.340410561   0.67428533 \n",
       "ApplicantIncome   0.596494496      0.1243677      0.150254467   0.21093023 \n",
       "CoapplicantIncome 0.981688271      0.7600144      0.769769623   0.89080497 \n",
       "LoanAmount        0.457112792      0.2554426      0.003725242   0.04222219 \n",
       "Loan_Amount_Term  0.000000000      0.4140725      0.050222394   0.76508491 \n",
       "Credit_History    0.414072455      0.0000000      0.900999168   0.00000000 \n",
       "Property_Area     0.050222394      0.9009992      0.000000000   0.51950197 \n",
       "Loan_Status       0.765084912      0.0000000      0.519501967   0.00000000 "
      ]
     },
     "metadata": {},
     "output_type": "display_data"
    }
   ],
   "source": [
    "round(cor(loan[, -1]), 2)\n",
    "round(cor_pmat(loan[, -1]), 9)"
   ]
  },
  {
   "cell_type": "code",
   "execution_count": 48,
   "metadata": {},
   "outputs": [
    {
     "data": {
      "image/png": "[encoded data removed]",
      "text/plain": [
       "plot without title"
      ]
     },
     "metadata": {},
     "output_type": "display_data"
    }
   ],
   "source": [
    "options(repr.plot.width = 8, repr.plot.height = 4)\n",
    "ggcorrplot(cor(loan[, -1]), outline.col = \"black\", type = 'lower', p.mat = cor_pmat(loan[, c(-1)]),\n",
    "           title = 'Corrélation entre variables sur l\\'ensemble des clients')"
   ]
  },
  {
   "cell_type": "markdown",
   "metadata": {},
   "source": [
    "CCL:<br/>\n",
    "Il y a donc une forte corrélation entre les antécédents de crédit et l'accord du prêt, ainsi qu'avec le statut marital et le montant demandé. On ne retrouve pas de corrélation entre Property_Area et Loan_Status.\n",
    "\n",
    "Pour \"info\", il y a forte corrélation entre le montant demandé et les revenus des demandeurs et codemandeurs.<br/> \n",
    "De même, le fait d'être marié, d'avoir des personnes à charges ou d'être diplomé a une corrélation sur la durée demandée et sur le montant demandé."
   ]
  },
  {
   "cell_type": "markdown",
   "metadata": {},
   "source": [
    "<a href=\"#sommaire\">Retour au sommaire</a>\n",
    "### <span style='color:red'>ii) En fonction de la notation crédit:<a name=\"M1232\"></a>"
   ]
  },
  {
   "cell_type": "code",
   "execution_count": 49,
   "metadata": {},
   "outputs": [
    {
     "data": {
      "text/html": [
       "<table>\n",
       "<thead><tr><th></th><th scope=col>Married</th><th scope=col>Dependents</th><th scope=col>Education</th><th scope=col>Self_Employed</th><th scope=col>ApplicantIncome</th><th scope=col>CoapplicantIncome</th><th scope=col>LoanAmount</th><th scope=col>Loan_Amount_Term</th><th scope=col>Credit_History</th><th scope=col>Property_Area</th></tr></thead>\n",
       "<tbody>\n",
       "\t<tr><th scope=row>2</th><td>2   </td><td>1   </td><td>1   </td><td>2   </td><td>3000</td><td>   0</td><td> 66 </td><td>360 </td><td>2   </td><td>3   </td></tr>\n",
       "\t<tr><th scope=row>3</th><td>2   </td><td>1   </td><td>2   </td><td>1   </td><td>2583</td><td>2358</td><td>120 </td><td>360 </td><td>2   </td><td>3   </td></tr>\n",
       "\t<tr><th scope=row>4</th><td>1   </td><td>1   </td><td>1   </td><td>1   </td><td>6000</td><td>   0</td><td>141 </td><td>360 </td><td>2   </td><td>3   </td></tr>\n",
       "\t<tr><th scope=row>5</th><td>2   </td><td>3   </td><td>1   </td><td>2   </td><td>5417</td><td>4196</td><td>267 </td><td>360 </td><td>2   </td><td>3   </td></tr>\n",
       "\t<tr><th scope=row>6</th><td>2   </td><td>1   </td><td>2   </td><td>1   </td><td>2333</td><td>1516</td><td> 95 </td><td>360 </td><td>2   </td><td>3   </td></tr>\n",
       "\t<tr><th scope=row>8</th><td>2   </td><td>3   </td><td>1   </td><td>1   </td><td>4006</td><td>1526</td><td>168 </td><td>360 </td><td>2   </td><td>3   </td></tr>\n",
       "</tbody>\n",
       "</table>\n"
      ],
      "text/latex": [
       "\\begin{tabular}{r|llllllllll}\n",
       "  & Married & Dependents & Education & Self\\_Employed & ApplicantIncome & CoapplicantIncome & LoanAmount & Loan\\_Amount\\_Term & Credit\\_History & Property\\_Area\\\\\n",
       "\\hline\n",
       "\t2 & 2    & 1    & 1    & 2    & 3000 &    0 &  66  & 360  & 2    & 3   \\\\\n",
       "\t3 & 2    & 1    & 2    & 1    & 2583 & 2358 & 120  & 360  & 2    & 3   \\\\\n",
       "\t4 & 1    & 1    & 1    & 1    & 6000 &    0 & 141  & 360  & 2    & 3   \\\\\n",
       "\t5 & 2    & 3    & 1    & 2    & 5417 & 4196 & 267  & 360  & 2    & 3   \\\\\n",
       "\t6 & 2    & 1    & 2    & 1    & 2333 & 1516 &  95  & 360  & 2    & 3   \\\\\n",
       "\t8 & 2    & 3    & 1    & 1    & 4006 & 1526 & 168  & 360  & 2    & 3   \\\\\n",
       "\\end{tabular}\n"
      ],
      "text/markdown": [
       "\n",
       "| <!--/--> | Married | Dependents | Education | Self_Employed | ApplicantIncome | CoapplicantIncome | LoanAmount | Loan_Amount_Term | Credit_History | Property_Area |\n",
       "|---|---|---|---|---|---|---|---|---|---|---|\n",
       "| 2 | 2    | 1    | 1    | 2    | 3000 |    0 |  66  | 360  | 2    | 3    |\n",
       "| 3 | 2    | 1    | 2    | 1    | 2583 | 2358 | 120  | 360  | 2    | 3    |\n",
       "| 4 | 1    | 1    | 1    | 1    | 6000 |    0 | 141  | 360  | 2    | 3    |\n",
       "| 5 | 2    | 3    | 1    | 2    | 5417 | 4196 | 267  | 360  | 2    | 3    |\n",
       "| 6 | 2    | 1    | 2    | 1    | 2333 | 1516 |  95  | 360  | 2    | 3    |\n",
       "| 8 | 2    | 3    | 1    | 1    | 4006 | 1526 | 168  | 360  | 2    | 3    |\n",
       "\n"
      ],
      "text/plain": [
       "  Married Dependents Education Self_Employed ApplicantIncome CoapplicantIncome\n",
       "2 2       1          1         2             3000               0             \n",
       "3 2       1          2         1             2583            2358             \n",
       "4 1       1          1         1             6000               0             \n",
       "5 2       3          1         2             5417            4196             \n",
       "6 2       1          2         1             2333            1516             \n",
       "8 2       3          1         1             4006            1526             \n",
       "  LoanAmount Loan_Amount_Term Credit_History Property_Area\n",
       "2  66        360              2              3            \n",
       "3 120        360              2              3            \n",
       "4 141        360              2              3            \n",
       "5 267        360              2              3            \n",
       "6  95        360              2              3            \n",
       "8 168        360              2              3            "
      ]
     },
     "metadata": {},
     "output_type": "display_data"
    },
    {
     "data": {
      "text/html": [
       "<table>\n",
       "<thead><tr><th></th><th scope=col>Married</th><th scope=col>Dependents</th><th scope=col>Education</th><th scope=col>Self_Employed</th><th scope=col>ApplicantIncome</th><th scope=col>CoapplicantIncome</th><th scope=col>LoanAmount</th><th scope=col>Loan_Amount_Term</th><th scope=col>Credit_History</th><th scope=col>Property_Area</th></tr></thead>\n",
       "<tbody>\n",
       "\t<tr><th scope=row>1</th><td>2    </td><td>2    </td><td>1    </td><td>1    </td><td> 4583</td><td> 1508</td><td>128  </td><td>360  </td><td>2    </td><td>1    </td></tr>\n",
       "\t<tr><th scope=row>7</th><td>2    </td><td>4    </td><td>1    </td><td>1    </td><td> 3036</td><td> 2504</td><td>158  </td><td>360  </td><td>1    </td><td>2    </td></tr>\n",
       "\t<tr><th scope=row>9</th><td>2    </td><td>2    </td><td>1    </td><td>1    </td><td>12841</td><td>10968</td><td>349  </td><td>360  </td><td>2    </td><td>2    </td></tr>\n",
       "\t<tr><th scope=row>12</th><td>1    </td><td>1    </td><td>1    </td><td>1    </td><td> 1853</td><td> 2840</td><td>114  </td><td>360  </td><td>2    </td><td>1    </td></tr>\n",
       "\t<tr><th scope=row>15</th><td>1    </td><td>1    </td><td>1    </td><td>1    </td><td> 3510</td><td>    0</td><td> 76  </td><td>360  </td><td>1    </td><td>3    </td></tr>\n",
       "\t<tr><th scope=row>16</th><td>2    </td><td>1    </td><td>2    </td><td>1    </td><td> 4887</td><td>    0</td><td>133  </td><td>360  </td><td>2    </td><td>1    </td></tr>\n",
       "</tbody>\n",
       "</table>\n"
      ],
      "text/latex": [
       "\\begin{tabular}{r|llllllllll}\n",
       "  & Married & Dependents & Education & Self\\_Employed & ApplicantIncome & CoapplicantIncome & LoanAmount & Loan\\_Amount\\_Term & Credit\\_History & Property\\_Area\\\\\n",
       "\\hline\n",
       "\t1 & 2     & 2     & 1     & 1     &  4583 &  1508 & 128   & 360   & 2     & 1    \\\\\n",
       "\t7 & 2     & 4     & 1     & 1     &  3036 &  2504 & 158   & 360   & 1     & 2    \\\\\n",
       "\t9 & 2     & 2     & 1     & 1     & 12841 & 10968 & 349   & 360   & 2     & 2    \\\\\n",
       "\t12 & 1     & 1     & 1     & 1     &  1853 &  2840 & 114   & 360   & 2     & 1    \\\\\n",
       "\t15 & 1     & 1     & 1     & 1     &  3510 &     0 &  76   & 360   & 1     & 3    \\\\\n",
       "\t16 & 2     & 1     & 2     & 1     &  4887 &     0 & 133   & 360   & 2     & 1    \\\\\n",
       "\\end{tabular}\n"
      ],
      "text/markdown": [
       "\n",
       "| <!--/--> | Married | Dependents | Education | Self_Employed | ApplicantIncome | CoapplicantIncome | LoanAmount | Loan_Amount_Term | Credit_History | Property_Area |\n",
       "|---|---|---|---|---|---|---|---|---|---|---|\n",
       "| 1 | 2     | 2     | 1     | 1     |  4583 |  1508 | 128   | 360   | 2     | 1     |\n",
       "| 7 | 2     | 4     | 1     | 1     |  3036 |  2504 | 158   | 360   | 1     | 2     |\n",
       "| 9 | 2     | 2     | 1     | 1     | 12841 | 10968 | 349   | 360   | 2     | 2     |\n",
       "| 12 | 1     | 1     | 1     | 1     |  1853 |  2840 | 114   | 360   | 2     | 1     |\n",
       "| 15 | 1     | 1     | 1     | 1     |  3510 |     0 |  76   | 360   | 1     | 3     |\n",
       "| 16 | 2     | 1     | 2     | 1     |  4887 |     0 | 133   | 360   | 2     | 1     |\n",
       "\n"
      ],
      "text/plain": [
       "   Married Dependents Education Self_Employed ApplicantIncome CoapplicantIncome\n",
       "1  2       2          1         1              4583            1508            \n",
       "7  2       4          1         1              3036            2504            \n",
       "9  2       2          1         1             12841           10968            \n",
       "12 1       1          1         1              1853            2840            \n",
       "15 1       1          1         1              3510               0            \n",
       "16 2       1          2         1              4887               0            \n",
       "   LoanAmount Loan_Amount_Term Credit_History Property_Area\n",
       "1  128        360              2              1            \n",
       "7  158        360              1              2            \n",
       "9  349        360              2              2            \n",
       "12 114        360              2              1            \n",
       "15  76        360              1              3            \n",
       "16 133        360              2              1            "
      ]
     },
     "metadata": {},
     "output_type": "display_data"
    }
   ],
   "source": [
    "oui <- loan[loan$Loan_Status == 2, 2:11]\n",
    "non <- loan[loan$Loan_Status == 1, 2:11]\n",
    "head(oui)\n",
    "head(non)"
   ]
  },
  {
   "cell_type": "markdown",
   "metadata": {},
   "source": [
    "### <span style='color:purple'>Prêts accordés:"
   ]
  },
  {
   "cell_type": "code",
   "execution_count": 50,
   "metadata": {},
   "outputs": [
    {
     "data": {
      "text/html": [
       "<table>\n",
       "<thead><tr><th></th><th scope=col>Married</th><th scope=col>Dependents</th><th scope=col>Education</th><th scope=col>Self_Employed</th><th scope=col>ApplicantIncome</th><th scope=col>CoapplicantIncome</th><th scope=col>LoanAmount</th><th scope=col>Loan_Amount_Term</th><th scope=col>Credit_History</th><th scope=col>Property_Area</th></tr></thead>\n",
       "<tbody>\n",
       "\t<tr><th scope=row>Married</th><td> 1.000</td><td> 0.372</td><td>-0.010</td><td> 0.033</td><td> 0.006</td><td> 0.123</td><td> 0.176</td><td>-0.105</td><td> 0.033</td><td> 0.074</td></tr>\n",
       "\t<tr><th scope=row>Dependents</th><td> 0.372</td><td> 1.000</td><td> 0.056</td><td> 0.078</td><td> 0.137</td><td>-0.026</td><td> 0.195</td><td>-0.078</td><td>-0.075</td><td>-0.003</td></tr>\n",
       "\t<tr><th scope=row>Education</th><td>-0.010</td><td> 0.056</td><td> 1.000</td><td>-0.004</td><td>-0.114</td><td>-0.053</td><td>-0.157</td><td>-0.106</td><td> 0.018</td><td>-0.013</td></tr>\n",
       "\t<tr><th scope=row>Self_Employed</th><td> 0.033</td><td> 0.078</td><td>-0.004</td><td> 1.000</td><td> 0.249</td><td>-0.003</td><td> 0.132</td><td>-0.018</td><td> 0.060</td><td>-0.102</td></tr>\n",
       "\t<tr><th scope=row>ApplicantIncome</th><td> 0.006</td><td> 0.137</td><td>-0.114</td><td> 0.249</td><td> 1.000</td><td>-0.144</td><td> 0.445</td><td>-0.099</td><td>-0.136</td><td>-0.022</td></tr>\n",
       "\t<tr><th scope=row>CoapplicantIncome</th><td> 0.123</td><td>-0.026</td><td>-0.053</td><td>-0.003</td><td>-0.144</td><td> 1.000</td><td> 0.221</td><td> 0.038</td><td>-0.042</td><td>-0.075</td></tr>\n",
       "\t<tr><th scope=row>LoanAmount</th><td> 0.176</td><td> 0.195</td><td>-0.157</td><td> 0.132</td><td> 0.445</td><td> 0.221</td><td> 1.000</td><td>-0.005</td><td>-0.155</td><td>-0.132</td></tr>\n",
       "\t<tr><th scope=row>Loan_Amount_Term</th><td>-0.105</td><td>-0.078</td><td>-0.106</td><td>-0.018</td><td>-0.099</td><td> 0.038</td><td>-0.005</td><td> 1.000</td><td> 0.086</td><td>-0.130</td></tr>\n",
       "\t<tr><th scope=row>Credit_History</th><td> 0.033</td><td>-0.075</td><td> 0.018</td><td> 0.060</td><td>-0.136</td><td>-0.042</td><td>-0.155</td><td> 0.086</td><td> 1.000</td><td> 0.038</td></tr>\n",
       "\t<tr><th scope=row>Property_Area</th><td> 0.074</td><td>-0.003</td><td>-0.013</td><td>-0.102</td><td>-0.022</td><td>-0.075</td><td>-0.132</td><td>-0.130</td><td> 0.038</td><td> 1.000</td></tr>\n",
       "</tbody>\n",
       "</table>\n"
      ],
      "text/latex": [
       "\\begin{tabular}{r|llllllllll}\n",
       "  & Married & Dependents & Education & Self\\_Employed & ApplicantIncome & CoapplicantIncome & LoanAmount & Loan\\_Amount\\_Term & Credit\\_History & Property\\_Area\\\\\n",
       "\\hline\n",
       "\tMarried &  1.000 &  0.372 & -0.010 &  0.033 &  0.006 &  0.123 &  0.176 & -0.105 &  0.033 &  0.074\\\\\n",
       "\tDependents &  0.372 &  1.000 &  0.056 &  0.078 &  0.137 & -0.026 &  0.195 & -0.078 & -0.075 & -0.003\\\\\n",
       "\tEducation & -0.010 &  0.056 &  1.000 & -0.004 & -0.114 & -0.053 & -0.157 & -0.106 &  0.018 & -0.013\\\\\n",
       "\tSelf\\_Employed &  0.033 &  0.078 & -0.004 &  1.000 &  0.249 & -0.003 &  0.132 & -0.018 &  0.060 & -0.102\\\\\n",
       "\tApplicantIncome &  0.006 &  0.137 & -0.114 &  0.249 &  1.000 & -0.144 &  0.445 & -0.099 & -0.136 & -0.022\\\\\n",
       "\tCoapplicantIncome &  0.123 & -0.026 & -0.053 & -0.003 & -0.144 &  1.000 &  0.221 &  0.038 & -0.042 & -0.075\\\\\n",
       "\tLoanAmount &  0.176 &  0.195 & -0.157 &  0.132 &  0.445 &  0.221 &  1.000 & -0.005 & -0.155 & -0.132\\\\\n",
       "\tLoan\\_Amount\\_Term & -0.105 & -0.078 & -0.106 & -0.018 & -0.099 &  0.038 & -0.005 &  1.000 &  0.086 & -0.130\\\\\n",
       "\tCredit\\_History &  0.033 & -0.075 &  0.018 &  0.060 & -0.136 & -0.042 & -0.155 &  0.086 &  1.000 &  0.038\\\\\n",
       "\tProperty\\_Area &  0.074 & -0.003 & -0.013 & -0.102 & -0.022 & -0.075 & -0.132 & -0.130 &  0.038 &  1.000\\\\\n",
       "\\end{tabular}\n"
      ],
      "text/markdown": [
       "\n",
       "| <!--/--> | Married | Dependents | Education | Self_Employed | ApplicantIncome | CoapplicantIncome | LoanAmount | Loan_Amount_Term | Credit_History | Property_Area |\n",
       "|---|---|---|---|---|---|---|---|---|---|---|\n",
       "| Married |  1.000 |  0.372 | -0.010 |  0.033 |  0.006 |  0.123 |  0.176 | -0.105 |  0.033 |  0.074 |\n",
       "| Dependents |  0.372 |  1.000 |  0.056 |  0.078 |  0.137 | -0.026 |  0.195 | -0.078 | -0.075 | -0.003 |\n",
       "| Education | -0.010 |  0.056 |  1.000 | -0.004 | -0.114 | -0.053 | -0.157 | -0.106 |  0.018 | -0.013 |\n",
       "| Self_Employed |  0.033 |  0.078 | -0.004 |  1.000 |  0.249 | -0.003 |  0.132 | -0.018 |  0.060 | -0.102 |\n",
       "| ApplicantIncome |  0.006 |  0.137 | -0.114 |  0.249 |  1.000 | -0.144 |  0.445 | -0.099 | -0.136 | -0.022 |\n",
       "| CoapplicantIncome |  0.123 | -0.026 | -0.053 | -0.003 | -0.144 |  1.000 |  0.221 |  0.038 | -0.042 | -0.075 |\n",
       "| LoanAmount |  0.176 |  0.195 | -0.157 |  0.132 |  0.445 |  0.221 |  1.000 | -0.005 | -0.155 | -0.132 |\n",
       "| Loan_Amount_Term | -0.105 | -0.078 | -0.106 | -0.018 | -0.099 |  0.038 | -0.005 |  1.000 |  0.086 | -0.130 |\n",
       "| Credit_History |  0.033 | -0.075 |  0.018 |  0.060 | -0.136 | -0.042 | -0.155 |  0.086 |  1.000 |  0.038 |\n",
       "| Property_Area |  0.074 | -0.003 | -0.013 | -0.102 | -0.022 | -0.075 | -0.132 | -0.130 |  0.038 |  1.000 |\n",
       "\n"
      ],
      "text/plain": [
       "                  Married Dependents Education Self_Employed ApplicantIncome\n",
       "Married            1.000   0.372     -0.010     0.033         0.006         \n",
       "Dependents         0.372   1.000      0.056     0.078         0.137         \n",
       "Education         -0.010   0.056      1.000    -0.004        -0.114         \n",
       "Self_Employed      0.033   0.078     -0.004     1.000         0.249         \n",
       "ApplicantIncome    0.006   0.137     -0.114     0.249         1.000         \n",
       "CoapplicantIncome  0.123  -0.026     -0.053    -0.003        -0.144         \n",
       "LoanAmount         0.176   0.195     -0.157     0.132         0.445         \n",
       "Loan_Amount_Term  -0.105  -0.078     -0.106    -0.018        -0.099         \n",
       "Credit_History     0.033  -0.075      0.018     0.060        -0.136         \n",
       "Property_Area      0.074  -0.003     -0.013    -0.102        -0.022         \n",
       "                  CoapplicantIncome LoanAmount Loan_Amount_Term Credit_History\n",
       "Married            0.123             0.176     -0.105            0.033        \n",
       "Dependents        -0.026             0.195     -0.078           -0.075        \n",
       "Education         -0.053            -0.157     -0.106            0.018        \n",
       "Self_Employed     -0.003             0.132     -0.018            0.060        \n",
       "ApplicantIncome   -0.144             0.445     -0.099           -0.136        \n",
       "CoapplicantIncome  1.000             0.221      0.038           -0.042        \n",
       "LoanAmount         0.221             1.000     -0.005           -0.155        \n",
       "Loan_Amount_Term   0.038            -0.005      1.000            0.086        \n",
       "Credit_History    -0.042            -0.155      0.086            1.000        \n",
       "Property_Area     -0.075            -0.132     -0.130            0.038        \n",
       "                  Property_Area\n",
       "Married            0.074       \n",
       "Dependents        -0.003       \n",
       "Education         -0.013       \n",
       "Self_Employed     -0.102       \n",
       "ApplicantIncome   -0.022       \n",
       "CoapplicantIncome -0.075       \n",
       "LoanAmount        -0.132       \n",
       "Loan_Amount_Term  -0.130       \n",
       "Credit_History     0.038       \n",
       "Property_Area      1.000       "
      ]
     },
     "metadata": {},
     "output_type": "display_data"
    },
    {
     "data": {
      "text/html": [
       "<table>\n",
       "<thead><tr><th></th><th scope=col>Married</th><th scope=col>Dependents</th><th scope=col>Education</th><th scope=col>Self_Employed</th><th scope=col>ApplicantIncome</th><th scope=col>CoapplicantIncome</th><th scope=col>LoanAmount</th><th scope=col>Loan_Amount_Term</th><th scope=col>Credit_History</th><th scope=col>Property_Area</th></tr></thead>\n",
       "<tbody>\n",
       "\t<tr><th scope=row>Married</th><td>0.000000000</td><td>0.000000000</td><td>0.869761279</td><td>0.571234552</td><td>0.920927517</td><td>0.034360484</td><td>0.002273262</td><td>0.07052079 </td><td>0.575974793</td><td>0.20167251 </td></tr>\n",
       "\t<tr><th scope=row>Dependents</th><td>0.000000000</td><td>0.000000000</td><td>0.336906037</td><td>0.182099151</td><td>0.018574890</td><td>0.655809973</td><td>0.000723778</td><td>0.17905191 </td><td>0.199912343</td><td>0.95718383 </td></tr>\n",
       "\t<tr><th scope=row>Education</th><td>0.869761279</td><td>0.336906037</td><td>0.000000000</td><td>0.941836348</td><td>0.050546999</td><td>0.362419544</td><td>0.006797784</td><td>0.06863633 </td><td>0.755423953</td><td>0.82916074 </td></tr>\n",
       "\t<tr><th scope=row>Self_Employed</th><td>0.571234552</td><td>0.182099151</td><td>0.941836348</td><td>0.000000000</td><td>0.000014532</td><td>0.962074785</td><td>0.022621874</td><td>0.76018259 </td><td>0.306703836</td><td>0.08062709 </td></tr>\n",
       "\t<tr><th scope=row>ApplicantIncome</th><td>0.920927517</td><td>0.018574890</td><td>0.050546999</td><td>0.000014532</td><td>0.000000000</td><td>0.012870780</td><td>0.000000000</td><td>0.08920125 </td><td>0.019176332</td><td>0.70257149 </td></tr>\n",
       "\t<tr><th scope=row>CoapplicantIncome</th><td>0.034360484</td><td>0.655809973</td><td>0.362419544</td><td>0.962074785</td><td>0.012870780</td><td>0.000000000</td><td>0.000118698</td><td>0.51030656 </td><td>0.469967508</td><td>0.19951342 </td></tr>\n",
       "\t<tr><th scope=row>LoanAmount</th><td>0.002273262</td><td>0.000723778</td><td>0.006797784</td><td>0.022621874</td><td>0.000000000</td><td>0.000118698</td><td>0.000000000</td><td>0.93315563 </td><td>0.007576488</td><td>0.02267370 </td></tr>\n",
       "\t<tr><th scope=row>Loan_Amount_Term</th><td>0.070520787</td><td>0.179051906</td><td>0.068636326</td><td>0.760182595</td><td>0.089201252</td><td>0.510306561</td><td>0.933155632</td><td>0.00000000 </td><td>0.139226635</td><td>0.02546012 </td></tr>\n",
       "\t<tr><th scope=row>Credit_History</th><td>0.575974793</td><td>0.199912343</td><td>0.755423953</td><td>0.306703836</td><td>0.019176332</td><td>0.469967508</td><td>0.007576488</td><td>0.13922663 </td><td>0.000000000</td><td>0.51407669 </td></tr>\n",
       "\t<tr><th scope=row>Property_Area</th><td>0.201672507</td><td>0.957183827</td><td>0.829160744</td><td>0.080627091</td><td>0.702571494</td><td>0.199513423</td><td>0.022673704</td><td>0.02546012 </td><td>0.514076695</td><td>0.00000000 </td></tr>\n",
       "</tbody>\n",
       "</table>\n"
      ],
      "text/latex": [
       "\\begin{tabular}{r|llllllllll}\n",
       "  & Married & Dependents & Education & Self\\_Employed & ApplicantIncome & CoapplicantIncome & LoanAmount & Loan\\_Amount\\_Term & Credit\\_History & Property\\_Area\\\\\n",
       "\\hline\n",
       "\tMarried & 0.000000000 & 0.000000000 & 0.869761279 & 0.571234552 & 0.920927517 & 0.034360484 & 0.002273262 & 0.07052079  & 0.575974793 & 0.20167251 \\\\\n",
       "\tDependents & 0.000000000 & 0.000000000 & 0.336906037 & 0.182099151 & 0.018574890 & 0.655809973 & 0.000723778 & 0.17905191  & 0.199912343 & 0.95718383 \\\\\n",
       "\tEducation & 0.869761279 & 0.336906037 & 0.000000000 & 0.941836348 & 0.050546999 & 0.362419544 & 0.006797784 & 0.06863633  & 0.755423953 & 0.82916074 \\\\\n",
       "\tSelf\\_Employed & 0.571234552 & 0.182099151 & 0.941836348 & 0.000000000 & 0.000014532 & 0.962074785 & 0.022621874 & 0.76018259  & 0.306703836 & 0.08062709 \\\\\n",
       "\tApplicantIncome & 0.920927517 & 0.018574890 & 0.050546999 & 0.000014532 & 0.000000000 & 0.012870780 & 0.000000000 & 0.08920125  & 0.019176332 & 0.70257149 \\\\\n",
       "\tCoapplicantIncome & 0.034360484 & 0.655809973 & 0.362419544 & 0.962074785 & 0.012870780 & 0.000000000 & 0.000118698 & 0.51030656  & 0.469967508 & 0.19951342 \\\\\n",
       "\tLoanAmount & 0.002273262 & 0.000723778 & 0.006797784 & 0.022621874 & 0.000000000 & 0.000118698 & 0.000000000 & 0.93315563  & 0.007576488 & 0.02267370 \\\\\n",
       "\tLoan\\_Amount\\_Term & 0.070520787 & 0.179051906 & 0.068636326 & 0.760182595 & 0.089201252 & 0.510306561 & 0.933155632 & 0.00000000  & 0.139226635 & 0.02546012 \\\\\n",
       "\tCredit\\_History & 0.575974793 & 0.199912343 & 0.755423953 & 0.306703836 & 0.019176332 & 0.469967508 & 0.007576488 & 0.13922663  & 0.000000000 & 0.51407669 \\\\\n",
       "\tProperty\\_Area & 0.201672507 & 0.957183827 & 0.829160744 & 0.080627091 & 0.702571494 & 0.199513423 & 0.022673704 & 0.02546012  & 0.514076695 & 0.00000000 \\\\\n",
       "\\end{tabular}\n"
      ],
      "text/markdown": [
       "\n",
       "| <!--/--> | Married | Dependents | Education | Self_Employed | ApplicantIncome | CoapplicantIncome | LoanAmount | Loan_Amount_Term | Credit_History | Property_Area |\n",
       "|---|---|---|---|---|---|---|---|---|---|---|\n",
       "| Married | 0.000000000 | 0.000000000 | 0.869761279 | 0.571234552 | 0.920927517 | 0.034360484 | 0.002273262 | 0.07052079  | 0.575974793 | 0.20167251  |\n",
       "| Dependents | 0.000000000 | 0.000000000 | 0.336906037 | 0.182099151 | 0.018574890 | 0.655809973 | 0.000723778 | 0.17905191  | 0.199912343 | 0.95718383  |\n",
       "| Education | 0.869761279 | 0.336906037 | 0.000000000 | 0.941836348 | 0.050546999 | 0.362419544 | 0.006797784 | 0.06863633  | 0.755423953 | 0.82916074  |\n",
       "| Self_Employed | 0.571234552 | 0.182099151 | 0.941836348 | 0.000000000 | 0.000014532 | 0.962074785 | 0.022621874 | 0.76018259  | 0.306703836 | 0.08062709  |\n",
       "| ApplicantIncome | 0.920927517 | 0.018574890 | 0.050546999 | 0.000014532 | 0.000000000 | 0.012870780 | 0.000000000 | 0.08920125  | 0.019176332 | 0.70257149  |\n",
       "| CoapplicantIncome | 0.034360484 | 0.655809973 | 0.362419544 | 0.962074785 | 0.012870780 | 0.000000000 | 0.000118698 | 0.51030656  | 0.469967508 | 0.19951342  |\n",
       "| LoanAmount | 0.002273262 | 0.000723778 | 0.006797784 | 0.022621874 | 0.000000000 | 0.000118698 | 0.000000000 | 0.93315563  | 0.007576488 | 0.02267370  |\n",
       "| Loan_Amount_Term | 0.070520787 | 0.179051906 | 0.068636326 | 0.760182595 | 0.089201252 | 0.510306561 | 0.933155632 | 0.00000000  | 0.139226635 | 0.02546012  |\n",
       "| Credit_History | 0.575974793 | 0.199912343 | 0.755423953 | 0.306703836 | 0.019176332 | 0.469967508 | 0.007576488 | 0.13922663  | 0.000000000 | 0.51407669  |\n",
       "| Property_Area | 0.201672507 | 0.957183827 | 0.829160744 | 0.080627091 | 0.702571494 | 0.199513423 | 0.022673704 | 0.02546012  | 0.514076695 | 0.00000000  |\n",
       "\n"
      ],
      "text/plain": [
       "                  Married     Dependents  Education   Self_Employed\n",
       "Married           0.000000000 0.000000000 0.869761279 0.571234552  \n",
       "Dependents        0.000000000 0.000000000 0.336906037 0.182099151  \n",
       "Education         0.869761279 0.336906037 0.000000000 0.941836348  \n",
       "Self_Employed     0.571234552 0.182099151 0.941836348 0.000000000  \n",
       "ApplicantIncome   0.920927517 0.018574890 0.050546999 0.000014532  \n",
       "CoapplicantIncome 0.034360484 0.655809973 0.362419544 0.962074785  \n",
       "LoanAmount        0.002273262 0.000723778 0.006797784 0.022621874  \n",
       "Loan_Amount_Term  0.070520787 0.179051906 0.068636326 0.760182595  \n",
       "Credit_History    0.575974793 0.199912343 0.755423953 0.306703836  \n",
       "Property_Area     0.201672507 0.957183827 0.829160744 0.080627091  \n",
       "                  ApplicantIncome CoapplicantIncome LoanAmount \n",
       "Married           0.920927517     0.034360484       0.002273262\n",
       "Dependents        0.018574890     0.655809973       0.000723778\n",
       "Education         0.050546999     0.362419544       0.006797784\n",
       "Self_Employed     0.000014532     0.962074785       0.022621874\n",
       "ApplicantIncome   0.000000000     0.012870780       0.000000000\n",
       "CoapplicantIncome 0.012870780     0.000000000       0.000118698\n",
       "LoanAmount        0.000000000     0.000118698       0.000000000\n",
       "Loan_Amount_Term  0.089201252     0.510306561       0.933155632\n",
       "Credit_History    0.019176332     0.469967508       0.007576488\n",
       "Property_Area     0.702571494     0.199513423       0.022673704\n",
       "                  Loan_Amount_Term Credit_History Property_Area\n",
       "Married           0.07052079       0.575974793    0.20167251   \n",
       "Dependents        0.17905191       0.199912343    0.95718383   \n",
       "Education         0.06863633       0.755423953    0.82916074   \n",
       "Self_Employed     0.76018259       0.306703836    0.08062709   \n",
       "ApplicantIncome   0.08920125       0.019176332    0.70257149   \n",
       "CoapplicantIncome 0.51030656       0.469967508    0.19951342   \n",
       "LoanAmount        0.93315563       0.007576488    0.02267370   \n",
       "Loan_Amount_Term  0.00000000       0.139226635    0.02546012   \n",
       "Credit_History    0.13922663       0.000000000    0.51407669   \n",
       "Property_Area     0.02546012       0.514076695    0.00000000   "
      ]
     },
     "metadata": {},
     "output_type": "display_data"
    }
   ],
   "source": [
    "round(cor(oui), 3)\n",
    "round(cor_pmat(oui), 9)"
   ]
  },
  {
   "cell_type": "markdown",
   "metadata": {},
   "source": [
    "### <span style='color:purple'>Prêts refusés:"
   ]
  },
  {
   "cell_type": "code",
   "execution_count": 51,
   "metadata": {},
   "outputs": [
    {
     "data": {
      "text/html": [
       "<table>\n",
       "<thead><tr><th></th><th scope=col>Married</th><th scope=col>Dependents</th><th scope=col>Education</th><th scope=col>Self_Employed</th><th scope=col>ApplicantIncome</th><th scope=col>CoapplicantIncome</th><th scope=col>LoanAmount</th><th scope=col>Loan_Amount_Term</th><th scope=col>Credit_History</th><th scope=col>Property_Area</th></tr></thead>\n",
       "<tbody>\n",
       "\t<tr><th scope=row>Married</th><td> 1.000</td><td> 0.370</td><td> 0.110</td><td>-0.012</td><td> 0.062</td><td> 0.278</td><td> 0.181</td><td>-0.080</td><td>-0.068</td><td>-0.016</td></tr>\n",
       "\t<tr><th scope=row>Dependents</th><td> 0.370</td><td> 1.000</td><td>-0.001</td><td>-0.038</td><td> 0.133</td><td> 0.204</td><td> 0.149</td><td>-0.153</td><td>-0.082</td><td>-0.006</td></tr>\n",
       "\t<tr><th scope=row>Education</th><td> 0.110</td><td>-0.001</td><td> 1.000</td><td>-0.036</td><td>-0.171</td><td>-0.112</td><td>-0.249</td><td>-0.220</td><td>-0.083</td><td>-0.092</td></tr>\n",
       "\t<tr><th scope=row>Self_Employed</th><td>-0.012</td><td>-0.038</td><td>-0.036</td><td> 1.000</td><td> 0.034</td><td> 0.119</td><td> 0.004</td><td>-0.111</td><td>-0.050</td><td> 0.058</td></tr>\n",
       "\t<tr><th scope=row>ApplicantIncome</th><td> 0.062</td><td> 0.133</td><td>-0.171</td><td> 0.034</td><td> 1.000</td><td>-0.066</td><td> 0.510</td><td> 0.054</td><td>-0.019</td><td>-0.122</td></tr>\n",
       "\t<tr><th scope=row>CoapplicantIncome</th><td> 0.278</td><td> 0.204</td><td>-0.112</td><td> 0.119</td><td>-0.066</td><td> 1.000</td><td> 0.405</td><td>-0.055</td><td> 0.000</td><td> 0.077</td></tr>\n",
       "\t<tr><th scope=row>LoanAmount</th><td> 0.181</td><td> 0.149</td><td>-0.249</td><td> 0.004</td><td> 0.510</td><td> 0.405</td><td> 1.000</td><td> 0.092</td><td> 0.070</td><td>-0.146</td></tr>\n",
       "\t<tr><th scope=row>Loan_Amount_Term</th><td>-0.080</td><td>-0.153</td><td>-0.220</td><td>-0.111</td><td> 0.054</td><td>-0.055</td><td> 0.092</td><td> 1.000</td><td> 0.047</td><td>-0.034</td></tr>\n",
       "\t<tr><th scope=row>Credit_History</th><td>-0.068</td><td>-0.082</td><td>-0.083</td><td>-0.050</td><td>-0.019</td><td> 0.000</td><td> 0.070</td><td> 0.047</td><td> 1.000</td><td>-0.069</td></tr>\n",
       "\t<tr><th scope=row>Property_Area</th><td>-0.016</td><td>-0.006</td><td>-0.092</td><td> 0.058</td><td>-0.122</td><td> 0.077</td><td>-0.146</td><td>-0.034</td><td>-0.069</td><td> 1.000</td></tr>\n",
       "</tbody>\n",
       "</table>\n"
      ],
      "text/latex": [
       "\\begin{tabular}{r|llllllllll}\n",
       "  & Married & Dependents & Education & Self\\_Employed & ApplicantIncome & CoapplicantIncome & LoanAmount & Loan\\_Amount\\_Term & Credit\\_History & Property\\_Area\\\\\n",
       "\\hline\n",
       "\tMarried &  1.000 &  0.370 &  0.110 & -0.012 &  0.062 &  0.278 &  0.181 & -0.080 & -0.068 & -0.016\\\\\n",
       "\tDependents &  0.370 &  1.000 & -0.001 & -0.038 &  0.133 &  0.204 &  0.149 & -0.153 & -0.082 & -0.006\\\\\n",
       "\tEducation &  0.110 & -0.001 &  1.000 & -0.036 & -0.171 & -0.112 & -0.249 & -0.220 & -0.083 & -0.092\\\\\n",
       "\tSelf\\_Employed & -0.012 & -0.038 & -0.036 &  1.000 &  0.034 &  0.119 &  0.004 & -0.111 & -0.050 &  0.058\\\\\n",
       "\tApplicantIncome &  0.062 &  0.133 & -0.171 &  0.034 &  1.000 & -0.066 &  0.510 &  0.054 & -0.019 & -0.122\\\\\n",
       "\tCoapplicantIncome &  0.278 &  0.204 & -0.112 &  0.119 & -0.066 &  1.000 &  0.405 & -0.055 &  0.000 &  0.077\\\\\n",
       "\tLoanAmount &  0.181 &  0.149 & -0.249 &  0.004 &  0.510 &  0.405 &  1.000 &  0.092 &  0.070 & -0.146\\\\\n",
       "\tLoan\\_Amount\\_Term & -0.080 & -0.153 & -0.220 & -0.111 &  0.054 & -0.055 &  0.092 &  1.000 &  0.047 & -0.034\\\\\n",
       "\tCredit\\_History & -0.068 & -0.082 & -0.083 & -0.050 & -0.019 &  0.000 &  0.070 &  0.047 &  1.000 & -0.069\\\\\n",
       "\tProperty\\_Area & -0.016 & -0.006 & -0.092 &  0.058 & -0.122 &  0.077 & -0.146 & -0.034 & -0.069 &  1.000\\\\\n",
       "\\end{tabular}\n"
      ],
      "text/markdown": [
       "\n",
       "| <!--/--> | Married | Dependents | Education | Self_Employed | ApplicantIncome | CoapplicantIncome | LoanAmount | Loan_Amount_Term | Credit_History | Property_Area |\n",
       "|---|---|---|---|---|---|---|---|---|---|---|\n",
       "| Married |  1.000 |  0.370 |  0.110 | -0.012 |  0.062 |  0.278 |  0.181 | -0.080 | -0.068 | -0.016 |\n",
       "| Dependents |  0.370 |  1.000 | -0.001 | -0.038 |  0.133 |  0.204 |  0.149 | -0.153 | -0.082 | -0.006 |\n",
       "| Education |  0.110 | -0.001 |  1.000 | -0.036 | -0.171 | -0.112 | -0.249 | -0.220 | -0.083 | -0.092 |\n",
       "| Self_Employed | -0.012 | -0.038 | -0.036 |  1.000 |  0.034 |  0.119 |  0.004 | -0.111 | -0.050 |  0.058 |\n",
       "| ApplicantIncome |  0.062 |  0.133 | -0.171 |  0.034 |  1.000 | -0.066 |  0.510 |  0.054 | -0.019 | -0.122 |\n",
       "| CoapplicantIncome |  0.278 |  0.204 | -0.112 |  0.119 | -0.066 |  1.000 |  0.405 | -0.055 |  0.000 |  0.077 |\n",
       "| LoanAmount |  0.181 |  0.149 | -0.249 |  0.004 |  0.510 |  0.405 |  1.000 |  0.092 |  0.070 | -0.146 |\n",
       "| Loan_Amount_Term | -0.080 | -0.153 | -0.220 | -0.111 |  0.054 | -0.055 |  0.092 |  1.000 |  0.047 | -0.034 |\n",
       "| Credit_History | -0.068 | -0.082 | -0.083 | -0.050 | -0.019 |  0.000 |  0.070 |  0.047 |  1.000 | -0.069 |\n",
       "| Property_Area | -0.016 | -0.006 | -0.092 |  0.058 | -0.122 |  0.077 | -0.146 | -0.034 | -0.069 |  1.000 |\n",
       "\n"
      ],
      "text/plain": [
       "                  Married Dependents Education Self_Employed ApplicantIncome\n",
       "Married            1.000   0.370      0.110    -0.012         0.062         \n",
       "Dependents         0.370   1.000     -0.001    -0.038         0.133         \n",
       "Education          0.110  -0.001      1.000    -0.036        -0.171         \n",
       "Self_Employed     -0.012  -0.038     -0.036     1.000         0.034         \n",
       "ApplicantIncome    0.062   0.133     -0.171     0.034         1.000         \n",
       "CoapplicantIncome  0.278   0.204     -0.112     0.119        -0.066         \n",
       "LoanAmount         0.181   0.149     -0.249     0.004         0.510         \n",
       "Loan_Amount_Term  -0.080  -0.153     -0.220    -0.111         0.054         \n",
       "Credit_History    -0.068  -0.082     -0.083    -0.050        -0.019         \n",
       "Property_Area     -0.016  -0.006     -0.092     0.058        -0.122         \n",
       "                  CoapplicantIncome LoanAmount Loan_Amount_Term Credit_History\n",
       "Married            0.278             0.181     -0.080           -0.068        \n",
       "Dependents         0.204             0.149     -0.153           -0.082        \n",
       "Education         -0.112            -0.249     -0.220           -0.083        \n",
       "Self_Employed      0.119             0.004     -0.111           -0.050        \n",
       "ApplicantIncome   -0.066             0.510      0.054           -0.019        \n",
       "CoapplicantIncome  1.000             0.405     -0.055            0.000        \n",
       "LoanAmount         0.405             1.000      0.092            0.070        \n",
       "Loan_Amount_Term  -0.055             0.092      1.000            0.047        \n",
       "Credit_History     0.000             0.070      0.047            1.000        \n",
       "Property_Area      0.077            -0.146     -0.034           -0.069        \n",
       "                  Property_Area\n",
       "Married           -0.016       \n",
       "Dependents        -0.006       \n",
       "Education         -0.092       \n",
       "Self_Employed      0.058       \n",
       "ApplicantIncome   -0.122       \n",
       "CoapplicantIncome  0.077       \n",
       "LoanAmount        -0.146       \n",
       "Loan_Amount_Term  -0.034       \n",
       "Credit_History    -0.069       \n",
       "Property_Area      1.000       "
      ]
     },
     "metadata": {},
     "output_type": "display_data"
    },
    {
     "data": {
      "text/html": [
       "<table>\n",
       "<thead><tr><th></th><th scope=col>Married</th><th scope=col>Dependents</th><th scope=col>Education</th><th scope=col>Self_Employed</th><th scope=col>ApplicantIncome</th><th scope=col>CoapplicantIncome</th><th scope=col>LoanAmount</th><th scope=col>Loan_Amount_Term</th><th scope=col>Credit_History</th><th scope=col>Property_Area</th></tr></thead>\n",
       "<tbody>\n",
       "\t<tr><th scope=row>Married</th><td>0.000000000</td><td>0.000011627</td><td>0.209456661</td><td>0.8880679  </td><td>0.4783839  </td><td>0.001213597</td><td>0.037583496</td><td>0.36216055 </td><td>0.4354434  </td><td>0.85232447 </td></tr>\n",
       "\t<tr><th scope=row>Dependents</th><td>0.000011627</td><td>0.000000000</td><td>0.986488237</td><td>0.6647026  </td><td>0.1280290  </td><td>0.018662200</td><td>0.086412915</td><td>0.07813036 </td><td>0.3499865  </td><td>0.94507796 </td></tr>\n",
       "\t<tr><th scope=row>Education</th><td>0.209456661</td><td>0.986488237</td><td>0.000000000</td><td>0.6847045  </td><td>0.0489186  </td><td>0.198466142</td><td>0.003908298</td><td>0.01087018 </td><td>0.3411163  </td><td>0.29069257 </td></tr>\n",
       "\t<tr><th scope=row>Self_Employed</th><td>0.888067919</td><td>0.664702563</td><td>0.684704495</td><td>0.0000000  </td><td>0.7001821  </td><td>0.171505403</td><td>0.960020073</td><td>0.20349885 </td><td>0.5686883  </td><td>0.50859277 </td></tr>\n",
       "\t<tr><th scope=row>ApplicantIncome</th><td>0.478383903</td><td>0.128029037</td><td>0.048918598</td><td>0.7001821  </td><td>0.0000000  </td><td>0.448368381</td><td>0.000000000</td><td>0.53565329 </td><td>0.8268175  </td><td>0.16226207 </td></tr>\n",
       "\t<tr><th scope=row>CoapplicantIncome</th><td>0.001213597</td><td>0.018662200</td><td>0.198466142</td><td>0.1715054  </td><td>0.4483684  </td><td>0.000000000</td><td>0.000001319</td><td>0.52603785 </td><td>0.9984055  </td><td>0.37612752 </td></tr>\n",
       "\t<tr><th scope=row>LoanAmount</th><td>0.037583496</td><td>0.086412915</td><td>0.003908298</td><td>0.9600201  </td><td>0.0000000  </td><td>0.000001319</td><td>0.000000000</td><td>0.29313352 </td><td>0.4256116  </td><td>0.09468336 </td></tr>\n",
       "\t<tr><th scope=row>Loan_Amount_Term</th><td>0.362160546</td><td>0.078130358</td><td>0.010870179</td><td>0.2034989  </td><td>0.5356533  </td><td>0.526037853</td><td>0.293133521</td><td>0.00000000 </td><td>0.5895007  </td><td>0.69509764 </td></tr>\n",
       "\t<tr><th scope=row>Credit_History</th><td>0.435443383</td><td>0.349986517</td><td>0.341116294</td><td>0.5686883  </td><td>0.8268175  </td><td>0.998405547</td><td>0.425611578</td><td>0.58950068 </td><td>0.0000000  </td><td>0.43144850 </td></tr>\n",
       "\t<tr><th scope=row>Property_Area</th><td>0.852324469</td><td>0.945077961</td><td>0.290692566</td><td>0.5085928  </td><td>0.1622621  </td><td>0.376127517</td><td>0.094683363</td><td>0.69509764 </td><td>0.4314485  </td><td>0.00000000 </td></tr>\n",
       "</tbody>\n",
       "</table>\n"
      ],
      "text/latex": [
       "\\begin{tabular}{r|llllllllll}\n",
       "  & Married & Dependents & Education & Self\\_Employed & ApplicantIncome & CoapplicantIncome & LoanAmount & Loan\\_Amount\\_Term & Credit\\_History & Property\\_Area\\\\\n",
       "\\hline\n",
       "\tMarried & 0.000000000 & 0.000011627 & 0.209456661 & 0.8880679   & 0.4783839   & 0.001213597 & 0.037583496 & 0.36216055  & 0.4354434   & 0.85232447 \\\\\n",
       "\tDependents & 0.000011627 & 0.000000000 & 0.986488237 & 0.6647026   & 0.1280290   & 0.018662200 & 0.086412915 & 0.07813036  & 0.3499865   & 0.94507796 \\\\\n",
       "\tEducation & 0.209456661 & 0.986488237 & 0.000000000 & 0.6847045   & 0.0489186   & 0.198466142 & 0.003908298 & 0.01087018  & 0.3411163   & 0.29069257 \\\\\n",
       "\tSelf\\_Employed & 0.888067919 & 0.664702563 & 0.684704495 & 0.0000000   & 0.7001821   & 0.171505403 & 0.960020073 & 0.20349885  & 0.5686883   & 0.50859277 \\\\\n",
       "\tApplicantIncome & 0.478383903 & 0.128029037 & 0.048918598 & 0.7001821   & 0.0000000   & 0.448368381 & 0.000000000 & 0.53565329  & 0.8268175   & 0.16226207 \\\\\n",
       "\tCoapplicantIncome & 0.001213597 & 0.018662200 & 0.198466142 & 0.1715054   & 0.4483684   & 0.000000000 & 0.000001319 & 0.52603785  & 0.9984055   & 0.37612752 \\\\\n",
       "\tLoanAmount & 0.037583496 & 0.086412915 & 0.003908298 & 0.9600201   & 0.0000000   & 0.000001319 & 0.000000000 & 0.29313352  & 0.4256116   & 0.09468336 \\\\\n",
       "\tLoan\\_Amount\\_Term & 0.362160546 & 0.078130358 & 0.010870179 & 0.2034989   & 0.5356533   & 0.526037853 & 0.293133521 & 0.00000000  & 0.5895007   & 0.69509764 \\\\\n",
       "\tCredit\\_History & 0.435443383 & 0.349986517 & 0.341116294 & 0.5686883   & 0.8268175   & 0.998405547 & 0.425611578 & 0.58950068  & 0.0000000   & 0.43144850 \\\\\n",
       "\tProperty\\_Area & 0.852324469 & 0.945077961 & 0.290692566 & 0.5085928   & 0.1622621   & 0.376127517 & 0.094683363 & 0.69509764  & 0.4314485   & 0.00000000 \\\\\n",
       "\\end{tabular}\n"
      ],
      "text/markdown": [
       "\n",
       "| <!--/--> | Married | Dependents | Education | Self_Employed | ApplicantIncome | CoapplicantIncome | LoanAmount | Loan_Amount_Term | Credit_History | Property_Area |\n",
       "|---|---|---|---|---|---|---|---|---|---|---|\n",
       "| Married | 0.000000000 | 0.000011627 | 0.209456661 | 0.8880679   | 0.4783839   | 0.001213597 | 0.037583496 | 0.36216055  | 0.4354434   | 0.85232447  |\n",
       "| Dependents | 0.000011627 | 0.000000000 | 0.986488237 | 0.6647026   | 0.1280290   | 0.018662200 | 0.086412915 | 0.07813036  | 0.3499865   | 0.94507796  |\n",
       "| Education | 0.209456661 | 0.986488237 | 0.000000000 | 0.6847045   | 0.0489186   | 0.198466142 | 0.003908298 | 0.01087018  | 0.3411163   | 0.29069257  |\n",
       "| Self_Employed | 0.888067919 | 0.664702563 | 0.684704495 | 0.0000000   | 0.7001821   | 0.171505403 | 0.960020073 | 0.20349885  | 0.5686883   | 0.50859277  |\n",
       "| ApplicantIncome | 0.478383903 | 0.128029037 | 0.048918598 | 0.7001821   | 0.0000000   | 0.448368381 | 0.000000000 | 0.53565329  | 0.8268175   | 0.16226207  |\n",
       "| CoapplicantIncome | 0.001213597 | 0.018662200 | 0.198466142 | 0.1715054   | 0.4483684   | 0.000000000 | 0.000001319 | 0.52603785  | 0.9984055   | 0.37612752  |\n",
       "| LoanAmount | 0.037583496 | 0.086412915 | 0.003908298 | 0.9600201   | 0.0000000   | 0.000001319 | 0.000000000 | 0.29313352  | 0.4256116   | 0.09468336  |\n",
       "| Loan_Amount_Term | 0.362160546 | 0.078130358 | 0.010870179 | 0.2034989   | 0.5356533   | 0.526037853 | 0.293133521 | 0.00000000  | 0.5895007   | 0.69509764  |\n",
       "| Credit_History | 0.435443383 | 0.349986517 | 0.341116294 | 0.5686883   | 0.8268175   | 0.998405547 | 0.425611578 | 0.58950068  | 0.0000000   | 0.43144850  |\n",
       "| Property_Area | 0.852324469 | 0.945077961 | 0.290692566 | 0.5085928   | 0.1622621   | 0.376127517 | 0.094683363 | 0.69509764  | 0.4314485   | 0.00000000  |\n",
       "\n"
      ],
      "text/plain": [
       "                  Married     Dependents  Education   Self_Employed\n",
       "Married           0.000000000 0.000011627 0.209456661 0.8880679    \n",
       "Dependents        0.000011627 0.000000000 0.986488237 0.6647026    \n",
       "Education         0.209456661 0.986488237 0.000000000 0.6847045    \n",
       "Self_Employed     0.888067919 0.664702563 0.684704495 0.0000000    \n",
       "ApplicantIncome   0.478383903 0.128029037 0.048918598 0.7001821    \n",
       "CoapplicantIncome 0.001213597 0.018662200 0.198466142 0.1715054    \n",
       "LoanAmount        0.037583496 0.086412915 0.003908298 0.9600201    \n",
       "Loan_Amount_Term  0.362160546 0.078130358 0.010870179 0.2034989    \n",
       "Credit_History    0.435443383 0.349986517 0.341116294 0.5686883    \n",
       "Property_Area     0.852324469 0.945077961 0.290692566 0.5085928    \n",
       "                  ApplicantIncome CoapplicantIncome LoanAmount \n",
       "Married           0.4783839       0.001213597       0.037583496\n",
       "Dependents        0.1280290       0.018662200       0.086412915\n",
       "Education         0.0489186       0.198466142       0.003908298\n",
       "Self_Employed     0.7001821       0.171505403       0.960020073\n",
       "ApplicantIncome   0.0000000       0.448368381       0.000000000\n",
       "CoapplicantIncome 0.4483684       0.000000000       0.000001319\n",
       "LoanAmount        0.0000000       0.000001319       0.000000000\n",
       "Loan_Amount_Term  0.5356533       0.526037853       0.293133521\n",
       "Credit_History    0.8268175       0.998405547       0.425611578\n",
       "Property_Area     0.1622621       0.376127517       0.094683363\n",
       "                  Loan_Amount_Term Credit_History Property_Area\n",
       "Married           0.36216055       0.4354434      0.85232447   \n",
       "Dependents        0.07813036       0.3499865      0.94507796   \n",
       "Education         0.01087018       0.3411163      0.29069257   \n",
       "Self_Employed     0.20349885       0.5686883      0.50859277   \n",
       "ApplicantIncome   0.53565329       0.8268175      0.16226207   \n",
       "CoapplicantIncome 0.52603785       0.9984055      0.37612752   \n",
       "LoanAmount        0.29313352       0.4256116      0.09468336   \n",
       "Loan_Amount_Term  0.00000000       0.5895007      0.69509764   \n",
       "Credit_History    0.58950068       0.0000000      0.43144850   \n",
       "Property_Area     0.69509764       0.4314485      0.00000000   "
      ]
     },
     "metadata": {},
     "output_type": "display_data"
    }
   ],
   "source": [
    "round(cor(non), 3)\n",
    "round(cor_pmat(non), 9)"
   ]
  },
  {
   "cell_type": "code",
   "execution_count": 52,
   "metadata": {},
   "outputs": [
    {
     "data": {
      "image/png": "[encoded data removed]",
      "text/plain": [
       "plot without title"
      ]
     },
     "metadata": {},
     "output_type": "display_data"
    }
   ],
   "source": [
    "g_oui <- ggcorrplot(cor(oui), outline.col = \"black\", type = 'lower', p.mat = cor_pmat(oui), title = 'Prêts accordés')\n",
    "g_non <- ggcorrplot(cor(non), outline.col = \"black\", type = 'lower', p.mat = cor_pmat(non), title = 'Prêts refusés')\n",
    "ggarrange(g_oui, g_non, common.legend = TRUE, legend = 'right')"
   ]
  },
  {
   "cell_type": "markdown",
   "metadata": {},
   "source": [
    "CCL:\n",
    "- Les prêts semblent être accordés en priorité à des travailleurs indépendants, diplomés, ayant des personnes à charges, la durée de remboursement étant corrélée à la zone d'habitation et au statut marital de l'emprunteur."
   ]
  },
  {
   "cell_type": "markdown",
   "metadata": {},
   "source": [
    "<a href=\"#sommaire\">Retour au sommaire</a>\n",
    "# Mission 2 - Analyse exploratoire des données.<a name=\"M2\"></a>\n",
    "## <span style='color:blue'>1. Détermination du nombre de composantes principales.<a name=\"M21\"></a>\n",
    "## <span style='color:brown'>a) Etude de l'inertie:<a name=\"M211\"></a>"
   ]
  },
  {
   "cell_type": "code",
   "execution_count": 53,
   "metadata": {},
   "outputs": [
    {
     "data": {
      "text/html": [
       "<ol class=list-inline>\n",
       "\t<li>430</li>\n",
       "\t<li>12</li>\n",
       "</ol>\n"
      ],
      "text/latex": [
       "\\begin{enumerate*}\n",
       "\\item 430\n",
       "\\item 12\n",
       "\\end{enumerate*}\n"
      ],
      "text/markdown": [
       "1. 430\n",
       "2. 12\n",
       "\n",
       "\n"
      ],
      "text/plain": [
       "[1] 430  12"
      ]
     },
     "metadata": {},
     "output_type": "display_data"
    },
    {
     "data": {
      "text/html": [
       "<table>\n",
       "<thead><tr><th scope=col>Gender</th><th scope=col>Married</th><th scope=col>Dependents</th><th scope=col>Education</th><th scope=col>Self_Employed</th><th scope=col>ApplicantIncome</th><th scope=col>CoapplicantIncome</th><th scope=col>LoanAmount</th><th scope=col>Loan_Amount_Term</th><th scope=col>Credit_History</th><th scope=col>Property_Area</th><th scope=col>Loan_Status</th></tr></thead>\n",
       "<tbody>\n",
       "\t<tr><td>Male        </td><td>Yes         </td><td>1           </td><td>Graduate    </td><td>No          </td><td>4583        </td><td>1508        </td><td>128         </td><td>360         </td><td>1           </td><td>Rural       </td><td>N           </td></tr>\n",
       "\t<tr><td>Male        </td><td>Yes         </td><td>0           </td><td>Graduate    </td><td>Yes         </td><td>3000        </td><td>   0        </td><td> 66         </td><td>360         </td><td>1           </td><td>Urban       </td><td>Y           </td></tr>\n",
       "\t<tr><td>Male        </td><td>Yes         </td><td>0           </td><td>Not Graduate</td><td>No          </td><td>2583        </td><td>2358        </td><td>120         </td><td>360         </td><td>1           </td><td>Urban       </td><td>Y           </td></tr>\n",
       "\t<tr><td>Male        </td><td>No          </td><td>0           </td><td>Graduate    </td><td>No          </td><td>6000        </td><td>   0        </td><td>141         </td><td>360         </td><td>1           </td><td>Urban       </td><td>Y           </td></tr>\n",
       "\t<tr><td>Male        </td><td>Yes         </td><td>2           </td><td>Graduate    </td><td>Yes         </td><td>5417        </td><td>4196        </td><td>267         </td><td>360         </td><td>1           </td><td>Urban       </td><td>Y           </td></tr>\n",
       "\t<tr><td>Male        </td><td>Yes         </td><td>0           </td><td>Not Graduate</td><td>No          </td><td>2333        </td><td>1516        </td><td> 95         </td><td>360         </td><td>1           </td><td>Urban       </td><td>Y           </td></tr>\n",
       "</tbody>\n",
       "</table>\n"
      ],
      "text/latex": [
       "\\begin{tabular}{r|llllllllllll}\n",
       " Gender & Married & Dependents & Education & Self\\_Employed & ApplicantIncome & CoapplicantIncome & LoanAmount & Loan\\_Amount\\_Term & Credit\\_History & Property\\_Area & Loan\\_Status\\\\\n",
       "\\hline\n",
       "\t Male         & Yes          & 1            & Graduate     & No           & 4583         & 1508         & 128          & 360          & 1            & Rural        & N           \\\\\n",
       "\t Male         & Yes          & 0            & Graduate     & Yes          & 3000         &    0         &  66          & 360          & 1            & Urban        & Y           \\\\\n",
       "\t Male         & Yes          & 0            & Not Graduate & No           & 2583         & 2358         & 120          & 360          & 1            & Urban        & Y           \\\\\n",
       "\t Male         & No           & 0            & Graduate     & No           & 6000         &    0         & 141          & 360          & 1            & Urban        & Y           \\\\\n",
       "\t Male         & Yes          & 2            & Graduate     & Yes          & 5417         & 4196         & 267          & 360          & 1            & Urban        & Y           \\\\\n",
       "\t Male         & Yes          & 0            & Not Graduate & No           & 2333         & 1516         &  95          & 360          & 1            & Urban        & Y           \\\\\n",
       "\\end{tabular}\n"
      ],
      "text/markdown": [
       "\n",
       "| Gender | Married | Dependents | Education | Self_Employed | ApplicantIncome | CoapplicantIncome | LoanAmount | Loan_Amount_Term | Credit_History | Property_Area | Loan_Status |\n",
       "|---|---|---|---|---|---|---|---|---|---|---|---|\n",
       "| Male         | Yes          | 1            | Graduate     | No           | 4583         | 1508         | 128          | 360          | 1            | Rural        | N            |\n",
       "| Male         | Yes          | 0            | Graduate     | Yes          | 3000         |    0         |  66          | 360          | 1            | Urban        | Y            |\n",
       "| Male         | Yes          | 0            | Not Graduate | No           | 2583         | 2358         | 120          | 360          | 1            | Urban        | Y            |\n",
       "| Male         | No           | 0            | Graduate     | No           | 6000         |    0         | 141          | 360          | 1            | Urban        | Y            |\n",
       "| Male         | Yes          | 2            | Graduate     | Yes          | 5417         | 4196         | 267          | 360          | 1            | Urban        | Y            |\n",
       "| Male         | Yes          | 0            | Not Graduate | No           | 2333         | 1516         |  95          | 360          | 1            | Urban        | Y            |\n",
       "\n"
      ],
      "text/plain": [
       "  Gender Married Dependents Education    Self_Employed ApplicantIncome\n",
       "1 Male   Yes     1          Graduate     No            4583           \n",
       "2 Male   Yes     0          Graduate     Yes           3000           \n",
       "3 Male   Yes     0          Not Graduate No            2583           \n",
       "4 Male   No      0          Graduate     No            6000           \n",
       "5 Male   Yes     2          Graduate     Yes           5417           \n",
       "6 Male   Yes     0          Not Graduate No            2333           \n",
       "  CoapplicantIncome LoanAmount Loan_Amount_Term Credit_History Property_Area\n",
       "1 1508              128        360              1              Rural        \n",
       "2    0               66        360              1              Urban        \n",
       "3 2358              120        360              1              Urban        \n",
       "4    0              141        360              1              Urban        \n",
       "5 4196              267        360              1              Urban        \n",
       "6 1516               95        360              1              Urban        \n",
       "  Loan_Status\n",
       "1 N          \n",
       "2 Y          \n",
       "3 Y          \n",
       "4 Y          \n",
       "5 Y          \n",
       "6 Y          "
      ]
     },
     "metadata": {},
     "output_type": "display_data"
    }
   ],
   "source": [
    "pret <- train[, -1]\n",
    "dim(pret)\n",
    "head(pret)"
   ]
  },
  {
   "cell_type": "code",
   "execution_count": 54,
   "metadata": {},
   "outputs": [
    {
     "data": {
      "text/html": [
       "<dl class=dl-horizontal>\n",
       "\t<dt>Gender</dt>\n",
       "\t\t<dd>2</dd>\n",
       "\t<dt>Married</dt>\n",
       "\t\t<dd>2</dd>\n",
       "\t<dt>Dependents</dt>\n",
       "\t\t<dd>4</dd>\n",
       "\t<dt>Education</dt>\n",
       "\t\t<dd>2</dd>\n",
       "\t<dt>Self_Employed</dt>\n",
       "\t\t<dd>2</dd>\n",
       "\t<dt>ApplicantIncome</dt>\n",
       "\t\t<dd>0</dd>\n",
       "\t<dt>CoapplicantIncome</dt>\n",
       "\t\t<dd>0</dd>\n",
       "\t<dt>LoanAmount</dt>\n",
       "\t\t<dd>0</dd>\n",
       "\t<dt>Loan_Amount_Term</dt>\n",
       "\t\t<dd>0</dd>\n",
       "\t<dt>Credit_History</dt>\n",
       "\t\t<dd>2</dd>\n",
       "\t<dt>Property_Area</dt>\n",
       "\t\t<dd>3</dd>\n",
       "\t<dt>Loan_Status</dt>\n",
       "\t\t<dd>2</dd>\n",
       "</dl>\n"
      ],
      "text/latex": [
       "\\begin{description*}\n",
       "\\item[Gender] 2\n",
       "\\item[Married] 2\n",
       "\\item[Dependents] 4\n",
       "\\item[Education] 2\n",
       "\\item[Self\\textbackslash{}\\_Employed] 2\n",
       "\\item[ApplicantIncome] 0\n",
       "\\item[CoapplicantIncome] 0\n",
       "\\item[LoanAmount] 0\n",
       "\\item[Loan\\textbackslash{}\\_Amount\\textbackslash{}\\_Term] 0\n",
       "\\item[Credit\\textbackslash{}\\_History] 2\n",
       "\\item[Property\\textbackslash{}\\_Area] 3\n",
       "\\item[Loan\\textbackslash{}\\_Status] 2\n",
       "\\end{description*}\n"
      ],
      "text/markdown": [
       "Gender\n",
       ":   2Married\n",
       ":   2Dependents\n",
       ":   4Education\n",
       ":   2Self_Employed\n",
       ":   2ApplicantIncome\n",
       ":   0CoapplicantIncome\n",
       ":   0LoanAmount\n",
       ":   0Loan_Amount_Term\n",
       ":   0Credit_History\n",
       ":   2Property_Area\n",
       ":   3Loan_Status\n",
       ":   2\n",
       "\n"
      ],
      "text/plain": [
       "           Gender           Married        Dependents         Education \n",
       "                2                 2                 4                 2 \n",
       "    Self_Employed   ApplicantIncome CoapplicantIncome        LoanAmount \n",
       "                2                 0                 0                 0 \n",
       " Loan_Amount_Term    Credit_History     Property_Area       Loan_Status \n",
       "                0                 2                 3                 2 "
      ]
     },
     "metadata": {},
     "output_type": "display_data"
    }
   ],
   "source": [
    "# Nombre de niveaux par variables classés 'factor':\n",
    "sapply(pret, nlevels)"
   ]
  },
  {
   "cell_type": "code",
   "execution_count": 55,
   "metadata": {},
   "outputs": [],
   "source": [
    "# On place Loan_Status en variable qualitative supplémentaire:\n",
    "mca <- MCA(pret, ncp = 8, quanti.sup = 6:9, quali.sup = 12)"
   ]
  },
  {
   "cell_type": "code",
   "execution_count": 56,
   "metadata": {
    "scrolled": true
   },
   "outputs": [
    {
     "data": {
      "text/html": [
       "<table>\n",
       "<thead><tr><th></th><th scope=col>eigenvalue</th><th scope=col>variance.percent</th><th scope=col>cumulative.variance.percent</th></tr></thead>\n",
       "<tbody>\n",
       "\t<tr><th scope=row>Dim.1</th><td>0.23749258</td><td>16.624481 </td><td> 16.62448 </td></tr>\n",
       "\t<tr><th scope=row>Dim.2</th><td>0.17251911</td><td>12.076338 </td><td> 28.70082 </td></tr>\n",
       "\t<tr><th scope=row>Dim.3</th><td>0.16184262</td><td>11.328983 </td><td> 40.02980 </td></tr>\n",
       "\t<tr><th scope=row>Dim.4</th><td>0.15021341</td><td>10.514938 </td><td> 50.54474 </td></tr>\n",
       "\t<tr><th scope=row>Dim.5</th><td>0.14596389</td><td>10.217472 </td><td> 60.76221 </td></tr>\n",
       "\t<tr><th scope=row>Dim.6</th><td>0.13362347</td><td> 9.353643 </td><td> 70.11586 </td></tr>\n",
       "\t<tr><th scope=row>Dim.7</th><td>0.12785265</td><td> 8.949685 </td><td> 79.06554 </td></tr>\n",
       "\t<tr><th scope=row>Dim.8</th><td>0.11145932</td><td> 7.802153 </td><td> 86.86769 </td></tr>\n",
       "\t<tr><th scope=row>Dim.9</th><td>0.11045032</td><td> 7.731522 </td><td> 94.59922 </td></tr>\n",
       "\t<tr><th scope=row>Dim.10</th><td>0.07715406</td><td> 5.400784 </td><td>100.00000 </td></tr>\n",
       "</tbody>\n",
       "</table>\n"
      ],
      "text/latex": [
       "\\begin{tabular}{r|lll}\n",
       "  & eigenvalue & variance.percent & cumulative.variance.percent\\\\\n",
       "\\hline\n",
       "\tDim.1 & 0.23749258 & 16.624481  &  16.62448 \\\\\n",
       "\tDim.2 & 0.17251911 & 12.076338  &  28.70082 \\\\\n",
       "\tDim.3 & 0.16184262 & 11.328983  &  40.02980 \\\\\n",
       "\tDim.4 & 0.15021341 & 10.514938  &  50.54474 \\\\\n",
       "\tDim.5 & 0.14596389 & 10.217472  &  60.76221 \\\\\n",
       "\tDim.6 & 0.13362347 &  9.353643  &  70.11586 \\\\\n",
       "\tDim.7 & 0.12785265 &  8.949685  &  79.06554 \\\\\n",
       "\tDim.8 & 0.11145932 &  7.802153  &  86.86769 \\\\\n",
       "\tDim.9 & 0.11045032 &  7.731522  &  94.59922 \\\\\n",
       "\tDim.10 & 0.07715406 &  5.400784  & 100.00000 \\\\\n",
       "\\end{tabular}\n"
      ],
      "text/markdown": [
       "\n",
       "| <!--/--> | eigenvalue | variance.percent | cumulative.variance.percent |\n",
       "|---|---|---|---|\n",
       "| Dim.1 | 0.23749258 | 16.624481  |  16.62448  |\n",
       "| Dim.2 | 0.17251911 | 12.076338  |  28.70082  |\n",
       "| Dim.3 | 0.16184262 | 11.328983  |  40.02980  |\n",
       "| Dim.4 | 0.15021341 | 10.514938  |  50.54474  |\n",
       "| Dim.5 | 0.14596389 | 10.217472  |  60.76221  |\n",
       "| Dim.6 | 0.13362347 |  9.353643  |  70.11586  |\n",
       "| Dim.7 | 0.12785265 |  8.949685  |  79.06554  |\n",
       "| Dim.8 | 0.11145932 |  7.802153  |  86.86769  |\n",
       "| Dim.9 | 0.11045032 |  7.731522  |  94.59922  |\n",
       "| Dim.10 | 0.07715406 |  5.400784  | 100.00000  |\n",
       "\n"
      ],
      "text/plain": [
       "       eigenvalue variance.percent cumulative.variance.percent\n",
       "Dim.1  0.23749258 16.624481         16.62448                  \n",
       "Dim.2  0.17251911 12.076338         28.70082                  \n",
       "Dim.3  0.16184262 11.328983         40.02980                  \n",
       "Dim.4  0.15021341 10.514938         50.54474                  \n",
       "Dim.5  0.14596389 10.217472         60.76221                  \n",
       "Dim.6  0.13362347  9.353643         70.11586                  \n",
       "Dim.7  0.12785265  8.949685         79.06554                  \n",
       "Dim.8  0.11145932  7.802153         86.86769                  \n",
       "Dim.9  0.11045032  7.731522         94.59922                  \n",
       "Dim.10 0.07715406  5.400784        100.00000                  "
      ]
     },
     "metadata": {},
     "output_type": "display_data"
    }
   ],
   "source": [
    "eig.val <- get_eigenvalue(mca)\n",
    "eig.val"
   ]
  },
  {
   "cell_type": "code",
   "execution_count": 57,
   "metadata": {},
   "outputs": [
    {
     "data": {
      "image/png": "[encoded data removed]",
      "text/plain": [
       "plot without title"
      ]
     },
     "metadata": {},
     "output_type": "display_data"
    }
   ],
   "source": [
    "options(repr.plot.width = 7, repr.plot.height = 4.5)\n",
    "fviz_eig(mca, addlabels = TRUE, main = 'Gain d\\'inertie')"
   ]
  },
  {
   "cell_type": "markdown",
   "metadata": {},
   "source": [
    "<a href=\"#sommaire\">Retour au sommaire</a>\n",
    "## <span style='color:blue'>2. Analyse des Correspondances Multiples.<a name=\"M22\"></a>"
   ]
  },
  {
   "cell_type": "code",
   "execution_count": 108,
   "metadata": {},
   "outputs": [],
   "source": [
    "mca <- MCA(pret, ncp = 5, quanti.sup = 6:9, quali.sup = 12)"
   ]
  },
  {
   "cell_type": "code",
   "execution_count": 109,
   "metadata": {},
   "outputs": [
    {
     "data": {
      "text/plain": [
       "Multiple Correspondence Analysis Results for variables\n",
       " ===================================================\n",
       "  Name       Description                  \n",
       "1 \"$coord\"   \"Coordinates for categories\" \n",
       "2 \"$cos2\"    \"Cos2 for categories\"        \n",
       "3 \"$contrib\" \"contributions of categories\""
      ]
     },
     "metadata": {},
     "output_type": "display_data"
    }
   ],
   "source": [
    "var <- get_mca_var(mca)\n",
    "var"
   ]
  },
  {
   "cell_type": "code",
   "execution_count": 121,
   "metadata": {},
   "outputs": [
    {
     "data": {
      "image/png": "[encoded data removed]",
      "text/plain": [
       "Plot with title \"\""
      ]
     },
     "metadata": {},
     "output_type": "display_data"
    }
   ],
   "source": [
    "options(repr.plot.width = 4, repr.plot.height = 7)\n",
    "corrplot(var$cos2, is.corr = F)"
   ]
  },
  {
   "cell_type": "code",
   "execution_count": 61,
   "metadata": {
    "scrolled": false
   },
   "outputs": [],
   "source": [
    "# summmary des variables:\n",
    "#mca$var"
   ]
  },
  {
   "cell_type": "markdown",
   "metadata": {},
   "source": [
    "<a href=\"#sommaire\">Retour au sommaire</a>\n",
    "## <span style='color:brown'>a) Plan factoriel de dimension 1 et 3.<a name=\"M221\"></a>"
   ]
  },
  {
   "cell_type": "code",
   "execution_count": 122,
   "metadata": {
    "scrolled": false
   },
   "outputs": [
    {
     "data": {
      "image/png": "[encoded data removed]",
      "text/plain": [
       "plot without title"
      ]
     },
     "metadata": {},
     "output_type": "display_data"
    },
    {
     "data": {
      "image/png": "[encoded data removed]",
      "text/plain": [
       "plot without title"
      ]
     },
     "metadata": {},
     "output_type": "display_data"
    },
    {
     "data": {
      "image/png": "[encoded data removed]",
      "text/plain": [
       "plot without title"
      ]
     },
     "metadata": {},
     "output_type": "display_data"
    },
    {
     "data": {
      "image/png": "[encoded data removed]",
      "text/plain": [
       "plot without title"
      ]
     },
     "metadata": {},
     "output_type": "display_data"
    }
   ],
   "source": [
    "# Graphes des modalités et des individus:\n",
    "options(repr.plot.width = 8, repr.plot.height = 5)\n",
    "fviz_mca_var(mca, axes = c(1, 3), col.var = \"cos2\", gradient.cols = c(\"#00AFBB\", \"#E7B800\", \"#FC4E07\"), repel = TRUE)\n",
    "\n",
    "fviz_mca_ind (mca, axes = c(1, 3), geom = c('point'), habillage = 12, pointsize = 2, labelsize = 3, \n",
    "              palette = c(\"#FC4E07\", \"#00AFBB\"), addEllipses = TRUE, ellipse.level = 0.95)\n",
    "\n",
    "fviz_mca_ind (mca, axes = c(1, 3), geom = c(\"point\"), labelsize = 3, col.ind = \"cos2\", pointsize = \"cos2\", \n",
    "             gradient.cols = c(\"#00AFBB\", \"#E7B800\", \"#FC4E07\"))\n",
    "\n",
    "fviz_mca_ind (mca, axes = c(1, 3), geom = (\"point\"), habillage = 12, pointsize = \"contrib\")"
   ]
  },
  {
   "cell_type": "markdown",
   "metadata": {},
   "source": [
    "<a href=\"#sommaire\">Retour au sommaire</a>\n",
    "## <span style='color:brown'>b) Plan factoriel de dimension 3 et 4.<a name=\"M222\"></a>"
   ]
  },
  {
   "cell_type": "code",
   "execution_count": 123,
   "metadata": {
    "scrolled": false
   },
   "outputs": [
    {
     "data": {
      "image/png": "[encoded data removed]",
      "text/plain": [
       "plot without title"
      ]
     },
     "metadata": {},
     "output_type": "display_data"
    },
    {
     "data": {
      "image/png": "[encoded data removed]",
      "text/plain": [
       "plot without title"
      ]
     },
     "metadata": {},
     "output_type": "display_data"
    },
    {
     "data": {
      "image/png": "[encoded data removed]",
      "text/plain": [
       "plot without title"
      ]
     },
     "metadata": {},
     "output_type": "display_data"
    },
    {
     "data": {
      "image/png": "[encoded data removed]",
      "text/plain": [
       "plot without title"
      ]
     },
     "metadata": {},
     "output_type": "display_data"
    }
   ],
   "source": [
    "# Graphes des modalités et des individus:\n",
    "options(repr.plot.width = 8, repr.plot.height = 5)\n",
    "fviz_mca_var(mca, axes = c(3, 4), col.var = \"cos2\", gradient.cols = c(\"#00AFBB\", \"#E7B800\", \"#FC4E07\"), repel = TRUE)\n",
    "\n",
    "fviz_mca_ind (mca, axes = c(3, 4), geom = c('point'), habillage = 12, pointsize = 2, labelsize = 3, \n",
    "              palette = c(\"#FC4E07\", \"#00AFBB\"), addEllipses = TRUE, ellipse.level = 0.75)\n",
    "\n",
    "fviz_mca_ind (mca, axes = c(3, 4), geom = c(\"point\"), labelsize = 3, col.ind = \"cos2\", pointsize = \"cos2\", \n",
    "             gradient.cols = c(\"#00AFBB\", \"#E7B800\", \"#FC4E07\"))\n",
    "\n",
    "fviz_mca_ind (mca, axes = c(3, 4), geom = (\"point\"), habillage = 12, pointsize = \"contrib\")"
   ]
  },
  {
   "cell_type": "markdown",
   "metadata": {},
   "source": [
    "<a href=\"#sommaire\">Retour au sommaire</a>\n",
    "# Mission 3 - Analyse prédictive.<a name=\"M3\"></a>\n",
    "## <span style='color:blue'>1. Modélisation à l'aide d'une régression logistique multiple à variable binaire.<a name=\"M31\"></a>\n",
    "### <span style='color:brown'>a) Modélisation.<a name=\"M311\"></a>"
   ]
  },
  {
   "cell_type": "code",
   "execution_count": 65,
   "metadata": {},
   "outputs": [],
   "source": [
    "# Paramétrage du processus d'apprentissage par validation croisée stratifiée:\n",
    "train.control <- trainControl(method = \"cv\", number = 5)"
   ]
  },
  {
   "cell_type": "code",
   "execution_count": 66,
   "metadata": {
    "scrolled": false
   },
   "outputs": [
    {
     "name": "stdout",
     "output_type": "stream",
     "text": [
      "Start:  AIC=345.94\n",
      ".outcome ~ GenderMale + MarriedYes + Dependents1 + Dependents2 + \n",
      "    `Dependents3+` + `EducationNot Graduate` + Self_EmployedYes + \n",
      "    ApplicantIncome + CoapplicantIncome + LoanAmount + Loan_Amount_Term + \n",
      "    Credit_History1 + Property_AreaSemiurban + Property_AreaUrban\n",
      "\n",
      "                          Df Deviance    AIC\n",
      "- CoapplicantIncome        1   315.96 343.96\n",
      "- ApplicantIncome          1   316.01 344.01\n",
      "- Self_EmployedYes         1   316.03 344.03\n",
      "- GenderMale               1   316.05 344.05\n",
      "- Property_AreaUrban       1   316.13 344.13\n",
      "- `Dependents3+`           1   316.80 344.80\n",
      "- Dependents2              1   316.85 344.85\n",
      "- `EducationNot Graduate`  1   316.98 344.98\n",
      "- Loan_Amount_Term         1   317.20 345.20\n",
      "<none>                         315.94 345.94\n",
      "- Dependents1              1   318.10 346.10\n",
      "- MarriedYes               1   319.82 347.82\n",
      "- LoanAmount               1   321.61 349.61\n",
      "- Property_AreaSemiurban   1   322.18 350.18\n",
      "- Credit_History1          1   394.34 422.34\n",
      "\n",
      "Step:  AIC=343.96\n",
      ".outcome ~ GenderMale + MarriedYes + Dependents1 + Dependents2 + \n",
      "    `Dependents3+` + `EducationNot Graduate` + Self_EmployedYes + \n",
      "    ApplicantIncome + LoanAmount + Loan_Amount_Term + Credit_History1 + \n",
      "    Property_AreaSemiurban + Property_AreaUrban\n",
      "\n",
      "                          Df Deviance    AIC\n",
      "- ApplicantIncome          1   316.01 342.01\n",
      "- Self_EmployedYes         1   316.05 342.05\n",
      "- GenderMale               1   316.07 342.07\n",
      "- Property_AreaUrban       1   316.15 342.15\n",
      "- `Dependents3+`           1   316.81 342.81\n",
      "- Dependents2              1   316.88 342.88\n",
      "- `EducationNot Graduate`  1   317.01 343.01\n",
      "- Loan_Amount_Term         1   317.22 343.22\n",
      "<none>                         315.96 343.96\n",
      "- Dependents1              1   318.14 344.14\n",
      "- MarriedYes               1   319.88 345.88\n",
      "- LoanAmount               1   322.20 348.20\n",
      "- Property_AreaSemiurban   1   322.24 348.24\n",
      "- Credit_History1          1   394.41 420.41\n",
      "\n",
      "Step:  AIC=342.01\n",
      ".outcome ~ GenderMale + MarriedYes + Dependents1 + Dependents2 + \n",
      "    `Dependents3+` + `EducationNot Graduate` + Self_EmployedYes + \n",
      "    LoanAmount + Loan_Amount_Term + Credit_History1 + Property_AreaSemiurban + \n",
      "    Property_AreaUrban\n",
      "\n",
      "                          Df Deviance    AIC\n",
      "- Self_EmployedYes         1   316.11 340.11\n",
      "- GenderMale               1   316.12 340.12\n",
      "- Property_AreaUrban       1   316.20 340.20\n",
      "- `Dependents3+`           1   316.91 340.91\n",
      "- Dependents2              1   316.92 340.92\n",
      "- `EducationNot Graduate`  1   317.07 341.07\n",
      "- Loan_Amount_Term         1   317.28 341.28\n",
      "<none>                         316.01 342.01\n",
      "- Dependents1              1   318.14 342.14\n",
      "- MarriedYes               1   319.89 343.89\n",
      "- Property_AreaSemiurban   1   322.30 346.30\n",
      "- LoanAmount               1   323.65 347.65\n",
      "- Credit_History1          1   394.42 418.42\n",
      "\n",
      "Step:  AIC=340.11\n",
      ".outcome ~ GenderMale + MarriedYes + Dependents1 + Dependents2 + \n",
      "    `Dependents3+` + `EducationNot Graduate` + LoanAmount + Loan_Amount_Term + \n",
      "    Credit_History1 + Property_AreaSemiurban + Property_AreaUrban\n",
      "\n",
      "                          Df Deviance    AIC\n",
      "- GenderMale               1   316.22 338.22\n",
      "- Property_AreaUrban       1   316.32 338.32\n",
      "- `Dependents3+`           1   317.02 339.02\n",
      "- Dependents2              1   317.11 339.11\n",
      "- `EducationNot Graduate`  1   317.16 339.16\n",
      "- Loan_Amount_Term         1   317.40 339.40\n",
      "<none>                         316.11 340.11\n",
      "- Dependents1              1   318.17 340.17\n",
      "- MarriedYes               1   319.97 341.97\n",
      "- Property_AreaSemiurban   1   322.31 344.31\n",
      "- LoanAmount               1   323.66 345.66\n",
      "- Credit_History1          1   394.97 416.97\n",
      "\n",
      "Step:  AIC=338.22\n",
      ".outcome ~ MarriedYes + Dependents1 + Dependents2 + `Dependents3+` + \n",
      "    `EducationNot Graduate` + LoanAmount + Loan_Amount_Term + \n",
      "    Credit_History1 + Property_AreaSemiurban + Property_AreaUrban\n",
      "\n",
      "                          Df Deviance    AIC\n",
      "- Property_AreaUrban       1   316.41 336.41\n",
      "- `Dependents3+`           1   317.13 337.13\n",
      "- Dependents2              1   317.22 337.22\n",
      "- `EducationNot Graduate`  1   317.27 337.27\n",
      "- Loan_Amount_Term         1   317.58 337.58\n",
      "<none>                         316.22 338.22\n",
      "- Dependents1              1   318.38 338.38\n",
      "- MarriedYes               1   321.23 341.23\n",
      "- Property_AreaSemiurban   1   322.39 342.39\n",
      "- LoanAmount               1   323.67 343.67\n",
      "- Credit_History1          1   395.87 415.87\n",
      "\n",
      "Step:  AIC=336.41\n",
      ".outcome ~ MarriedYes + Dependents1 + Dependents2 + `Dependents3+` + \n",
      "    `EducationNot Graduate` + LoanAmount + Loan_Amount_Term + \n",
      "    Credit_History1 + Property_AreaSemiurban\n",
      "\n",
      "                          Df Deviance    AIC\n",
      "- `EducationNot Graduate`  1   317.38 335.38\n",
      "- `Dependents3+`           1   317.40 335.40\n",
      "- Dependents2              1   317.41 335.41\n",
      "- Loan_Amount_Term         1   317.66 335.66\n",
      "<none>                         316.41 336.41\n",
      "- Dependents1              1   318.73 336.73\n",
      "- MarriedYes               1   321.31 339.31\n",
      "- LoanAmount               1   323.68 341.68\n",
      "- Property_AreaSemiurban   1   326.46 344.46\n",
      "- Credit_History1          1   396.63 414.63\n",
      "\n",
      "Step:  AIC=335.38\n",
      ".outcome ~ MarriedYes + Dependents1 + Dependents2 + `Dependents3+` + \n",
      "    LoanAmount + Loan_Amount_Term + Credit_History1 + Property_AreaSemiurban\n",
      "\n",
      "                         Df Deviance    AIC\n",
      "- Loan_Amount_Term        1   318.30 334.30\n",
      "- `Dependents3+`          1   318.36 334.36\n",
      "- Dependents2             1   318.42 334.42\n",
      "<none>                        317.38 335.38\n",
      "- Dependents1             1   319.61 335.61\n",
      "- MarriedYes              1   322.00 338.00\n",
      "- LoanAmount              1   323.86 339.86\n",
      "- Property_AreaSemiurban  1   327.45 343.45\n",
      "- Credit_History1         1   399.82 415.82\n",
      "\n",
      "Step:  AIC=334.3\n",
      ".outcome ~ MarriedYes + Dependents1 + Dependents2 + `Dependents3+` + \n",
      "    LoanAmount + Credit_History1 + Property_AreaSemiurban\n",
      "\n",
      "                         Df Deviance    AIC\n",
      "- Dependents2             1   319.44 333.44\n",
      "- `Dependents3+`          1   319.47 333.47\n",
      "- Dependents1             1   320.26 334.26\n",
      "<none>                        318.30 334.30\n",
      "- MarriedYes              1   323.11 337.11\n",
      "- LoanAmount              1   324.91 338.91\n",
      "- Property_AreaSemiurban  1   328.29 342.29\n",
      "- Credit_History1         1   400.12 414.12\n",
      "\n",
      "Step:  AIC=333.44\n",
      ".outcome ~ MarriedYes + Dependents1 + `Dependents3+` + LoanAmount + \n",
      "    Credit_History1 + Property_AreaSemiurban\n",
      "\n",
      "                         Df Deviance    AIC\n",
      "- `Dependents3+`          1   320.19 332.19\n",
      "<none>                        319.44 333.44\n",
      "- Dependents1             1   322.56 334.56\n",
      "- LoanAmount              1   325.83 337.83\n",
      "- MarriedYes              1   326.63 338.63\n",
      "- Property_AreaSemiurban  1   329.11 341.11\n",
      "- Credit_History1         1   401.29 413.29\n",
      "\n",
      "Step:  AIC=332.19\n",
      ".outcome ~ MarriedYes + Dependents1 + LoanAmount + Credit_History1 + \n",
      "    Property_AreaSemiurban\n",
      "\n",
      "                         Df Deviance    AIC\n",
      "<none>                        320.19 332.19\n",
      "- Dependents1             1   323.86 333.86\n",
      "- LoanAmount              1   326.23 336.23\n",
      "- MarriedYes              1   328.55 338.55\n",
      "- Property_AreaSemiurban  1   330.03 340.03\n",
      "- Credit_History1         1   401.29 411.29\n",
      "Start:  AIC=344.79\n",
      ".outcome ~ GenderMale + MarriedYes + Dependents1 + Dependents2 + \n",
      "    `Dependents3+` + `EducationNot Graduate` + Self_EmployedYes + \n",
      "    ApplicantIncome + CoapplicantIncome + LoanAmount + Loan_Amount_Term + \n",
      "    Credit_History1 + Property_AreaSemiurban + Property_AreaUrban\n",
      "\n",
      "                          Df Deviance    AIC\n",
      "- Self_EmployedYes         1   314.79 342.79\n",
      "- Loan_Amount_Term         1   314.89 342.89\n",
      "- CoapplicantIncome        1   314.95 342.95\n",
      "- ApplicantIncome          1   314.98 342.98\n",
      "- `Dependents3+`           1   315.14 343.14\n",
      "- Property_AreaUrban       1   315.14 343.14\n",
      "- GenderMale               1   315.26 343.26\n",
      "- Dependents2              1   315.46 343.46\n",
      "- Dependents1              1   315.66 343.66\n",
      "- `EducationNot Graduate`  1   315.97 343.97\n",
      "<none>                         314.79 344.79\n",
      "- MarriedYes               1   317.71 345.71\n",
      "- LoanAmount               1   318.72 346.72\n",
      "- Property_AreaSemiurban   1   327.10 355.10\n",
      "- Credit_History1          1   395.57 423.57\n"
     ]
    },
    {
     "name": "stdout",
     "output_type": "stream",
     "text": [
      "\n",
      "Step:  AIC=342.79\n",
      ".outcome ~ GenderMale + MarriedYes + Dependents1 + Dependents2 + \n",
      "    `Dependents3+` + `EducationNot Graduate` + ApplicantIncome + \n",
      "    CoapplicantIncome + LoanAmount + Loan_Amount_Term + Credit_History1 + \n",
      "    Property_AreaSemiurban + Property_AreaUrban\n",
      "\n",
      "                          Df Deviance    AIC\n",
      "- Loan_Amount_Term         1   314.89 340.89\n",
      "- CoapplicantIncome        1   314.95 340.95\n",
      "- ApplicantIncome          1   314.99 340.99\n",
      "- Property_AreaUrban       1   315.14 341.14\n",
      "- `Dependents3+`           1   315.14 341.14\n",
      "- GenderMale               1   315.26 341.26\n",
      "- Dependents2              1   315.47 341.47\n",
      "- Dependents1              1   315.66 341.66\n",
      "- `EducationNot Graduate`  1   315.97 341.97\n",
      "<none>                         314.79 342.79\n",
      "- MarriedYes               1   317.71 343.71\n",
      "- LoanAmount               1   318.78 344.78\n",
      "- Property_AreaSemiurban   1   327.17 353.17\n",
      "- Credit_History1          1   395.57 421.57\n",
      "\n",
      "Step:  AIC=340.89\n",
      ".outcome ~ GenderMale + MarriedYes + Dependents1 + Dependents2 + \n",
      "    `Dependents3+` + `EducationNot Graduate` + ApplicantIncome + \n",
      "    CoapplicantIncome + LoanAmount + Credit_History1 + Property_AreaSemiurban + \n",
      "    Property_AreaUrban\n",
      "\n",
      "                          Df Deviance    AIC\n",
      "- CoapplicantIncome        1   315.04 339.04\n",
      "- ApplicantIncome          1   315.11 339.11\n",
      "- `Dependents3+`           1   315.28 339.28\n",
      "- Property_AreaUrban       1   315.29 339.29\n",
      "- GenderMale               1   315.38 339.38\n",
      "- Dependents2              1   315.58 339.58\n",
      "- Dependents1              1   315.69 339.69\n",
      "- `EducationNot Graduate`  1   316.00 340.00\n",
      "<none>                         314.89 340.89\n",
      "- MarriedYes               1   317.86 341.86\n",
      "- LoanAmount               1   318.97 342.97\n",
      "- Property_AreaSemiurban   1   327.49 351.49\n",
      "- Credit_History1          1   395.65 419.65\n",
      "\n",
      "Step:  AIC=339.04\n",
      ".outcome ~ GenderMale + MarriedYes + Dependents1 + Dependents2 + \n",
      "    `Dependents3+` + `EducationNot Graduate` + ApplicantIncome + \n",
      "    LoanAmount + Credit_History1 + Property_AreaSemiurban + Property_AreaUrban\n",
      "\n",
      "                          Df Deviance    AIC\n",
      "- Property_AreaUrban       1   315.43 337.43\n",
      "- `Dependents3+`           1   315.46 337.46\n",
      "- GenderMale               1   315.48 337.48\n",
      "- ApplicantIncome          1   315.50 337.50\n",
      "- Dependents2              1   315.70 337.70\n",
      "- Dependents1              1   315.85 337.85\n",
      "- `EducationNot Graduate`  1   316.11 338.11\n",
      "<none>                         315.04 339.04\n",
      "- MarriedYes               1   317.96 339.96\n",
      "- LoanAmount               1   320.79 342.79\n",
      "- Property_AreaSemiurban   1   327.49 349.49\n",
      "- Credit_History1          1   395.85 417.85\n",
      "\n",
      "Step:  AIC=337.43\n",
      ".outcome ~ GenderMale + MarriedYes + Dependents1 + Dependents2 + \n",
      "    `Dependents3+` + `EducationNot Graduate` + ApplicantIncome + \n",
      "    LoanAmount + Credit_History1 + Property_AreaSemiurban\n",
      "\n",
      "                          Df Deviance    AIC\n",
      "- `Dependents3+`           1   315.77 335.77\n",
      "- ApplicantIncome          1   315.88 335.88\n",
      "- GenderMale               1   315.89 335.89\n",
      "- Dependents1              1   316.07 336.07\n",
      "- Dependents2              1   316.12 336.12\n",
      "- `EducationNot Graduate`  1   316.57 336.57\n",
      "<none>                         315.43 337.43\n",
      "- MarriedYes               1   318.47 338.47\n",
      "- LoanAmount               1   321.62 341.62\n",
      "- Property_AreaSemiurban   1   329.80 349.80\n",
      "- Credit_History1          1   395.94 415.94\n",
      "\n",
      "Step:  AIC=335.77\n",
      ".outcome ~ GenderMale + MarriedYes + Dependents1 + Dependents2 + \n",
      "    `EducationNot Graduate` + ApplicantIncome + LoanAmount + \n",
      "    Credit_History1 + Property_AreaSemiurban\n",
      "\n",
      "                          Df Deviance    AIC\n",
      "- ApplicantIncome          1   316.25 334.25\n",
      "- Dependents2              1   316.28 334.28\n",
      "- GenderMale               1   316.28 334.28\n",
      "- Dependents1              1   316.70 334.70\n",
      "- `EducationNot Graduate`  1   316.86 334.86\n",
      "<none>                         315.77 335.77\n",
      "- MarriedYes               1   319.40 337.40\n",
      "- LoanAmount               1   321.82 339.82\n",
      "- Property_AreaSemiurban   1   330.13 348.13\n",
      "- Credit_History1          1   395.94 413.94\n",
      "\n",
      "Step:  AIC=334.25\n",
      ".outcome ~ GenderMale + MarriedYes + Dependents1 + Dependents2 + \n",
      "    `EducationNot Graduate` + LoanAmount + Credit_History1 + \n",
      "    Property_AreaSemiurban\n",
      "\n",
      "                          Df Deviance    AIC\n",
      "- GenderMale               1   316.75 332.75\n",
      "- Dependents2              1   316.77 332.77\n",
      "- Dependents1              1   317.02 333.02\n",
      "- `EducationNot Graduate`  1   317.38 333.38\n",
      "<none>                         316.25 334.25\n",
      "- MarriedYes               1   319.61 335.61\n",
      "- LoanAmount               1   322.52 338.52\n",
      "- Property_AreaSemiurban   1   330.54 346.54\n",
      "- Credit_History1          1   396.49 412.49\n",
      "\n",
      "Step:  AIC=332.75\n",
      ".outcome ~ MarriedYes + Dependents1 + Dependents2 + `EducationNot Graduate` + \n",
      "    LoanAmount + Credit_History1 + Property_AreaSemiurban\n",
      "\n",
      "                          Df Deviance    AIC\n",
      "- Dependents2              1   317.30 331.30\n",
      "- Dependents1              1   317.56 331.56\n",
      "- `EducationNot Graduate`  1   317.75 331.75\n",
      "<none>                         316.75 332.75\n",
      "- MarriedYes               1   321.51 335.51\n",
      "- LoanAmount               1   322.64 336.64\n",
      "- Property_AreaSemiurban   1   330.78 344.78\n",
      "- Credit_History1          1   397.14 411.14\n",
      "\n",
      "Step:  AIC=331.3\n",
      ".outcome ~ MarriedYes + Dependents1 + `EducationNot Graduate` + \n",
      "    LoanAmount + Credit_History1 + Property_AreaSemiurban\n",
      "\n",
      "                          Df Deviance    AIC\n",
      "- `EducationNot Graduate`  1   318.34 330.34\n",
      "- Dependents1              1   318.54 330.54\n",
      "<none>                         317.30 331.30\n",
      "- LoanAmount               1   323.21 335.21\n",
      "- MarriedYes               1   323.59 335.59\n",
      "- Property_AreaSemiurban   1   330.98 342.98\n",
      "- Credit_History1          1   397.75 409.75\n",
      "\n",
      "Step:  AIC=330.34\n",
      ".outcome ~ MarriedYes + Dependents1 + LoanAmount + Credit_History1 + \n",
      "    Property_AreaSemiurban\n",
      "\n",
      "                         Df Deviance    AIC\n",
      "- Dependents1             1   319.62 329.62\n",
      "<none>                        318.34 330.34\n",
      "- LoanAmount              1   323.50 333.50\n",
      "- MarriedYes              1   324.08 334.08\n",
      "- Property_AreaSemiurban  1   332.53 342.53\n",
      "- Credit_History1         1   400.26 410.26\n",
      "\n",
      "Step:  AIC=329.62\n",
      ".outcome ~ MarriedYes + LoanAmount + Credit_History1 + Property_AreaSemiurban\n",
      "\n",
      "                         Df Deviance    AIC\n",
      "<none>                        319.62 329.62\n",
      "- MarriedYes              1   324.71 332.71\n",
      "- LoanAmount              1   324.79 332.79\n",
      "- Property_AreaSemiurban  1   333.76 341.76\n",
      "- Credit_History1         1   401.44 409.44\n",
      "Start:  AIC=336.43\n",
      ".outcome ~ GenderMale + MarriedYes + Dependents1 + Dependents2 + \n",
      "    `Dependents3+` + `EducationNot Graduate` + Self_EmployedYes + \n",
      "    ApplicantIncome + CoapplicantIncome + LoanAmount + Loan_Amount_Term + \n",
      "    Credit_History1 + Property_AreaSemiurban + Property_AreaUrban\n",
      "\n",
      "                          Df Deviance    AIC\n",
      "- CoapplicantIncome        1   306.45 334.45\n",
      "- Self_EmployedYes         1   306.48 334.48\n",
      "- ApplicantIncome          1   306.58 334.58\n",
      "- Property_AreaUrban       1   306.61 334.61\n",
      "- `Dependents3+`           1   306.75 334.75\n",
      "- Dependents1              1   306.84 334.84\n",
      "- GenderMale               1   307.23 335.23\n",
      "- Loan_Amount_Term         1   307.68 335.68\n",
      "- Dependents2              1   307.76 335.76\n",
      "- `EducationNot Graduate`  1   308.37 336.37\n",
      "<none>                         306.43 336.43\n",
      "- MarriedYes               1   308.51 336.51\n",
      "- LoanAmount               1   309.21 337.21\n",
      "- Property_AreaSemiurban   1   315.41 343.41\n",
      "- Credit_History1          1   395.71 423.71\n",
      "\n",
      "Step:  AIC=334.45\n",
      ".outcome ~ GenderMale + MarriedYes + Dependents1 + Dependents2 + \n",
      "    `Dependents3+` + `EducationNot Graduate` + Self_EmployedYes + \n",
      "    ApplicantIncome + LoanAmount + Loan_Amount_Term + Credit_History1 + \n",
      "    Property_AreaSemiurban + Property_AreaUrban\n",
      "\n",
      "                          Df Deviance    AIC\n",
      "- Self_EmployedYes         1   306.50 332.50\n",
      "- ApplicantIncome          1   306.58 332.58\n",
      "- Property_AreaUrban       1   306.63 332.63\n",
      "- `Dependents3+`           1   306.77 332.77\n",
      "- Dependents1              1   306.87 332.87\n",
      "- GenderMale               1   307.31 333.31\n",
      "- Loan_Amount_Term         1   307.73 333.73\n",
      "- Dependents2              1   307.79 333.79\n",
      "- `EducationNot Graduate`  1   308.41 334.41\n",
      "<none>                         306.45 334.45\n",
      "- MarriedYes               1   308.61 334.61\n",
      "- LoanAmount               1   309.37 335.37\n",
      "- Property_AreaSemiurban   1   315.44 341.44\n",
      "- Credit_History1          1   395.71 421.71\n"
     ]
    },
    {
     "name": "stdout",
     "output_type": "stream",
     "text": [
      "\n",
      "Step:  AIC=332.5\n",
      ".outcome ~ GenderMale + MarriedYes + Dependents1 + Dependents2 + \n",
      "    `Dependents3+` + `EducationNot Graduate` + ApplicantIncome + \n",
      "    LoanAmount + Loan_Amount_Term + Credit_History1 + Property_AreaSemiurban + \n",
      "    Property_AreaUrban\n",
      "\n",
      "                          Df Deviance    AIC\n",
      "- ApplicantIncome          1   306.65 330.65\n",
      "- Property_AreaUrban       1   306.67 330.67\n",
      "- `Dependents3+`           1   306.80 330.80\n",
      "- Dependents1              1   306.90 330.90\n",
      "- GenderMale               1   307.34 331.34\n",
      "- Loan_Amount_Term         1   307.81 331.81\n",
      "- Dependents2              1   307.87 331.87\n",
      "- `EducationNot Graduate`  1   308.45 332.45\n",
      "<none>                         306.50 332.50\n",
      "- MarriedYes               1   308.64 332.64\n",
      "- LoanAmount               1   309.44 333.44\n",
      "- Property_AreaSemiurban   1   315.46 339.46\n",
      "- Credit_History1          1   395.71 419.71\n",
      "\n",
      "Step:  AIC=330.65\n",
      ".outcome ~ GenderMale + MarriedYes + Dependents1 + Dependents2 + \n",
      "    `Dependents3+` + `EducationNot Graduate` + LoanAmount + Loan_Amount_Term + \n",
      "    Credit_History1 + Property_AreaSemiurban + Property_AreaUrban\n",
      "\n",
      "                          Df Deviance    AIC\n",
      "- Property_AreaUrban       1   306.83 328.83\n",
      "- `Dependents3+`           1   307.00 329.00\n",
      "- Dependents1              1   307.04 329.04\n",
      "- GenderMale               1   307.43 329.43\n",
      "- Dependents2              1   307.99 329.99\n",
      "- Loan_Amount_Term         1   308.00 330.00\n",
      "- `EducationNot Graduate`  1   308.62 330.62\n",
      "<none>                         306.65 330.65\n",
      "- MarriedYes               1   308.71 330.71\n",
      "- LoanAmount               1   309.96 331.96\n",
      "- Property_AreaSemiurban   1   315.64 337.64\n",
      "- Credit_History1          1   395.88 417.88\n",
      "\n",
      "Step:  AIC=328.83\n",
      ".outcome ~ GenderMale + MarriedYes + Dependents1 + Dependents2 + \n",
      "    `Dependents3+` + `EducationNot Graduate` + LoanAmount + Loan_Amount_Term + \n",
      "    Credit_History1 + Property_AreaSemiurban\n",
      "\n",
      "                          Df Deviance    AIC\n",
      "- Dependents1              1   307.14 327.14\n",
      "- `Dependents3+`           1   307.17 327.17\n",
      "- GenderMale               1   307.59 327.59\n",
      "- Dependents2              1   308.25 328.25\n",
      "- Loan_Amount_Term         1   308.31 328.31\n",
      "<none>                         306.83 328.83\n",
      "- MarriedYes               1   308.99 328.99\n",
      "- `EducationNot Graduate`  1   309.01 329.01\n",
      "- LoanAmount               1   310.50 330.50\n",
      "- Property_AreaSemiurban   1   317.47 337.47\n",
      "- Credit_History1          1   396.14 416.14\n",
      "\n",
      "Step:  AIC=327.14\n",
      ".outcome ~ GenderMale + MarriedYes + Dependents2 + `Dependents3+` + \n",
      "    `EducationNot Graduate` + LoanAmount + Loan_Amount_Term + \n",
      "    Credit_History1 + Property_AreaSemiurban\n",
      "\n",
      "                          Df Deviance    AIC\n",
      "- `Dependents3+`           1   307.65 325.65\n",
      "- GenderMale               1   308.00 326.00\n",
      "- Loan_Amount_Term         1   308.50 326.50\n",
      "- MarriedYes               1   309.04 327.04\n",
      "- Dependents2              1   309.10 327.10\n",
      "<none>                         307.14 327.14\n",
      "- `EducationNot Graduate`  1   309.34 327.34\n",
      "- LoanAmount               1   310.93 328.93\n",
      "- Property_AreaSemiurban   1   317.98 335.98\n",
      "- Credit_History1          1   396.78 414.78\n",
      "\n",
      "Step:  AIC=325.65\n",
      ".outcome ~ GenderMale + MarriedYes + Dependents2 + `EducationNot Graduate` + \n",
      "    LoanAmount + Loan_Amount_Term + Credit_History1 + Property_AreaSemiurban\n",
      "\n",
      "                          Df Deviance    AIC\n",
      "- GenderMale               1   308.61 324.61\n",
      "- Loan_Amount_Term         1   309.19 325.19\n",
      "- Dependents2              1   309.33 325.33\n",
      "<none>                         307.65 325.65\n",
      "- MarriedYes               1   309.84 325.84\n",
      "- `EducationNot Graduate`  1   309.88 325.88\n",
      "- LoanAmount               1   311.08 327.08\n",
      "- Property_AreaSemiurban   1   318.51 334.51\n",
      "- Credit_History1          1   396.78 412.78\n",
      "\n",
      "Step:  AIC=324.61\n",
      ".outcome ~ MarriedYes + Dependents2 + `EducationNot Graduate` + \n",
      "    LoanAmount + Loan_Amount_Term + Credit_History1 + Property_AreaSemiurban\n",
      "\n",
      "                          Df Deviance    AIC\n",
      "- Dependents2              1   310.35 324.35\n",
      "- Loan_Amount_Term         1   310.40 324.40\n",
      "<none>                         308.61 324.61\n",
      "- `EducationNot Graduate`  1   310.87 324.87\n",
      "- LoanAmount               1   311.73 325.73\n",
      "- MarriedYes               1   312.17 326.17\n",
      "- Property_AreaSemiurban   1   319.01 333.01\n",
      "- Credit_History1          1   398.02 412.02\n",
      "\n",
      "Step:  AIC=324.35\n",
      ".outcome ~ MarriedYes + `EducationNot Graduate` + LoanAmount + \n",
      "    Loan_Amount_Term + Credit_History1 + Property_AreaSemiurban\n",
      "\n",
      "                          Df Deviance    AIC\n",
      "- Loan_Amount_Term         1   312.06 324.06\n",
      "<none>                         310.35 324.35\n",
      "- `EducationNot Graduate`  1   312.86 324.86\n",
      "- LoanAmount               1   313.42 325.42\n",
      "- MarriedYes               1   315.59 327.59\n",
      "- Property_AreaSemiurban   1   320.54 332.54\n",
      "- Credit_History1          1   399.30 411.30\n",
      "\n",
      "Step:  AIC=324.06\n",
      ".outcome ~ MarriedYes + `EducationNot Graduate` + LoanAmount + \n",
      "    Credit_History1 + Property_AreaSemiurban\n",
      "\n",
      "                          Df Deviance    AIC\n",
      "- `EducationNot Graduate`  1   313.99 323.99\n",
      "<none>                         312.06 324.06\n",
      "- LoanAmount               1   315.14 325.14\n",
      "- MarriedYes               1   318.27 328.27\n",
      "- Property_AreaSemiurban   1   322.32 332.32\n",
      "- Credit_History1          1   399.36 409.36\n",
      "\n",
      "Step:  AIC=323.99\n",
      ".outcome ~ MarriedYes + LoanAmount + Credit_History1 + Property_AreaSemiurban\n",
      "\n",
      "                         Df Deviance    AIC\n",
      "<none>                        313.99 323.99\n",
      "- LoanAmount              1   316.23 324.23\n",
      "- MarriedYes              1   320.09 328.09\n",
      "- Property_AreaSemiurban  1   324.42 332.42\n",
      "- Credit_History1         1   402.79 410.79\n",
      "Start:  AIC=335.72\n",
      ".outcome ~ GenderMale + MarriedYes + Dependents1 + Dependents2 + \n",
      "    `Dependents3+` + `EducationNot Graduate` + Self_EmployedYes + \n",
      "    ApplicantIncome + CoapplicantIncome + LoanAmount + Loan_Amount_Term + \n",
      "    Credit_History1 + Property_AreaSemiurban + Property_AreaUrban\n",
      "\n",
      "                          Df Deviance    AIC\n",
      "- CoapplicantIncome        1   305.73 333.73\n",
      "- Loan_Amount_Term         1   305.76 333.76\n",
      "- GenderMale               1   305.93 333.93\n",
      "- Self_EmployedYes         1   306.08 334.08\n",
      "- LoanAmount               1   306.24 334.24\n",
      "- `EducationNot Graduate`  1   306.38 334.38\n",
      "- ApplicantIncome          1   306.45 334.45\n",
      "- Property_AreaUrban       1   306.70 334.70\n",
      "- Dependents1              1   306.70 334.70\n",
      "<none>                         305.72 335.72\n",
      "- `Dependents3+`           1   307.77 335.77\n",
      "- Dependents2              1   308.06 336.06\n",
      "- MarriedYes               1   308.19 336.19\n",
      "- Property_AreaSemiurban   1   318.07 346.07\n",
      "- Credit_History1          1   401.75 429.75\n",
      "\n",
      "Step:  AIC=333.73\n",
      ".outcome ~ GenderMale + MarriedYes + Dependents1 + Dependents2 + \n",
      "    `Dependents3+` + `EducationNot Graduate` + Self_EmployedYes + \n",
      "    ApplicantIncome + LoanAmount + Loan_Amount_Term + Credit_History1 + \n",
      "    Property_AreaSemiurban + Property_AreaUrban\n",
      "\n",
      "                          Df Deviance    AIC\n",
      "- Loan_Amount_Term         1   305.78 331.78\n",
      "- GenderMale               1   305.93 331.93\n",
      "- Self_EmployedYes         1   306.11 332.11\n",
      "- `EducationNot Graduate`  1   306.39 332.39\n",
      "- LoanAmount               1   306.43 332.43\n",
      "- ApplicantIncome          1   306.60 332.60\n",
      "- Dependents1              1   306.71 332.71\n",
      "- Property_AreaUrban       1   306.72 332.72\n",
      "<none>                         305.73 333.73\n",
      "- `Dependents3+`           1   307.82 333.82\n",
      "- Dependents2              1   308.06 334.06\n",
      "- MarriedYes               1   308.19 334.19\n",
      "- Property_AreaSemiurban   1   318.07 344.07\n",
      "- Credit_History1          1   401.94 427.94\n",
      "\n",
      "Step:  AIC=331.78\n",
      ".outcome ~ GenderMale + MarriedYes + Dependents1 + Dependents2 + \n",
      "    `Dependents3+` + `EducationNot Graduate` + Self_EmployedYes + \n",
      "    ApplicantIncome + LoanAmount + Credit_History1 + Property_AreaSemiurban + \n",
      "    Property_AreaUrban\n",
      "\n",
      "                          Df Deviance    AIC\n",
      "- GenderMale               1   305.98 329.98\n",
      "- Self_EmployedYes         1   306.14 330.14\n",
      "- `EducationNot Graduate`  1   306.40 330.40\n",
      "- LoanAmount               1   306.47 330.47\n",
      "- ApplicantIncome          1   306.67 330.67\n",
      "- Dependents1              1   306.72 330.72\n",
      "- Property_AreaUrban       1   306.84 330.84\n",
      "<none>                         305.78 331.78\n",
      "- `Dependents3+`           1   307.95 331.95\n",
      "- Dependents2              1   308.12 332.12\n",
      "- MarriedYes               1   308.29 332.29\n",
      "- Property_AreaSemiurban   1   318.47 342.47\n",
      "- Credit_History1          1   401.94 425.94\n"
     ]
    },
    {
     "name": "stdout",
     "output_type": "stream",
     "text": [
      "\n",
      "Step:  AIC=329.98\n",
      ".outcome ~ MarriedYes + Dependents1 + Dependents2 + `Dependents3+` + \n",
      "    `EducationNot Graduate` + Self_EmployedYes + ApplicantIncome + \n",
      "    LoanAmount + Credit_History1 + Property_AreaSemiurban + Property_AreaUrban\n",
      "\n",
      "                          Df Deviance    AIC\n",
      "- Self_EmployedYes         1   306.33 328.33\n",
      "- `EducationNot Graduate`  1   306.58 328.58\n",
      "- LoanAmount               1   306.62 328.62\n",
      "- ApplicantIncome          1   306.85 328.85\n",
      "- Dependents1              1   307.01 329.01\n",
      "- Property_AreaUrban       1   307.13 329.13\n",
      "<none>                         305.98 329.98\n",
      "- `Dependents3+`           1   308.22 330.22\n",
      "- Dependents2              1   308.40 330.40\n",
      "- MarriedYes               1   309.36 331.36\n",
      "- Property_AreaSemiurban   1   318.55 340.55\n",
      "- Credit_History1          1   402.56 424.56\n",
      "\n",
      "Step:  AIC=328.33\n",
      ".outcome ~ MarriedYes + Dependents1 + Dependents2 + `Dependents3+` + \n",
      "    `EducationNot Graduate` + ApplicantIncome + LoanAmount + \n",
      "    Credit_History1 + Property_AreaSemiurban + Property_AreaUrban\n",
      "\n",
      "                          Df Deviance    AIC\n",
      "- `EducationNot Graduate`  1   306.91 326.91\n",
      "- LoanAmount               1   306.95 326.95\n",
      "- ApplicantIncome          1   307.07 327.07\n",
      "- Dependents1              1   307.53 327.53\n",
      "- Property_AreaUrban       1   307.61 327.61\n",
      "<none>                         306.33 328.33\n",
      "- `Dependents3+`           1   308.55 328.55\n",
      "- Dependents2              1   308.63 328.63\n",
      "- MarriedYes               1   309.87 329.87\n",
      "- Property_AreaSemiurban   1   319.10 339.10\n",
      "- Credit_History1          1   402.56 422.56\n",
      "\n",
      "Step:  AIC=326.91\n",
      ".outcome ~ MarriedYes + Dependents1 + Dependents2 + `Dependents3+` + \n",
      "    ApplicantIncome + LoanAmount + Credit_History1 + Property_AreaSemiurban + \n",
      "    Property_AreaUrban\n",
      "\n",
      "                         Df Deviance    AIC\n",
      "- LoanAmount              1   307.34 325.34\n",
      "- ApplicantIncome         1   307.69 325.69\n",
      "- Dependents1             1   308.17 326.17\n",
      "- Property_AreaUrban      1   308.42 326.42\n",
      "<none>                        306.91 326.91\n",
      "- `Dependents3+`          1   308.97 326.97\n",
      "- Dependents2             1   309.21 327.21\n",
      "- MarriedYes              1   310.30 328.30\n",
      "- Property_AreaSemiurban  1   320.78 338.78\n",
      "- Credit_History1         1   404.01 422.01\n",
      "\n",
      "Step:  AIC=325.34\n",
      ".outcome ~ MarriedYes + Dependents1 + Dependents2 + `Dependents3+` + \n",
      "    ApplicantIncome + Credit_History1 + Property_AreaSemiurban + \n",
      "    Property_AreaUrban\n",
      "\n",
      "                         Df Deviance    AIC\n",
      "- ApplicantIncome         1   307.79 323.79\n",
      "- Dependents1             1   308.74 324.74\n",
      "- Property_AreaUrban      1   308.99 324.99\n",
      "- `Dependents3+`          1   309.21 325.21\n",
      "<none>                        307.34 325.34\n",
      "- Dependents2             1   309.55 325.55\n",
      "- MarriedYes              1   310.46 326.46\n",
      "- Property_AreaSemiurban  1   321.35 337.35\n",
      "- Credit_History1         1   405.70 421.70\n",
      "\n",
      "Step:  AIC=323.79\n",
      ".outcome ~ MarriedYes + Dependents1 + Dependents2 + `Dependents3+` + \n",
      "    Credit_History1 + Property_AreaSemiurban + Property_AreaUrban\n",
      "\n",
      "                         Df Deviance    AIC\n",
      "- Dependents1             1   309.07 323.07\n",
      "- Property_AreaUrban      1   309.38 323.38\n",
      "<none>                        307.79 323.79\n",
      "- Dependents2             1   310.06 324.06\n",
      "- `Dependents3+`          1   310.13 324.13\n",
      "- MarriedYes              1   310.83 324.83\n",
      "- Property_AreaSemiurban  1   321.73 335.73\n",
      "- Credit_History1         1   405.88 419.88\n",
      "\n",
      "Step:  AIC=323.07\n",
      ".outcome ~ MarriedYes + Dependents2 + `Dependents3+` + Credit_History1 + \n",
      "    Property_AreaSemiurban + Property_AreaUrban\n",
      "\n",
      "                         Df Deviance    AIC\n",
      "- Property_AreaUrban      1   310.29 322.29\n",
      "<none>                        309.07 323.07\n",
      "- MarriedYes              1   311.32 323.32\n",
      "- `Dependents3+`          1   312.23 324.23\n",
      "- Dependents2             1   312.67 324.67\n",
      "- Property_AreaSemiurban  1   322.52 334.52\n",
      "- Credit_History1         1   407.21 419.21\n",
      "\n",
      "Step:  AIC=322.29\n",
      ".outcome ~ MarriedYes + Dependents2 + `Dependents3+` + Credit_History1 + \n",
      "    Property_AreaSemiurban\n",
      "\n",
      "                         Df Deviance    AIC\n",
      "<none>                        310.29 322.29\n",
      "- MarriedYes              1   312.83 322.83\n",
      "- `Dependents3+`          1   313.00 323.00\n",
      "- Dependents2             1   313.90 323.90\n",
      "- Property_AreaSemiurban  1   323.48 333.48\n",
      "- Credit_History1         1   407.92 417.92\n",
      "Start:  AIC=342.13\n",
      ".outcome ~ GenderMale + MarriedYes + Dependents1 + Dependents2 + \n",
      "    `Dependents3+` + `EducationNot Graduate` + Self_EmployedYes + \n",
      "    ApplicantIncome + CoapplicantIncome + LoanAmount + Loan_Amount_Term + \n",
      "    Credit_History1 + Property_AreaSemiurban + Property_AreaUrban\n",
      "\n",
      "                          Df Deviance    AIC\n",
      "- Property_AreaUrban       1   312.13 340.13\n",
      "- `Dependents3+`           1   312.14 340.14\n",
      "- Loan_Amount_Term         1   312.14 340.14\n",
      "- ApplicantIncome          1   312.15 340.15\n",
      "- Self_EmployedYes         1   312.20 340.20\n",
      "- CoapplicantIncome        1   312.36 340.36\n",
      "- Dependents1              1   313.23 341.23\n",
      "- MarriedYes               1   313.34 341.34\n",
      "- `EducationNot Graduate`  1   313.65 341.65\n",
      "<none>                         312.13 342.13\n",
      "- Dependents2              1   315.37 343.37\n",
      "- GenderMale               1   316.00 344.00\n",
      "- LoanAmount               1   316.73 344.73\n",
      "- Property_AreaSemiurban   1   318.92 346.92\n",
      "- Credit_History1          1   390.77 418.77\n",
      "\n",
      "Step:  AIC=340.13\n",
      ".outcome ~ GenderMale + MarriedYes + Dependents1 + Dependents2 + \n",
      "    `Dependents3+` + `EducationNot Graduate` + Self_EmployedYes + \n",
      "    ApplicantIncome + CoapplicantIncome + LoanAmount + Loan_Amount_Term + \n",
      "    Credit_History1 + Property_AreaSemiurban\n",
      "\n",
      "                          Df Deviance    AIC\n",
      "- `Dependents3+`           1   312.14 338.14\n",
      "- Loan_Amount_Term         1   312.14 338.14\n",
      "- ApplicantIncome          1   312.15 338.15\n",
      "- Self_EmployedYes         1   312.20 338.20\n",
      "- CoapplicantIncome        1   312.36 338.36\n",
      "- Dependents1              1   313.25 339.25\n",
      "- MarriedYes               1   313.34 339.34\n",
      "- `EducationNot Graduate`  1   313.69 339.69\n",
      "<none>                         312.13 340.13\n",
      "- Dependents2              1   315.38 341.38\n",
      "- GenderMale               1   316.01 342.01\n",
      "- LoanAmount               1   316.89 342.89\n",
      "- Property_AreaSemiurban   1   321.54 347.54\n",
      "- Credit_History1          1   390.80 416.80\n",
      "\n",
      "Step:  AIC=338.14\n",
      ".outcome ~ GenderMale + MarriedYes + Dependents1 + Dependents2 + \n",
      "    `EducationNot Graduate` + Self_EmployedYes + ApplicantIncome + \n",
      "    CoapplicantIncome + LoanAmount + Loan_Amount_Term + Credit_History1 + \n",
      "    Property_AreaSemiurban\n",
      "\n",
      "                          Df Deviance    AIC\n",
      "- Loan_Amount_Term         1   312.14 336.14\n",
      "- ApplicantIncome          1   312.15 336.15\n",
      "- Self_EmployedYes         1   312.20 336.20\n",
      "- CoapplicantIncome        1   312.36 336.36\n",
      "- Dependents1              1   313.30 337.30\n",
      "- MarriedYes               1   313.38 337.38\n",
      "- `EducationNot Graduate`  1   313.69 337.69\n",
      "<none>                         312.14 338.14\n",
      "- Dependents2              1   315.60 339.60\n",
      "- GenderMale               1   316.01 340.01\n",
      "- LoanAmount               1   316.91 340.91\n",
      "- Property_AreaSemiurban   1   321.58 345.58\n",
      "- Credit_History1          1   390.84 414.84\n",
      "\n",
      "Step:  AIC=336.14\n",
      ".outcome ~ GenderMale + MarriedYes + Dependents1 + Dependents2 + \n",
      "    `EducationNot Graduate` + Self_EmployedYes + ApplicantIncome + \n",
      "    CoapplicantIncome + LoanAmount + Credit_History1 + Property_AreaSemiurban\n",
      "\n",
      "                          Df Deviance    AIC\n",
      "- ApplicantIncome          1   312.15 334.15\n",
      "- Self_EmployedYes         1   312.20 334.20\n",
      "- CoapplicantIncome        1   312.36 334.36\n",
      "- Dependents1              1   313.31 335.31\n",
      "- MarriedYes               1   313.39 335.39\n",
      "- `EducationNot Graduate`  1   313.70 335.70\n",
      "<none>                         312.14 336.14\n",
      "- Dependents2              1   315.60 337.60\n",
      "- GenderMale               1   316.02 338.02\n",
      "- LoanAmount               1   316.94 338.94\n",
      "- Property_AreaSemiurban   1   321.59 343.59\n",
      "- Credit_History1          1   390.91 412.91\n",
      "\n",
      "Step:  AIC=334.15\n",
      ".outcome ~ GenderMale + MarriedYes + Dependents1 + Dependents2 + \n",
      "    `EducationNot Graduate` + Self_EmployedYes + CoapplicantIncome + \n",
      "    LoanAmount + Credit_History1 + Property_AreaSemiurban\n",
      "\n"
     ]
    },
    {
     "name": "stdout",
     "output_type": "stream",
     "text": [
      "                          Df Deviance    AIC\n",
      "- Self_EmployedYes         1   312.23 332.23\n",
      "- CoapplicantIncome        1   312.36 332.36\n",
      "- Dependents1              1   313.37 333.37\n",
      "- MarriedYes               1   313.43 333.43\n",
      "- `EducationNot Graduate`  1   313.70 333.70\n",
      "<none>                         312.15 334.15\n",
      "- Dependents2              1   315.62 335.62\n",
      "- GenderMale               1   316.02 336.02\n",
      "- LoanAmount               1   319.01 339.01\n",
      "- Property_AreaSemiurban   1   321.59 341.59\n",
      "- Credit_History1          1   391.14 411.14\n",
      "\n",
      "Step:  AIC=332.23\n",
      ".outcome ~ GenderMale + MarriedYes + Dependents1 + Dependents2 + \n",
      "    `EducationNot Graduate` + CoapplicantIncome + LoanAmount + \n",
      "    Credit_History1 + Property_AreaSemiurban\n",
      "\n",
      "                          Df Deviance    AIC\n",
      "- CoapplicantIncome        1   312.45 330.45\n",
      "- MarriedYes               1   313.52 331.52\n",
      "- Dependents1              1   313.53 331.53\n",
      "- `EducationNot Graduate`  1   313.77 331.77\n",
      "<none>                         312.23 332.23\n",
      "- Dependents2              1   315.63 333.63\n",
      "- GenderMale               1   316.12 334.12\n",
      "- LoanAmount               1   319.17 337.17\n",
      "- Property_AreaSemiurban   1   321.72 339.72\n",
      "- Credit_History1          1   391.45 409.45\n",
      "\n",
      "Step:  AIC=330.45\n",
      ".outcome ~ GenderMale + MarriedYes + Dependents1 + Dependents2 + \n",
      "    `EducationNot Graduate` + LoanAmount + Credit_History1 + \n",
      "    Property_AreaSemiurban\n",
      "\n",
      "                          Df Deviance    AIC\n",
      "- MarriedYes               1   313.62 329.62\n",
      "- Dependents1              1   313.71 329.71\n",
      "- `EducationNot Graduate`  1   313.96 329.96\n",
      "<none>                         312.45 330.45\n",
      "- Dependents2              1   315.70 331.70\n",
      "- GenderMale               1   316.18 332.18\n",
      "- LoanAmount               1   320.95 336.95\n",
      "- Property_AreaSemiurban   1   321.87 337.87\n",
      "- Credit_History1          1   391.77 407.77\n",
      "\n",
      "Step:  AIC=329.62\n",
      ".outcome ~ GenderMale + Dependents1 + Dependents2 + `EducationNot Graduate` + \n",
      "    LoanAmount + Credit_History1 + Property_AreaSemiurban\n",
      "\n",
      "                          Df Deviance    AIC\n",
      "- Dependents1              1   314.43 328.43\n",
      "- `EducationNot Graduate`  1   315.23 329.23\n",
      "<none>                         313.62 329.62\n",
      "- Dependents2              1   318.39 332.39\n",
      "- GenderMale               1   319.69 333.69\n",
      "- LoanAmount               1   321.75 335.75\n",
      "- Property_AreaSemiurban   1   323.16 337.16\n",
      "- Credit_History1          1   393.27 407.27\n",
      "\n",
      "Step:  AIC=328.43\n",
      ".outcome ~ GenderMale + Dependents2 + `EducationNot Graduate` + \n",
      "    LoanAmount + Credit_History1 + Property_AreaSemiurban\n",
      "\n",
      "                          Df Deviance    AIC\n",
      "- `EducationNot Graduate`  1   316.07 328.07\n",
      "<none>                         314.43 328.43\n",
      "- Dependents2              1   320.22 332.22\n",
      "- GenderMale               1   320.35 332.35\n",
      "- LoanAmount               1   322.45 334.45\n",
      "- Property_AreaSemiurban   1   323.86 335.86\n",
      "- Credit_History1          1   394.08 406.08\n",
      "\n",
      "Step:  AIC=328.07\n",
      ".outcome ~ GenderMale + Dependents2 + LoanAmount + Credit_History1 + \n",
      "    Property_AreaSemiurban\n",
      "\n",
      "                         Df Deviance    AIC\n",
      "<none>                        316.07 328.07\n",
      "- GenderMale              1   321.48 331.48\n",
      "- Dependents2             1   321.92 331.92\n",
      "- LoanAmount              1   322.96 332.96\n",
      "- Property_AreaSemiurban  1   325.74 335.74\n",
      "- Credit_History1         1   398.03 408.03\n",
      "Start:  AIC=422.05\n",
      ".outcome ~ GenderMale + MarriedYes + Dependents1 + Dependents2 + \n",
      "    `Dependents3+` + `EducationNot Graduate` + Self_EmployedYes + \n",
      "    ApplicantIncome + CoapplicantIncome + LoanAmount + Loan_Amount_Term + \n",
      "    Credit_History1 + Property_AreaSemiurban + Property_AreaUrban\n",
      "\n",
      "                          Df Deviance    AIC\n",
      "- Self_EmployedYes         1   392.06 420.06\n",
      "- CoapplicantIncome        1   392.08 420.08\n",
      "- Property_AreaUrban       1   392.21 420.21\n",
      "- ApplicantIncome          1   392.21 420.21\n",
      "- Loan_Amount_Term         1   392.46 420.46\n",
      "- `Dependents3+`           1   392.71 420.71\n",
      "- GenderMale               1   392.97 420.97\n",
      "- Dependents1              1   393.34 421.34\n",
      "- `EducationNot Graduate`  1   393.46 421.46\n",
      "- Dependents2              1   394.02 422.02\n",
      "<none>                         392.05 422.05\n",
      "- MarriedYes               1   395.12 423.12\n",
      "- LoanAmount               1   396.09 424.09\n",
      "- Property_AreaSemiurban   1   403.53 431.53\n",
      "- Credit_History1          1   496.92 524.92\n",
      "\n",
      "Step:  AIC=420.06\n",
      ".outcome ~ GenderMale + MarriedYes + Dependents1 + Dependents2 + \n",
      "    `Dependents3+` + `EducationNot Graduate` + ApplicantIncome + \n",
      "    CoapplicantIncome + LoanAmount + Loan_Amount_Term + Credit_History1 + \n",
      "    Property_AreaSemiurban + Property_AreaUrban\n",
      "\n",
      "                          Df Deviance    AIC\n",
      "- CoapplicantIncome        1   392.08 418.08\n",
      "- ApplicantIncome          1   392.21 418.21\n",
      "- Property_AreaUrban       1   392.22 418.22\n",
      "- Loan_Amount_Term         1   392.46 418.46\n",
      "- `Dependents3+`           1   392.72 418.72\n",
      "- GenderMale               1   392.98 418.98\n",
      "- Dependents1              1   393.37 419.37\n",
      "- `EducationNot Graduate`  1   393.47 419.47\n",
      "- Dependents2              1   394.02 420.02\n",
      "<none>                         392.06 420.06\n",
      "- MarriedYes               1   395.13 421.13\n",
      "- LoanAmount               1   396.09 422.09\n",
      "- Property_AreaSemiurban   1   403.61 429.61\n",
      "- Credit_History1          1   496.93 522.93\n",
      "\n",
      "Step:  AIC=418.08\n",
      ".outcome ~ GenderMale + MarriedYes + Dependents1 + Dependents2 + \n",
      "    `Dependents3+` + `EducationNot Graduate` + ApplicantIncome + \n",
      "    LoanAmount + Loan_Amount_Term + Credit_History1 + Property_AreaSemiurban + \n",
      "    Property_AreaUrban\n",
      "\n",
      "                          Df Deviance    AIC\n",
      "- Property_AreaUrban       1   392.25 416.25\n",
      "- ApplicantIncome          1   392.30 416.30\n",
      "- Loan_Amount_Term         1   392.48 416.48\n",
      "- `Dependents3+`           1   392.76 416.76\n",
      "- GenderMale               1   392.98 416.98\n",
      "- Dependents1              1   393.38 417.38\n",
      "- `EducationNot Graduate`  1   393.48 417.48\n",
      "- Dependents2              1   394.03 418.03\n",
      "<none>                         392.08 418.08\n",
      "- MarriedYes               1   395.13 419.13\n",
      "- LoanAmount               1   397.00 421.00\n",
      "- Property_AreaSemiurban   1   403.61 427.61\n",
      "- Credit_History1          1   497.13 521.13\n",
      "\n",
      "Step:  AIC=416.25\n",
      ".outcome ~ GenderMale + MarriedYes + Dependents1 + Dependents2 + \n",
      "    `Dependents3+` + `EducationNot Graduate` + ApplicantIncome + \n",
      "    LoanAmount + Loan_Amount_Term + Credit_History1 + Property_AreaSemiurban\n",
      "\n",
      "                          Df Deviance    AIC\n",
      "- ApplicantIncome          1   392.47 414.47\n",
      "- Loan_Amount_Term         1   392.71 414.71\n",
      "- `Dependents3+`           1   392.87 414.87\n",
      "- GenderMale               1   393.17 415.17\n",
      "- Dependents1              1   393.44 415.44\n",
      "- `EducationNot Graduate`  1   393.78 415.78\n",
      "- Dependents2              1   394.24 416.24\n",
      "<none>                         392.25 416.25\n",
      "- MarriedYes               1   395.38 417.38\n",
      "- LoanAmount               1   397.53 419.53\n",
      "- Property_AreaSemiurban   1   406.29 428.29\n",
      "- Credit_History1          1   497.17 519.17\n",
      "\n",
      "Step:  AIC=414.47\n",
      ".outcome ~ GenderMale + MarriedYes + Dependents1 + Dependents2 + \n",
      "    `Dependents3+` + `EducationNot Graduate` + LoanAmount + Loan_Amount_Term + \n",
      "    Credit_History1 + Property_AreaSemiurban\n",
      "\n",
      "                          Df Deviance    AIC\n",
      "- Loan_Amount_Term         1   392.96 412.96\n",
      "- `Dependents3+`           1   393.16 413.16\n",
      "- GenderMale               1   393.37 413.37\n",
      "- Dependents1              1   393.58 413.58\n",
      "- `EducationNot Graduate`  1   394.05 414.05\n",
      "- Dependents2              1   394.45 414.45\n",
      "<none>                         392.47 414.47\n",
      "- MarriedYes               1   395.47 415.47\n",
      "- LoanAmount               1   398.18 418.18\n",
      "- Property_AreaSemiurban   1   406.52 426.52\n",
      "- Credit_History1          1   497.17 517.17\n",
      "\n",
      "Step:  AIC=412.96\n",
      ".outcome ~ GenderMale + MarriedYes + Dependents1 + Dependents2 + \n",
      "    `Dependents3+` + `EducationNot Graduate` + LoanAmount + Credit_History1 + \n",
      "    Property_AreaSemiurban\n",
      "\n",
      "                          Df Deviance    AIC\n",
      "- `Dependents3+`           1   393.76 411.76\n",
      "- Dependents1              1   393.91 411.91\n",
      "- GenderMale               1   393.94 411.94\n",
      "- `EducationNot Graduate`  1   394.33 412.33\n",
      "<none>                         392.96 412.96\n",
      "- Dependents2              1   395.01 413.01\n",
      "- MarriedYes               1   396.09 414.09\n",
      "- LoanAmount               1   398.77 416.77\n",
      "- Property_AreaSemiurban   1   407.14 425.14\n",
      "- Credit_History1          1   497.25 515.25\n"
     ]
    },
    {
     "name": "stdout",
     "output_type": "stream",
     "text": [
      "\n",
      "Step:  AIC=411.76\n",
      ".outcome ~ GenderMale + MarriedYes + Dependents1 + Dependents2 + \n",
      "    `EducationNot Graduate` + LoanAmount + Credit_History1 + \n",
      "    Property_AreaSemiurban\n",
      "\n",
      "                          Df Deviance    AIC\n",
      "- GenderMale               1   394.82 410.82\n",
      "- `EducationNot Graduate`  1   395.05 411.05\n",
      "- Dependents1              1   395.19 411.19\n",
      "- Dependents2              1   395.34 411.34\n",
      "<none>                         393.76 411.76\n",
      "- MarriedYes               1   397.68 413.68\n",
      "- LoanAmount               1   399.14 415.14\n",
      "- Property_AreaSemiurban   1   407.83 423.83\n",
      "- Credit_History1          1   497.26 513.26\n",
      "\n",
      "Step:  AIC=410.82\n",
      ".outcome ~ MarriedYes + Dependents1 + Dependents2 + `EducationNot Graduate` + \n",
      "    LoanAmount + Credit_History1 + Property_AreaSemiurban\n",
      "\n",
      "                          Df Deviance    AIC\n",
      "- `EducationNot Graduate`  1   396.00 410.00\n",
      "- Dependents1              1   396.45 410.45\n",
      "- Dependents2              1   396.45 410.45\n",
      "<none>                         394.82 410.82\n",
      "- LoanAmount               1   399.78 413.78\n",
      "- MarriedYes               1   401.07 415.07\n",
      "- Property_AreaSemiurban   1   408.37 422.37\n",
      "- Credit_History1          1   498.92 512.92\n",
      "\n",
      "Step:  AIC=410\n",
      ".outcome ~ MarriedYes + Dependents1 + Dependents2 + LoanAmount + \n",
      "    Credit_History1 + Property_AreaSemiurban\n",
      "\n",
      "                         Df Deviance    AIC\n",
      "- Dependents1             1   397.65 409.65\n",
      "- Dependents2             1   397.72 409.72\n",
      "<none>                        396.00 410.00\n",
      "- LoanAmount              1   400.20 412.20\n",
      "- MarriedYes              1   401.92 413.92\n",
      "- Property_AreaSemiurban  1   409.94 421.94\n",
      "- Credit_History1         1   502.02 514.02\n",
      "\n",
      "Step:  AIC=409.65\n",
      ".outcome ~ MarriedYes + Dependents2 + LoanAmount + Credit_History1 + \n",
      "    Property_AreaSemiurban\n",
      "\n",
      "                         Df Deviance    AIC\n",
      "<none>                        397.65 409.65\n",
      "- Dependents2             1   400.45 410.45\n",
      "- LoanAmount              1   401.86 411.86\n",
      "- MarriedYes              1   402.51 412.51\n",
      "- Property_AreaSemiurban  1   411.53 421.53\n",
      "- Credit_History1         1   503.42 513.42\n"
     ]
    },
    {
     "data": {
      "text/plain": [
       "Generalized Linear Model with Stepwise Feature Selection \n",
       "\n",
       "430 samples\n",
       " 11 predictor\n",
       "  2 classes: 'N', 'Y' \n",
       "\n",
       "No pre-processing\n",
       "Resampling: Cross-Validated (5 fold) \n",
       "Summary of sample sizes: 344, 344, 344, 345, 343 \n",
       "Resampling results:\n",
       "\n",
       "  Accuracy   Kappa    \n",
       "  0.8068852  0.4740128\n"
      ]
     },
     "metadata": {},
     "output_type": "display_data"
    }
   ],
   "source": [
    "# Méthode de sélection pas à pas \"Both\", basée sur le critère d'Akaike:\n",
    "model <- train(Loan_Status ~ ., data = pret, method = 'glmStepAIC', family = 'binomial', trControl = train.control)\n",
    "model"
   ]
  },
  {
   "cell_type": "code",
   "execution_count": 67,
   "metadata": {},
   "outputs": [
    {
     "data": {
      "text/plain": [
       "\n",
       "Call:\n",
       "NULL\n",
       "\n",
       "Deviance Residuals: \n",
       "    Min       1Q   Median       3Q      Max  \n",
       "-2.2083  -0.4474   0.5097   0.7286   2.4252  \n",
       "\n",
       "Coefficients:\n",
       "                        Estimate Std. Error z value Pr(>|z|)    \n",
       "(Intercept)            -2.468433   0.503346  -4.904 9.39e-07 ***\n",
       "MarriedYes              0.582117   0.264774   2.199 0.027910 *  \n",
       "Dependents2             0.629452   0.388831   1.619 0.105484    \n",
       "LoanAmount             -0.003216   0.001569  -2.050 0.040363 *  \n",
       "Credit_History1         3.467107   0.435073   7.969 1.60e-15 ***\n",
       "Property_AreaSemiurban  0.991265   0.277481   3.572 0.000354 ***\n",
       "---\n",
       "Signif. codes:  0 '***' 0.001 '**' 0.01 '*' 0.05 '.' 0.1 ' ' 1\n",
       "\n",
       "(Dispersion parameter for binomial family taken to be 1)\n",
       "\n",
       "    Null deviance: 531.95  on 429  degrees of freedom\n",
       "Residual deviance: 397.65  on 424  degrees of freedom\n",
       "AIC: 409.65\n",
       "\n",
       "Number of Fisher Scoring iterations: 4\n"
      ]
     },
     "metadata": {},
     "output_type": "display_data"
    }
   ],
   "source": [
    "summary(model)"
   ]
  },
  {
   "cell_type": "markdown",
   "metadata": {},
   "source": [
    "CCL: Il est intéressant de constater que la méthode de recherche des variables explicatives retient au final la variable Dependents, dont la p-value est supérieur à 10%."
   ]
  },
  {
   "cell_type": "markdown",
   "metadata": {},
   "source": [
    "<a href=\"#sommaire\">Retour au sommaire</a>\n",
    "### <span style='color:brown'>b) Calcul des odd-ratios:<a name=\"M312\"></a>"
   ]
  },
  {
   "cell_type": "code",
   "execution_count": 68,
   "metadata": {},
   "outputs": [
    {
     "name": "stderr",
     "output_type": "stream",
     "text": [
      "Waiting for profiling to be done...\n"
     ]
    },
    {
     "data": {
      "text/html": [
       "<table>\n",
       "<thead><tr><th></th><th scope=col>OR</th><th scope=col>2.5 %</th><th scope=col>97.5 %</th></tr></thead>\n",
       "<tbody>\n",
       "\t<tr><th scope=row>(Intercept)</th><td> 0.08471755</td><td> 0.02936422</td><td> 0.2149184 </td></tr>\n",
       "\t<tr><th scope=row>MarriedYes</th><td> 1.78982395</td><td> 1.06647418</td><td> 3.0187082 </td></tr>\n",
       "\t<tr><th scope=row>Dependents2</th><td> 1.87658148</td><td> 0.90099075</td><td> 4.1758964 </td></tr>\n",
       "\t<tr><th scope=row>LoanAmount</th><td> 0.99678872</td><td> 0.99368300</td><td> 0.9998560 </td></tr>\n",
       "\t<tr><th scope=row>Credit_History1</th><td>32.04389666</td><td>14.53450203</td><td>81.7763380 </td></tr>\n",
       "\t<tr><th scope=row>Property_AreaSemiurban</th><td> 2.69464214</td><td> 1.58532598</td><td> 4.7249192 </td></tr>\n",
       "</tbody>\n",
       "</table>\n"
      ],
      "text/latex": [
       "\\begin{tabular}{r|lll}\n",
       "  & OR & 2.5 \\% & 97.5 \\%\\\\\n",
       "\\hline\n",
       "\t(Intercept) &  0.08471755 &  0.02936422 &  0.2149184 \\\\\n",
       "\tMarriedYes &  1.78982395 &  1.06647418 &  3.0187082 \\\\\n",
       "\tDependents2 &  1.87658148 &  0.90099075 &  4.1758964 \\\\\n",
       "\tLoanAmount &  0.99678872 &  0.99368300 &  0.9998560 \\\\\n",
       "\tCredit\\_History1 & 32.04389666 & 14.53450203 & 81.7763380 \\\\\n",
       "\tProperty\\_AreaSemiurban &  2.69464214 &  1.58532598 &  4.7249192 \\\\\n",
       "\\end{tabular}\n"
      ],
      "text/markdown": [
       "\n",
       "| <!--/--> | OR | 2.5 % | 97.5 % |\n",
       "|---|---|---|---|\n",
       "| (Intercept) |  0.08471755 |  0.02936422 |  0.2149184  |\n",
       "| MarriedYes |  1.78982395 |  1.06647418 |  3.0187082  |\n",
       "| Dependents2 |  1.87658148 |  0.90099075 |  4.1758964  |\n",
       "| LoanAmount |  0.99678872 |  0.99368300 |  0.9998560  |\n",
       "| Credit_History1 | 32.04389666 | 14.53450203 | 81.7763380  |\n",
       "| Property_AreaSemiurban |  2.69464214 |  1.58532598 |  4.7249192  |\n",
       "\n"
      ],
      "text/plain": [
       "                       OR          2.5 %       97.5 %    \n",
       "(Intercept)             0.08471755  0.02936422  0.2149184\n",
       "MarriedYes              1.78982395  1.06647418  3.0187082\n",
       "Dependents2             1.87658148  0.90099075  4.1758964\n",
       "LoanAmount              0.99678872  0.99368300  0.9998560\n",
       "Credit_History1        32.04389666 14.53450203 81.7763380\n",
       "Property_AreaSemiurban  2.69464214  1.58532598  4.7249192"
      ]
     },
     "metadata": {},
     "output_type": "display_data"
    }
   ],
   "source": [
    "exp(cbind(OR = coef(model$finalModel), confint(model$finalModel)))"
   ]
  },
  {
   "cell_type": "markdown",
   "metadata": {},
   "source": [
    "<a href=\"#sommaire\">Retour au sommaire</a>\n",
    "### <span style='color:brown'>c) Évaluation statistique de la régression.<a name=\"M313\"></a>"
   ]
  },
  {
   "cell_type": "code",
   "execution_count": 69,
   "metadata": {},
   "outputs": [
    {
     "data": {
      "text/plain": [
       "\n",
       "Call:  NULL\n",
       "\n",
       "Coefficients:\n",
       "           (Intercept)              MarriedYes             Dependents2  \n",
       "             -2.468433                0.582117                0.629452  \n",
       "            LoanAmount         Credit_History1  Property_AreaSemiurban  \n",
       "             -0.003216                3.467107                0.991265  \n",
       "\n",
       "Degrees of Freedom: 429 Total (i.e. Null);  424 Residual\n",
       "Null Deviance:\t    531.9 \n",
       "Residual Deviance: 397.6 \tAIC: 409.6"
      ]
     },
     "metadata": {},
     "output_type": "display_data"
    }
   ],
   "source": [
    "# Modèle sous-jacent issu de l'échantillon train ( + coefficients de la régression logistique):\n",
    "model$finalModel"
   ]
  },
  {
   "cell_type": "code",
   "execution_count": 70,
   "metadata": {},
   "outputs": [
    {
     "data": {
      "text/html": [
       "397.649903179977"
      ],
      "text/latex": [
       "397.649903179977"
      ],
      "text/markdown": [
       "397.649903179977"
      ],
      "text/plain": [
       "[1] 397.6499"
      ]
     },
     "metadata": {},
     "output_type": "display_data"
    }
   ],
   "source": [
    "deviance(model$finalModel) # Une déviance résiduelle faible est révélatrice d'une bonne adéquation du modèle."
   ]
  },
  {
   "cell_type": "code",
   "execution_count": 71,
   "metadata": {},
   "outputs": [
    {
     "data": {
      "text/html": [
       "134.295617735576"
      ],
      "text/latex": [
       "134.295617735576"
      ],
      "text/markdown": [
       "134.295617735576"
      ],
      "text/plain": [
       "[1] 134.2956"
      ]
     },
     "metadata": {},
     "output_type": "display_data"
    },
    {
     "data": {
      "text/html": [
       "5"
      ],
      "text/latex": [
       "5"
      ],
      "text/markdown": [
       "5"
      ],
      "text/plain": [
       "[1] 5"
      ]
     },
     "metadata": {},
     "output_type": "display_data"
    }
   ],
   "source": [
    "(chi2 <- with(model$finalModel, null.deviance - deviance))\n",
    "(ddl <- with(model$finalModel, df.null - df.residual))"
   ]
  },
  {
   "cell_type": "markdown",
   "metadata": {},
   "source": [
    "La statistique du rapport de vraisemblance suit une loi du chi2 à 5 degrés de libertés.\n",
    "\n",
    "Hypothèse nulle H0: tous les coefficients de la relation linéaire sont nuls.<br/>\n",
    "Hypothèse alternative H1: un des coefficients au moins est non nul.<br/>\n",
    "Test bilatéral.<br/>\n",
    "Seuil alpha fixé à 5%."
   ]
  },
  {
   "cell_type": "code",
   "execution_count": 72,
   "metadata": {},
   "outputs": [
    {
     "data": {
      "text/html": [
       "2.91510150281459e-27"
      ],
      "text/latex": [
       "2.91510150281459e-27"
      ],
      "text/markdown": [
       "2.91510150281459e-27"
      ],
      "text/plain": [
       "[1] 2.915102e-27"
      ]
     },
     "metadata": {},
     "output_type": "display_data"
    }
   ],
   "source": [
    "(p_value <- pchisq(chi2, ddl, lower.tail = F))"
   ]
  },
  {
   "cell_type": "markdown",
   "metadata": {},
   "source": [
    "CCL:<br/>\n",
    "La p-value étant significative, on rejette alors l'hypothèse nulle: au moins un des coefficients est non nul.<br/>\n",
    "Le modèle est donc globalement significatif: il existe bien une relation entre les variables explicatives et la variable expliquée."
   ]
  },
  {
   "cell_type": "code",
   "execution_count": 145,
   "metadata": {},
   "outputs": [],
   "source": [
    "# Nous pouvons donc utiliser à présent cette modélisation:\n",
    "new_model <- train(Loan_Status ~ Married + Credit_History + Property_Area + LoanAmount + Dependents,\n",
    "                   data = pret, method = 'glm', family = 'binomial', trControl = trainControl('none'))"
   ]
  },
  {
   "cell_type": "markdown",
   "metadata": {},
   "source": [
    "<a href=\"#sommaire\">Retour au sommaire</a>\n",
    "### <span style='color:brown'>d) Courbe ROC:<a name=\"M314\"></a>"
   ]
  },
  {
   "cell_type": "code",
   "execution_count": 146,
   "metadata": {},
   "outputs": [
    {
     "data": {
      "text/html": [
       "<dl class=dl-horizontal>\n",
       "\t<dt>0%</dt>\n",
       "\t\t<dd>0.0264013334250081</dd>\n",
       "\t<dt>25%</dt>\n",
       "\t\t<dd>0.64224941432258</dd>\n",
       "\t<dt>50%</dt>\n",
       "\t\t<dd>0.779224584870131</dd>\n",
       "\t<dt>75%</dt>\n",
       "\t\t<dd>0.864857477198893</dd>\n",
       "\t<dt>100%</dt>\n",
       "\t\t<dd>0.955613090572917</dd>\n",
       "</dl>\n"
      ],
      "text/latex": [
       "\\begin{description*}\n",
       "\\item[0\\textbackslash{}\\%] 0.0264013334250081\n",
       "\\item[25\\textbackslash{}\\%] 0.64224941432258\n",
       "\\item[50\\textbackslash{}\\%] 0.779224584870131\n",
       "\\item[75\\textbackslash{}\\%] 0.864857477198893\n",
       "\\item[100\\textbackslash{}\\%] 0.955613090572917\n",
       "\\end{description*}\n"
      ],
      "text/markdown": [
       "0%\n",
       ":   0.026401333425008125%\n",
       ":   0.6422494143225850%\n",
       ":   0.77922458487013175%\n",
       ":   0.864857477198893100%\n",
       ":   0.955613090572917\n",
       "\n"
      ],
      "text/plain": [
       "        0%        25%        50%        75%       100% \n",
       "0.02640133 0.64224941 0.77922458 0.86485748 0.95561309 "
      ]
     },
     "metadata": {},
     "output_type": "display_data"
    }
   ],
   "source": [
    "# Calcul du score, probabilité pour un client que sa demande de prêt soit accordée:\n",
    "score <- predict(new_model, pret, type = 'prob')[, \"Y\"]\n",
    "quantile(score)"
   ]
  },
  {
   "cell_type": "code",
   "execution_count": 147,
   "metadata": {
    "scrolled": false
   },
   "outputs": [
    {
     "name": "stderr",
     "output_type": "stream",
     "text": [
      "Setting levels: control = N, case = Y\n",
      "Setting direction: controls < cases\n"
     ]
    },
    {
     "data": {
      "text/plain": [
       "\n",
       "Call:\n",
       "roc.default(response = pret$Loan_Status, predictor = score, percent = T,     plot = TRUE, col = \"red\", legacy.axes = T, xlab = \"Pourcentage de Faux Positifs\",     ylab = \"Pourcentage de Vrai Positifs\")\n",
       "\n",
       "Data: score in 133 controls (pret$Loan_Status N) < 297 cases (pret$Loan_Status Y).\n",
       "Area under the curve: 80.13%"
      ]
     },
     "metadata": {},
     "output_type": "display_data"
    },
    {
     "data": {
      "image/png": "[encoded data removed]",
      "text/plain": [
       "plot without title"
      ]
     },
     "metadata": {},
     "output_type": "display_data"
    }
   ],
   "source": [
    "par(pty = 's')\n",
    "roc <- roc(pret$Loan_Status, score, plot = TRUE, col = 'red', legacy.axes = T, percent = T, xlab = 'Pourcentage de Faux Positifs',\n",
    "    ylab = 'Pourcentage de Vrai Positifs')\n",
    "roc"
   ]
  },
  {
   "cell_type": "code",
   "execution_count": 148,
   "metadata": {},
   "outputs": [
    {
     "name": "stdout",
     "output_type": "stream",
     "text": [
      "En présence de deux demandes de prêt, l'un accordé l'autre pas, la probabilité que le modèle désigne correctement le prêt \n",
      "accordé correspond à 80.1%"
     ]
    }
   ],
   "source": [
    "cat(sprintf('En présence de deux demandes de prêt, l\\'un accordé l\\'autre pas, la probabilité que le modèle désigne correctement le prêt \\naccordé correspond à %s%%', round(roc$auc, 1)))"
   ]
  },
  {
   "cell_type": "markdown",
   "metadata": {},
   "source": [
    "<a href=\"#sommaire\">Retour au sommaire</a>\n",
    "## <span style='color:blue'>2. Test de notation du crédit.<a name=\"M32\"></a>\n",
    "### <span style='color:brown'>a) Programme.<a name=\"M321\"></a>"
   ]
  },
  {
   "cell_type": "code",
   "execution_count": 171,
   "metadata": {},
   "outputs": [],
   "source": [
    "accord <- function(fichier) \n",
    "{\n",
    "    for (i in 1:nrow(fichier)) {\n",
    "        score <- predict(model, fichier[i, -1], type = 'prob')[, 'Y']\n",
    "        if (score >= 0.5) {\n",
    "            fichier[i, c('score', 'Loan_Status')] <- c(score, 'Y')}\n",
    "        else {\n",
    "            fichier[i, c('score', 'Loan_Status')] <- c(score, 'N')}\n",
    "    }\n",
    "    fichier[, c('Loan_ID', 'score', 'Loan_Status')]\n",
    "}"
   ]
  },
  {
   "cell_type": "markdown",
   "metadata": {},
   "source": [
    "<a href=\"#sommaire\">Retour au sommaire</a>\n",
    "### <span style='color:brown'>b) Essai.<a name=\"M322\"></a>"
   ]
  },
  {
   "cell_type": "code",
   "execution_count": 172,
   "metadata": {
    "scrolled": false
   },
   "outputs": [
    {
     "data": {
      "text/html": [
       "<table>\n",
       "<thead><tr><th></th><th scope=col>Loan_ID</th><th scope=col>score</th><th scope=col>Loan_Status</th></tr></thead>\n",
       "<tbody>\n",
       "\t<tr><th scope=row>431</th><td>LP002785          </td><td>0.745089718162566 </td><td>Y                 </td></tr>\n",
       "\t<tr><th scope=row>432</th><td>LP002788          </td><td>0.0780967381534205</td><td>N                 </td></tr>\n",
       "\t<tr><th scope=row>433</th><td>LP002789          </td><td>0.0902253795550881</td><td>N                 </td></tr>\n",
       "\t<tr><th scope=row>434</th><td>LP002792          </td><td>0.923326679307856 </td><td>Y                 </td></tr>\n",
       "\t<tr><th scope=row>435</th><td>LP002795          </td><td>0.850150366479991 </td><td>Y                 </td></tr>\n",
       "\t<tr><th scope=row>436</th><td>LP002798          </td><td>0.886047878429072 </td><td>Y                 </td></tr>\n",
       "\t<tr><th scope=row>437</th><td>LP002804          </td><td>0.879389724718855 </td><td>Y                 </td></tr>\n",
       "\t<tr><th scope=row>438</th><td>LP002807          </td><td>0.94553190274359  </td><td>Y                 </td></tr>\n",
       "\t<tr><th scope=row>...</th><td>...</td><td>...</td><td>...</td></tr>\n",
       "\t<tr><th scope=row>474</th><td>LP002964         </td><td>0.846220629272017</td><td>Y                </td></tr>\n",
       "\t<tr><th scope=row>475</th><td>LP002974         </td><td>0.774415772645909</td><td>Y                </td></tr>\n",
       "\t<tr><th scope=row>476</th><td>LP002978         </td><td>0.683587202302271</td><td>Y                </td></tr>\n",
       "\t<tr><th scope=row>477</th><td>LP002979         </td><td>0.810326586271777</td><td>Y                </td></tr>\n",
       "\t<tr><th scope=row>478</th><td>LP002983         </td><td>0.682878203745699</td><td>Y                </td></tr>\n",
       "\t<tr><th scope=row>479</th><td>LP002984         </td><td>0.833240243240471</td><td>Y                </td></tr>\n",
       "\t<tr><th scope=row>480</th><td>LP002990         </td><td>0.129548756195168</td><td>N                </td></tr>\n",
       "</tbody>\n",
       "</table>\n"
      ],
      "text/latex": [
       "\\begin{tabular}{r|lll}\n",
       "  & Loan\\_ID & score & Loan\\_Status\\\\\n",
       "\\hline\n",
       "\t431 & LP002785           & 0.745089718162566  & Y                 \\\\\n",
       "\t432 & LP002788           & 0.0780967381534205 & N                 \\\\\n",
       "\t433 & LP002789           & 0.0902253795550881 & N                 \\\\\n",
       "\t434 & LP002792           & 0.923326679307856  & Y                 \\\\\n",
       "\t435 & LP002795           & 0.850150366479991  & Y                 \\\\\n",
       "\t436 & LP002798           & 0.886047878429072  & Y                 \\\\\n",
       "\t437 & LP002804           & 0.879389724718855  & Y                 \\\\\n",
       "\t438 & LP002807           & 0.94553190274359   & Y                 \\\\\n",
       "\t... & ... & ... & ...\\\\\n",
       "\t474 & LP002964          & 0.846220629272017 & Y                \\\\\n",
       "\t475 & LP002974          & 0.774415772645909 & Y                \\\\\n",
       "\t476 & LP002978          & 0.683587202302271 & Y                \\\\\n",
       "\t477 & LP002979          & 0.810326586271777 & Y                \\\\\n",
       "\t478 & LP002983          & 0.682878203745699 & Y                \\\\\n",
       "\t479 & LP002984          & 0.833240243240471 & Y                \\\\\n",
       "\t480 & LP002990          & 0.129548756195168 & N                \\\\\n",
       "\\end{tabular}\n"
      ],
      "text/markdown": [
       "\n",
       "| <!--/--> | Loan_ID | score | Loan_Status |\n",
       "|---|---|---|---|\n",
       "| 431 | LP002785           | 0.745089718162566  | Y                  |\n",
       "| 432 | LP002788           | 0.0780967381534205 | N                  |\n",
       "| 433 | LP002789           | 0.0902253795550881 | N                  |\n",
       "| 434 | LP002792           | 0.923326679307856  | Y                  |\n",
       "| 435 | LP002795           | 0.850150366479991  | Y                  |\n",
       "| 436 | LP002798           | 0.886047878429072  | Y                  |\n",
       "| 437 | LP002804           | 0.879389724718855  | Y                  |\n",
       "| 438 | LP002807           | 0.94553190274359   | Y                  |\n",
       "| ... | ... | ... | ... |\n",
       "| 474 | LP002964          | 0.846220629272017 | Y                 |\n",
       "| 475 | LP002974          | 0.774415772645909 | Y                 |\n",
       "| 476 | LP002978          | 0.683587202302271 | Y                 |\n",
       "| 477 | LP002979          | 0.810326586271777 | Y                 |\n",
       "| 478 | LP002983          | 0.682878203745699 | Y                 |\n",
       "| 479 | LP002984          | 0.833240243240471 | Y                 |\n",
       "| 480 | LP002990          | 0.129548756195168 | N                 |\n",
       "\n"
      ],
      "text/plain": [
       "    Loan_ID  score              Loan_Status\n",
       "431 LP002785 0.745089718162566  Y          \n",
       "432 LP002788 0.0780967381534205 N          \n",
       "433 LP002789 0.0902253795550881 N          \n",
       "434 LP002792 0.923326679307856  Y          \n",
       "435 LP002795 0.850150366479991  Y          \n",
       "436 LP002798 0.886047878429072  Y          \n",
       "437 LP002804 0.879389724718855  Y          \n",
       "438 LP002807 0.94553190274359   Y          \n",
       "... ...      ...                ...        \n",
       "474 LP002964 0.846220629272017  Y          \n",
       "475 LP002974 0.774415772645909  Y          \n",
       "476 LP002978 0.683587202302271  Y          \n",
       "477 LP002979 0.810326586271777  Y          \n",
       "478 LP002983 0.682878203745699  Y          \n",
       "479 LP002984 0.833240243240471  Y          \n",
       "480 LP002990 0.129548756195168  N          "
      ]
     },
     "metadata": {},
     "output_type": "display_data"
    }
   ],
   "source": [
    "accord(essai[, -13])"
   ]
  },
  {
   "cell_type": "code",
   "execution_count": 173,
   "metadata": {},
   "outputs": [
    {
     "data": {
      "text/html": [
       "<table>\n",
       "<thead><tr><th></th><th scope=col>Loan_ID</th><th scope=col>Gender</th><th scope=col>Married</th><th scope=col>Dependents</th><th scope=col>Education</th><th scope=col>Self_Employed</th><th scope=col>ApplicantIncome</th><th scope=col>CoapplicantIncome</th><th scope=col>LoanAmount</th><th scope=col>Loan_Amount_Term</th><th scope=col>Credit_History</th><th scope=col>Property_Area</th><th scope=col>Loan_Status</th></tr></thead>\n",
       "<tbody>\n",
       "\t<tr><th scope=row>431</th><td>LP002785    </td><td>Male        </td><td>Yes         </td><td>1           </td><td>Graduate    </td><td>No          </td><td> 3333       </td><td>3250        </td><td>158         </td><td>360         </td><td>1           </td><td>Urban       </td><td>Y           </td></tr>\n",
       "\t<tr><th scope=row>432</th><td>LP002788    </td><td>Male        </td><td>Yes         </td><td>0           </td><td>Not Graduate</td><td>No          </td><td> 2454       </td><td>2333        </td><td>181         </td><td>360         </td><td>0           </td><td>Urban       </td><td>N           </td></tr>\n",
       "\t<tr><th scope=row>433</th><td>LP002789    </td><td>Male        </td><td>Yes         </td><td>0           </td><td>Graduate    </td><td>No          </td><td> 3593       </td><td>4266        </td><td>132         </td><td>180         </td><td>0           </td><td>Rural       </td><td>N           </td></tr>\n",
       "\t<tr><th scope=row>434</th><td>LP002792    </td><td>Male        </td><td>Yes         </td><td>1           </td><td>Graduate    </td><td>No          </td><td> 5468       </td><td>1032        </td><td> 26         </td><td>360         </td><td>1           </td><td>Semiurban   </td><td>Y           </td></tr>\n",
       "\t<tr><th scope=row>435</th><td>LP002795    </td><td>Male        </td><td>Yes         </td><td>3+          </td><td>Graduate    </td><td>Yes         </td><td>10139       </td><td>   0        </td><td>260         </td><td>360         </td><td>1           </td><td>Semiurban   </td><td>Y           </td></tr>\n",
       "\t<tr><th scope=row>436</th><td>LP002798    </td><td>Male        </td><td>Yes         </td><td>0           </td><td>Graduate    </td><td>No          </td><td> 3887       </td><td>2669        </td><td>162         </td><td>360         </td><td>1           </td><td>Semiurban   </td><td>Y           </td></tr>\n",
       "\t<tr><th scope=row>437</th><td>LP002804    </td><td>Female      </td><td>Yes         </td><td>0           </td><td>Graduate    </td><td>No          </td><td> 4180       </td><td>2306        </td><td>182         </td><td>360         </td><td>1           </td><td>Semiurban   </td><td>Y           </td></tr>\n",
       "\t<tr><th scope=row>438</th><td>LP002807    </td><td>Male        </td><td>Yes         </td><td>2           </td><td>Not Graduate</td><td>No          </td><td> 3675       </td><td> 242        </td><td>108         </td><td>360         </td><td>1           </td><td>Semiurban   </td><td>Y           </td></tr>\n",
       "\t<tr><th scope=row>...</th><td>...</td><td>...</td><td>...</td><td>...</td><td>...</td><td>...</td><td>...</td><td>...</td><td>...</td><td>...</td><td>...</td><td>...</td><td>...</td></tr>\n",
       "\t<tr><th scope=row>474</th><td>LP002964    </td><td>Male        </td><td>Yes         </td><td>2           </td><td>Not Graduate</td><td>No          </td><td>3987        </td><td>1411        </td><td>157         </td><td>360         </td><td>1           </td><td>Rural       </td><td>Y           </td></tr>\n",
       "\t<tr><th scope=row>475</th><td>LP002974    </td><td>Male        </td><td>Yes         </td><td>0           </td><td>Graduate    </td><td>No          </td><td>3232        </td><td>1950        </td><td>108         </td><td>360         </td><td>1           </td><td>Rural       </td><td>Y           </td></tr>\n",
       "\t<tr><th scope=row>476</th><td>LP002978    </td><td>Female      </td><td>No          </td><td>0           </td><td>Graduate    </td><td>No          </td><td>2900        </td><td>   0        </td><td> 71         </td><td>360         </td><td>1           </td><td>Rural       </td><td>Y           </td></tr>\n",
       "\t<tr><th scope=row>477</th><td>LP002979    </td><td>Male        </td><td>Yes         </td><td>3+          </td><td>Graduate    </td><td>No          </td><td>4106        </td><td>   0        </td><td> 40         </td><td>180         </td><td>1           </td><td>Rural       </td><td>Y           </td></tr>\n",
       "\t<tr><th scope=row>478</th><td>LP002983    </td><td>Male        </td><td>Yes         </td><td>1           </td><td>Graduate    </td><td>No          </td><td>8072        </td><td> 240        </td><td>253         </td><td>360         </td><td>1           </td><td>Urban       </td><td>Y           </td></tr>\n",
       "\t<tr><th scope=row>479</th><td>LP002984    </td><td>Male        </td><td>Yes         </td><td>2           </td><td>Graduate    </td><td>No          </td><td>7583        </td><td>   0        </td><td>187         </td><td>360         </td><td>1           </td><td>Urban       </td><td>Y           </td></tr>\n",
       "\t<tr><th scope=row>480</th><td>LP002990    </td><td>Female      </td><td>No          </td><td>0           </td><td>Graduate    </td><td>Yes         </td><td>4583        </td><td>   0        </td><td>133         </td><td>360         </td><td>0           </td><td>Semiurban   </td><td>N           </td></tr>\n",
       "</tbody>\n",
       "</table>\n"
      ],
      "text/latex": [
       "\\begin{tabular}{r|lllllllllllll}\n",
       "  & Loan\\_ID & Gender & Married & Dependents & Education & Self\\_Employed & ApplicantIncome & CoapplicantIncome & LoanAmount & Loan\\_Amount\\_Term & Credit\\_History & Property\\_Area & Loan\\_Status\\\\\n",
       "\\hline\n",
       "\t431 & LP002785     & Male         & Yes          & 1            & Graduate     & No           &  3333        & 3250         & 158          & 360          & 1            & Urban        & Y           \\\\\n",
       "\t432 & LP002788     & Male         & Yes          & 0            & Not Graduate & No           &  2454        & 2333         & 181          & 360          & 0            & Urban        & N           \\\\\n",
       "\t433 & LP002789     & Male         & Yes          & 0            & Graduate     & No           &  3593        & 4266         & 132          & 180          & 0            & Rural        & N           \\\\\n",
       "\t434 & LP002792     & Male         & Yes          & 1            & Graduate     & No           &  5468        & 1032         &  26          & 360          & 1            & Semiurban    & Y           \\\\\n",
       "\t435 & LP002795     & Male         & Yes          & 3+           & Graduate     & Yes          & 10139        &    0         & 260          & 360          & 1            & Semiurban    & Y           \\\\\n",
       "\t436 & LP002798     & Male         & Yes          & 0            & Graduate     & No           &  3887        & 2669         & 162          & 360          & 1            & Semiurban    & Y           \\\\\n",
       "\t437 & LP002804     & Female       & Yes          & 0            & Graduate     & No           &  4180        & 2306         & 182          & 360          & 1            & Semiurban    & Y           \\\\\n",
       "\t438 & LP002807     & Male         & Yes          & 2            & Not Graduate & No           &  3675        &  242         & 108          & 360          & 1            & Semiurban    & Y           \\\\\n",
       "\t... & ... & ... & ... & ... & ... & ... & ... & ... & ... & ... & ... & ... & ...\\\\\n",
       "\t474 & LP002964     & Male         & Yes          & 2            & Not Graduate & No           & 3987         & 1411         & 157          & 360          & 1            & Rural        & Y           \\\\\n",
       "\t475 & LP002974     & Male         & Yes          & 0            & Graduate     & No           & 3232         & 1950         & 108          & 360          & 1            & Rural        & Y           \\\\\n",
       "\t476 & LP002978     & Female       & No           & 0            & Graduate     & No           & 2900         &    0         &  71          & 360          & 1            & Rural        & Y           \\\\\n",
       "\t477 & LP002979     & Male         & Yes          & 3+           & Graduate     & No           & 4106         &    0         &  40          & 180          & 1            & Rural        & Y           \\\\\n",
       "\t478 & LP002983     & Male         & Yes          & 1            & Graduate     & No           & 8072         &  240         & 253          & 360          & 1            & Urban        & Y           \\\\\n",
       "\t479 & LP002984     & Male         & Yes          & 2            & Graduate     & No           & 7583         &    0         & 187          & 360          & 1            & Urban        & Y           \\\\\n",
       "\t480 & LP002990     & Female       & No           & 0            & Graduate     & Yes          & 4583         &    0         & 133          & 360          & 0            & Semiurban    & N           \\\\\n",
       "\\end{tabular}\n"
      ],
      "text/markdown": [
       "\n",
       "| <!--/--> | Loan_ID | Gender | Married | Dependents | Education | Self_Employed | ApplicantIncome | CoapplicantIncome | LoanAmount | Loan_Amount_Term | Credit_History | Property_Area | Loan_Status |\n",
       "|---|---|---|---|---|---|---|---|---|---|---|---|---|---|\n",
       "| 431 | LP002785     | Male         | Yes          | 1            | Graduate     | No           |  3333        | 3250         | 158          | 360          | 1            | Urban        | Y            |\n",
       "| 432 | LP002788     | Male         | Yes          | 0            | Not Graduate | No           |  2454        | 2333         | 181          | 360          | 0            | Urban        | N            |\n",
       "| 433 | LP002789     | Male         | Yes          | 0            | Graduate     | No           |  3593        | 4266         | 132          | 180          | 0            | Rural        | N            |\n",
       "| 434 | LP002792     | Male         | Yes          | 1            | Graduate     | No           |  5468        | 1032         |  26          | 360          | 1            | Semiurban    | Y            |\n",
       "| 435 | LP002795     | Male         | Yes          | 3+           | Graduate     | Yes          | 10139        |    0         | 260          | 360          | 1            | Semiurban    | Y            |\n",
       "| 436 | LP002798     | Male         | Yes          | 0            | Graduate     | No           |  3887        | 2669         | 162          | 360          | 1            | Semiurban    | Y            |\n",
       "| 437 | LP002804     | Female       | Yes          | 0            | Graduate     | No           |  4180        | 2306         | 182          | 360          | 1            | Semiurban    | Y            |\n",
       "| 438 | LP002807     | Male         | Yes          | 2            | Not Graduate | No           |  3675        |  242         | 108          | 360          | 1            | Semiurban    | Y            |\n",
       "| ... | ... | ... | ... | ... | ... | ... | ... | ... | ... | ... | ... | ... | ... |\n",
       "| 474 | LP002964     | Male         | Yes          | 2            | Not Graduate | No           | 3987         | 1411         | 157          | 360          | 1            | Rural        | Y            |\n",
       "| 475 | LP002974     | Male         | Yes          | 0            | Graduate     | No           | 3232         | 1950         | 108          | 360          | 1            | Rural        | Y            |\n",
       "| 476 | LP002978     | Female       | No           | 0            | Graduate     | No           | 2900         |    0         |  71          | 360          | 1            | Rural        | Y            |\n",
       "| 477 | LP002979     | Male         | Yes          | 3+           | Graduate     | No           | 4106         |    0         |  40          | 180          | 1            | Rural        | Y            |\n",
       "| 478 | LP002983     | Male         | Yes          | 1            | Graduate     | No           | 8072         |  240         | 253          | 360          | 1            | Urban        | Y            |\n",
       "| 479 | LP002984     | Male         | Yes          | 2            | Graduate     | No           | 7583         |    0         | 187          | 360          | 1            | Urban        | Y            |\n",
       "| 480 | LP002990     | Female       | No           | 0            | Graduate     | Yes          | 4583         |    0         | 133          | 360          | 0            | Semiurban    | N            |\n",
       "\n"
      ],
      "text/plain": [
       "    Loan_ID  Gender Married Dependents Education    Self_Employed\n",
       "431 LP002785 Male   Yes     1          Graduate     No           \n",
       "432 LP002788 Male   Yes     0          Not Graduate No           \n",
       "433 LP002789 Male   Yes     0          Graduate     No           \n",
       "434 LP002792 Male   Yes     1          Graduate     No           \n",
       "435 LP002795 Male   Yes     3+         Graduate     Yes          \n",
       "436 LP002798 Male   Yes     0          Graduate     No           \n",
       "437 LP002804 Female Yes     0          Graduate     No           \n",
       "438 LP002807 Male   Yes     2          Not Graduate No           \n",
       "... ...      ...    ...     ...        ...          ...          \n",
       "474 LP002964 Male   Yes     2          Not Graduate No           \n",
       "475 LP002974 Male   Yes     0          Graduate     No           \n",
       "476 LP002978 Female No      0          Graduate     No           \n",
       "477 LP002979 Male   Yes     3+         Graduate     No           \n",
       "478 LP002983 Male   Yes     1          Graduate     No           \n",
       "479 LP002984 Male   Yes     2          Graduate     No           \n",
       "480 LP002990 Female No      0          Graduate     Yes          \n",
       "    ApplicantIncome CoapplicantIncome LoanAmount Loan_Amount_Term\n",
       "431  3333           3250              158        360             \n",
       "432  2454           2333              181        360             \n",
       "433  3593           4266              132        180             \n",
       "434  5468           1032               26        360             \n",
       "435 10139              0              260        360             \n",
       "436  3887           2669              162        360             \n",
       "437  4180           2306              182        360             \n",
       "438  3675            242              108        360             \n",
       "... ...             ...               ...        ...             \n",
       "474 3987            1411              157        360             \n",
       "475 3232            1950              108        360             \n",
       "476 2900               0               71        360             \n",
       "477 4106               0               40        180             \n",
       "478 8072             240              253        360             \n",
       "479 7583               0              187        360             \n",
       "480 4583               0              133        360             \n",
       "    Credit_History Property_Area Loan_Status\n",
       "431 1              Urban         Y          \n",
       "432 0              Urban         N          \n",
       "433 0              Rural         N          \n",
       "434 1              Semiurban     Y          \n",
       "435 1              Semiurban     Y          \n",
       "436 1              Semiurban     Y          \n",
       "437 1              Semiurban     Y          \n",
       "438 1              Semiurban     Y          \n",
       "... ...            ...           ...        \n",
       "474 1              Rural         Y          \n",
       "475 1              Rural         Y          \n",
       "476 1              Rural         Y          \n",
       "477 1              Rural         Y          \n",
       "478 1              Urban         Y          \n",
       "479 1              Urban         Y          \n",
       "480 0              Semiurban     N          "
      ]
     },
     "metadata": {},
     "output_type": "display_data"
    }
   ],
   "source": [
    "essai"
   ]
  },
  {
   "cell_type": "code",
   "execution_count": 174,
   "metadata": {},
   "outputs": [
    {
     "data": {
      "text/plain": [
       "      Predit\n",
       "Actuel  N  Y\n",
       "     N  8  7\n",
       "     Y  0 35"
      ]
     },
     "metadata": {},
     "output_type": "display_data"
    },
    {
     "name": "stdout",
     "output_type": "stream",
     "text": [
      "Sensibilité: 100\n",
      "Spécificité: 53.33\n",
      "Précision: 83.33\n",
      "F-mesure: 90.91\n"
     ]
    }
   ],
   "source": [
    "confusion <- table(essai$Loan_Status, accord(essai[, -13])$Loan_Status, dnn = c('Actuel', 'Predit'))\n",
    "confusion\n",
    "\n",
    "sensibilite <- round(confusion[2, 2]/sum(confusion[2, ])*100, 2)\n",
    "cat(sprintf(\"Sensibilité: %s\\n\", sensibilite))\n",
    "specificite <- round(confusion[1, 1]/sum(confusion[1, ])*100, 2)\n",
    "cat(sprintf(\"Spécificité: %s\\n\", specificite))\n",
    "precision <- round(confusion[2, 2]/sum(confusion[, 2])*100, 2)\n",
    "cat(sprintf(\"Précision: %s\\n\", precision))\n",
    "F_score <- round(2*(precision*sensibilite)/(precision + sensibilite), 2)\n",
    "cat(sprintf(\"F-mesure: %s\\n\", F_score))"
   ]
  },
  {
   "cell_type": "markdown",
   "metadata": {},
   "source": [
    "CCL: Quelques faux positifs comme prévu."
   ]
  },
  {
   "cell_type": "markdown",
   "metadata": {},
   "source": [
    "<a href=\"#sommaire\">Retour au sommaire</a>\n",
    "### <span style='color:brown'>c) Simulation.<a name=\"M323\"></a>"
   ]
  },
  {
   "cell_type": "code",
   "execution_count": 175,
   "metadata": {},
   "outputs": [
    {
     "data": {
      "text/html": [
       "<ol class=list-inline>\n",
       "\t<li>49</li>\n",
       "\t<li>12</li>\n",
       "</ol>\n"
      ],
      "text/latex": [
       "\\begin{enumerate*}\n",
       "\\item 49\n",
       "\\item 12\n",
       "\\end{enumerate*}\n"
      ],
      "text/markdown": [
       "1. 49\n",
       "2. 12\n",
       "\n",
       "\n"
      ],
      "text/plain": [
       "[1] 49 12"
      ]
     },
     "metadata": {},
     "output_type": "display_data"
    },
    {
     "data": {
      "text/html": [
       "<table>\n",
       "<thead><tr><th scope=col>Loan_ID</th><th scope=col>Gender</th><th scope=col>Married</th><th scope=col>Dependents</th><th scope=col>Education</th><th scope=col>Self_Employed</th><th scope=col>ApplicantIncome</th><th scope=col>CoapplicantIncome</th><th scope=col>LoanAmount</th><th scope=col>Loan_Amount_Term</th><th scope=col>Credit_History</th><th scope=col>Property_Area</th></tr></thead>\n",
       "<tbody>\n",
       "\t<tr><td>LP001015    </td><td>Male        </td><td>Yes         </td><td>0           </td><td>Graduate    </td><td>No          </td><td>5720        </td><td>   0        </td><td>110         </td><td>360         </td><td> 1          </td><td>Urban       </td></tr>\n",
       "\t<tr><td>LP001022    </td><td>Male        </td><td>Yes         </td><td>1           </td><td>Graduate    </td><td>No          </td><td>3076        </td><td>1500        </td><td>126         </td><td>360         </td><td> 1          </td><td>Urban       </td></tr>\n",
       "\t<tr><td>LP001031    </td><td>Male        </td><td>Yes         </td><td>2           </td><td>Graduate    </td><td>No          </td><td>5000        </td><td>1800        </td><td>208         </td><td>360         </td><td> 1          </td><td>Urban       </td></tr>\n",
       "\t<tr><td>LP001035    </td><td>Male        </td><td>Yes         </td><td>2           </td><td>Graduate    </td><td>No          </td><td>2340        </td><td>2546        </td><td>100         </td><td>360         </td><td>NA          </td><td>Urban       </td></tr>\n",
       "\t<tr><td>LP001051    </td><td>Male        </td><td>No          </td><td>0           </td><td>Not Graduate</td><td>No          </td><td>3276        </td><td>   0        </td><td> 78         </td><td>360         </td><td> 1          </td><td>Urban       </td></tr>\n",
       "\t<tr><td>LP001054    </td><td>Male        </td><td>Yes         </td><td>0           </td><td>Not Graduate</td><td>Yes         </td><td>2165        </td><td>3422        </td><td>152         </td><td>360         </td><td> 1          </td><td>Urban       </td></tr>\n",
       "</tbody>\n",
       "</table>\n"
      ],
      "text/latex": [
       "\\begin{tabular}{r|llllllllllll}\n",
       " Loan\\_ID & Gender & Married & Dependents & Education & Self\\_Employed & ApplicantIncome & CoapplicantIncome & LoanAmount & Loan\\_Amount\\_Term & Credit\\_History & Property\\_Area\\\\\n",
       "\\hline\n",
       "\t LP001015     & Male         & Yes          & 0            & Graduate     & No           & 5720         &    0         & 110          & 360          &  1           & Urban       \\\\\n",
       "\t LP001022     & Male         & Yes          & 1            & Graduate     & No           & 3076         & 1500         & 126          & 360          &  1           & Urban       \\\\\n",
       "\t LP001031     & Male         & Yes          & 2            & Graduate     & No           & 5000         & 1800         & 208          & 360          &  1           & Urban       \\\\\n",
       "\t LP001035     & Male         & Yes          & 2            & Graduate     & No           & 2340         & 2546         & 100          & 360          & NA           & Urban       \\\\\n",
       "\t LP001051     & Male         & No           & 0            & Not Graduate & No           & 3276         &    0         &  78          & 360          &  1           & Urban       \\\\\n",
       "\t LP001054     & Male         & Yes          & 0            & Not Graduate & Yes          & 2165         & 3422         & 152          & 360          &  1           & Urban       \\\\\n",
       "\\end{tabular}\n"
      ],
      "text/markdown": [
       "\n",
       "| Loan_ID | Gender | Married | Dependents | Education | Self_Employed | ApplicantIncome | CoapplicantIncome | LoanAmount | Loan_Amount_Term | Credit_History | Property_Area |\n",
       "|---|---|---|---|---|---|---|---|---|---|---|---|\n",
       "| LP001015     | Male         | Yes          | 0            | Graduate     | No           | 5720         |    0         | 110          | 360          |  1           | Urban        |\n",
       "| LP001022     | Male         | Yes          | 1            | Graduate     | No           | 3076         | 1500         | 126          | 360          |  1           | Urban        |\n",
       "| LP001031     | Male         | Yes          | 2            | Graduate     | No           | 5000         | 1800         | 208          | 360          |  1           | Urban        |\n",
       "| LP001035     | Male         | Yes          | 2            | Graduate     | No           | 2340         | 2546         | 100          | 360          | NA           | Urban        |\n",
       "| LP001051     | Male         | No           | 0            | Not Graduate | No           | 3276         |    0         |  78          | 360          |  1           | Urban        |\n",
       "| LP001054     | Male         | Yes          | 0            | Not Graduate | Yes          | 2165         | 3422         | 152          | 360          |  1           | Urban        |\n",
       "\n"
      ],
      "text/plain": [
       "  Loan_ID  Gender Married Dependents Education    Self_Employed ApplicantIncome\n",
       "1 LP001015 Male   Yes     0          Graduate     No            5720           \n",
       "2 LP001022 Male   Yes     1          Graduate     No            3076           \n",
       "3 LP001031 Male   Yes     2          Graduate     No            5000           \n",
       "4 LP001035 Male   Yes     2          Graduate     No            2340           \n",
       "5 LP001051 Male   No      0          Not Graduate No            3276           \n",
       "6 LP001054 Male   Yes     0          Not Graduate Yes           2165           \n",
       "  CoapplicantIncome LoanAmount Loan_Amount_Term Credit_History Property_Area\n",
       "1    0              110        360               1             Urban        \n",
       "2 1500              126        360               1             Urban        \n",
       "3 1800              208        360               1             Urban        \n",
       "4 2546              100        360              NA             Urban        \n",
       "5    0               78        360               1             Urban        \n",
       "6 3422              152        360               1             Urban        "
      ]
     },
     "metadata": {},
     "output_type": "display_data"
    }
   ],
   "source": [
    "test <- read.csv('Fichier/test.csv', encoding = 'UTF-8')\n",
    "dim(test)\n",
    "head(test)"
   ]
  },
  {
   "cell_type": "code",
   "execution_count": 176,
   "metadata": {},
   "outputs": [
    {
     "data": {
      "text/plain": [
       "     Loan_ID      Gender   Married  Dependents        Education  Self_Employed\n",
       " LP001015: 1         : 1   No :23     : 1      Graduate    :36      : 4       \n",
       " LP001022: 1   Female: 7   Yes:26   0 :31      Not Graduate:13   No :42       \n",
       " LP001031: 1   Male  :41            1 : 5                        Yes: 3       \n",
       " LP001035: 1                        2 : 9                                     \n",
       " LP001051: 1                        3+: 3                                     \n",
       " LP001054: 1                                                                  \n",
       " (Other) :43                                                                  \n",
       " ApplicantIncome CoapplicantIncome   LoanAmount    Loan_Amount_Term\n",
       " Min.   :    0   Min.   :    0     Min.   : 28.0   Min.   :180.0   \n",
       " 1st Qu.: 2478   1st Qu.:    0     1st Qu.:100.0   1st Qu.:360.0   \n",
       " Median : 3765   Median : 1500     Median :126.0   Median :360.0   \n",
       " Mean   : 4259   Mean   : 1992     Mean   :138.1   Mean   :338.3   \n",
       " 3rd Qu.: 5400   3rd Qu.: 2600     3rd Qu.:166.0   3rd Qu.:360.0   \n",
       " Max.   :13633   Max.   :24000     Max.   :300.0   Max.   :360.0   \n",
       "                                                   NA's   :2       \n",
       " Credit_History     Property_Area\n",
       " Min.   :0.0000   Rural    : 2   \n",
       " 1st Qu.:1.0000   Semiurban:14   \n",
       " Median :1.0000   Urban    :33   \n",
       " Mean   :0.9091                  \n",
       " 3rd Qu.:1.0000                  \n",
       " Max.   :1.0000                  \n",
       " NA's   :5                       "
      ]
     },
     "metadata": {},
     "output_type": "display_data"
    },
    {
     "name": "stdout",
     "output_type": "stream",
     "text": [
      "'data.frame':\t49 obs. of  12 variables:\n",
      " $ Loan_ID          : Factor w/ 49 levels \"LP001015\",\"LP001022\",..: 1 2 3 4 5 6 7 8 9 10 ...\n",
      " $ Gender           : Factor w/ 3 levels \"\",\"Female\",\"Male\": 3 3 3 3 3 3 2 3 3 3 ...\n",
      " $ Married          : Factor w/ 2 levels \"No\",\"Yes\": 2 2 2 2 1 2 1 2 2 1 ...\n",
      " $ Dependents       : Factor w/ 5 levels \"\",\"0\",\"1\",\"2\",..: 2 3 4 4 2 2 3 4 4 2 ...\n",
      " $ Education        : Factor w/ 2 levels \"Graduate\",\"Not Graduate\": 1 1 1 1 2 2 2 2 1 2 ...\n",
      " $ Self_Employed    : Factor w/ 3 levels \"\",\"No\",\"Yes\": 2 2 2 2 2 3 2 2 1 2 ...\n",
      " $ ApplicantIncome  : int  5720 3076 5000 2340 3276 2165 2226 3881 13633 2400 ...\n",
      " $ CoapplicantIncome: int  0 1500 1800 2546 0 3422 0 0 0 2400 ...\n",
      " $ LoanAmount       : int  110 126 208 100 78 152 59 147 280 123 ...\n",
      " $ Loan_Amount_Term : int  360 360 360 360 360 360 360 360 240 360 ...\n",
      " $ Credit_History   : int  1 1 1 NA 1 1 1 0 1 1 ...\n",
      " $ Property_Area    : Factor w/ 3 levels \"Rural\",\"Semiurban\",..: 3 3 3 3 3 3 2 1 3 2 ...\n"
     ]
    }
   ],
   "source": [
    "summary(test)\n",
    "str(test)"
   ]
  },
  {
   "cell_type": "markdown",
   "metadata": {},
   "source": [
    "<a href=\"#sommaire\">Retour au sommaire</a>\n",
    "### <span style='color:red'>i) Nettoyage des données.<a name=\"M3231\"></a>"
   ]
  },
  {
   "cell_type": "code",
   "execution_count": 177,
   "metadata": {},
   "outputs": [
    {
     "data": {
      "text/html": [
       "<ol class=list-inline>\n",
       "\t<li>37</li>\n",
       "\t<li>12</li>\n",
       "</ol>\n"
      ],
      "text/latex": [
       "\\begin{enumerate*}\n",
       "\\item 37\n",
       "\\item 12\n",
       "\\end{enumerate*}\n"
      ],
      "text/markdown": [
       "1. 37\n",
       "2. 12\n",
       "\n",
       "\n"
      ],
      "text/plain": [
       "[1] 37 12"
      ]
     },
     "metadata": {},
     "output_type": "display_data"
    }
   ],
   "source": [
    "test$Credit_History <- droplevels(factor(test$Credit_History))\n",
    "\n",
    "test <- test[-which(test$Gender == ''), ]\n",
    "test <- test[-which(test$Dependents == ''), ]\n",
    "test <- test[-which(test$Self_Employed == ''), ]\n",
    "\n",
    "test$Gender <- droplevels(as.factor(test$Gender))\n",
    "test$Dependents <- droplevels(as.factor(test$Dependents))\n",
    "test$Self_Employed <- droplevels(as.factor(test$Self_Employed))\n",
    "\n",
    "test <- test[complete.cases(test[, 9:11]), ]\n",
    "rownames(test) <- 1:nrow(test)\n",
    "dim(test)"
   ]
  },
  {
   "cell_type": "code",
   "execution_count": 178,
   "metadata": {},
   "outputs": [
    {
     "data": {
      "text/html": [
       "0"
      ],
      "text/latex": [
       "0"
      ],
      "text/markdown": [
       "0"
      ],
      "text/plain": [
       "[1] 0"
      ]
     },
     "metadata": {},
     "output_type": "display_data"
    },
    {
     "data": {
      "text/html": [
       "0"
      ],
      "text/latex": [
       "0"
      ],
      "text/markdown": [
       "0"
      ],
      "text/plain": [
       "[1] 0"
      ]
     },
     "metadata": {},
     "output_type": "display_data"
    }
   ],
   "source": [
    "# Nombre de doublons après nettoyage:\n",
    "sum(duplicated(test))\n",
    "sum(duplicated(test[, -1]))"
   ]
  },
  {
   "cell_type": "code",
   "execution_count": 179,
   "metadata": {},
   "outputs": [
    {
     "data": {
      "text/plain": [
       "     Loan_ID      Gender   Married  Dependents        Education  Self_Employed\n",
       " LP001015: 1   Female: 7   No :20   0 :27      Graduate    :25   No :34       \n",
       " LP001022: 1   Male  :30   Yes:17   1 : 4      Not Graduate:12   Yes: 3       \n",
       " LP001031: 1                        2 : 4                                     \n",
       " LP001051: 1                        3+: 2                                     \n",
       " LP001054: 1                                                                  \n",
       " LP001055: 1                                                                  \n",
       " (Other) :31                                                                  \n",
       " ApplicantIncome CoapplicantIncome   LoanAmount    Loan_Amount_Term\n",
       " Min.   :   0    Min.   :    0     Min.   : 28.0   Min.   :180.0   \n",
       " 1st Qu.:2400    1st Qu.:    0     1st Qu.:100.0   1st Qu.:360.0   \n",
       " Median :3276    Median : 1541     Median :125.0   Median :360.0   \n",
       " Mean   :3773    Mean   : 2128     Mean   :135.2   Mean   :345.4   \n",
       " 3rd Qu.:5000    3rd Qu.: 2600     3rd Qu.:152.0   3rd Qu.:360.0   \n",
       " Max.   :9226    Max.   :24000     Max.   :300.0   Max.   :360.0   \n",
       "                                                                   \n",
       " Credit_History   Property_Area\n",
       " 0: 3           Rural    : 2   \n",
       " 1:34           Semiurban:11   \n",
       "                Urban    :24   \n",
       "                               \n",
       "                               \n",
       "                               \n",
       "                               "
      ]
     },
     "metadata": {},
     "output_type": "display_data"
    }
   ],
   "source": [
    "summary(test)"
   ]
  },
  {
   "cell_type": "markdown",
   "metadata": {},
   "source": [
    "<a href=\"#sommaire\">Retour au sommaire</a>\n",
    "### <span style='color:red'>ii) Test.<a name=\"M3232\"></a>"
   ]
  },
  {
   "cell_type": "code",
   "execution_count": 180,
   "metadata": {
    "scrolled": false
   },
   "outputs": [
    {
     "data": {
      "text/html": [
       "<table>\n",
       "<thead><tr><th scope=col>Loan_ID</th><th scope=col>score</th><th scope=col>Loan_Status</th></tr></thead>\n",
       "<tbody>\n",
       "\t<tr><td>LP001015         </td><td>0.773289988733954</td><td>Y                </td></tr>\n",
       "\t<tr><td>LP001022         </td><td>0.764141200177223</td><td>Y                </td></tr>\n",
       "\t<tr><td>LP001031         </td><td>0.823642362263827</td><td>Y                </td></tr>\n",
       "\t<tr><td>LP001051         </td><td>0.678697271155592</td><td>Y                </td></tr>\n",
       "\t<tr><td>LP001054         </td><td>0.748737767631716</td><td>Y                </td></tr>\n",
       "\t<tr><td>LP001055         </td><td>0.858169543761897</td><td>Y                </td></tr>\n",
       "\t<tr><td>LP001056         </td><td>0.150628378617232</td><td>N                </td></tr>\n",
       "\t<tr><td>LP001067         </td><td>0.831222573500111</td><td>Y                </td></tr>\n",
       "\t<tr><td>...</td><td>...</td><td>...</td></tr>\n",
       "\t<tr><td>LP001219         </td><td>0.635249587007604</td><td>Y                </td></tr>\n",
       "\t<tr><td>LP001220         </td><td>0.778879211220089</td><td>Y                </td></tr>\n",
       "\t<tr><td>LP001221         </td><td>0.655852403884163</td><td>Y                </td></tr>\n",
       "\t<tr><td>LP001226         </td><td>0.907423735584945</td><td>Y                </td></tr>\n",
       "\t<tr><td>LP001230         </td><td>0.793581469490938</td><td>Y                </td></tr>\n",
       "\t<tr><td>LP001231         </td><td>0.674474429102871</td><td>Y                </td></tr>\n",
       "\t<tr><td>LP001242         </td><td>0.837883444209099</td><td>Y                </td></tr>\n",
       "</tbody>\n",
       "</table>\n"
      ],
      "text/latex": [
       "\\begin{tabular}{r|lll}\n",
       " Loan\\_ID & score & Loan\\_Status\\\\\n",
       "\\hline\n",
       "\t LP001015          & 0.773289988733954 & Y                \\\\\n",
       "\t LP001022          & 0.764141200177223 & Y                \\\\\n",
       "\t LP001031          & 0.823642362263827 & Y                \\\\\n",
       "\t LP001051          & 0.678697271155592 & Y                \\\\\n",
       "\t LP001054          & 0.748737767631716 & Y                \\\\\n",
       "\t LP001055          & 0.858169543761897 & Y                \\\\\n",
       "\t LP001056          & 0.150628378617232 & N                \\\\\n",
       "\t LP001067          & 0.831222573500111 & Y                \\\\\n",
       "\t ... & ... & ...\\\\\n",
       "\t LP001219          & 0.635249587007604 & Y                \\\\\n",
       "\t LP001220          & 0.778879211220089 & Y                \\\\\n",
       "\t LP001221          & 0.655852403884163 & Y                \\\\\n",
       "\t LP001226          & 0.907423735584945 & Y                \\\\\n",
       "\t LP001230          & 0.793581469490938 & Y                \\\\\n",
       "\t LP001231          & 0.674474429102871 & Y                \\\\\n",
       "\t LP001242          & 0.837883444209099 & Y                \\\\\n",
       "\\end{tabular}\n"
      ],
      "text/markdown": [
       "\n",
       "| Loan_ID | score | Loan_Status |\n",
       "|---|---|---|\n",
       "| LP001015          | 0.773289988733954 | Y                 |\n",
       "| LP001022          | 0.764141200177223 | Y                 |\n",
       "| LP001031          | 0.823642362263827 | Y                 |\n",
       "| LP001051          | 0.678697271155592 | Y                 |\n",
       "| LP001054          | 0.748737767631716 | Y                 |\n",
       "| LP001055          | 0.858169543761897 | Y                 |\n",
       "| LP001056          | 0.150628378617232 | N                 |\n",
       "| LP001067          | 0.831222573500111 | Y                 |\n",
       "| ... | ... | ... |\n",
       "| LP001219          | 0.635249587007604 | Y                 |\n",
       "| LP001220          | 0.778879211220089 | Y                 |\n",
       "| LP001221          | 0.655852403884163 | Y                 |\n",
       "| LP001226          | 0.907423735584945 | Y                 |\n",
       "| LP001230          | 0.793581469490938 | Y                 |\n",
       "| LP001231          | 0.674474429102871 | Y                 |\n",
       "| LP001242          | 0.837883444209099 | Y                 |\n",
       "\n"
      ],
      "text/plain": [
       "    Loan_ID  score             Loan_Status\n",
       "1   LP001015 0.773289988733954 Y          \n",
       "2   LP001022 0.764141200177223 Y          \n",
       "3   LP001031 0.823642362263827 Y          \n",
       "4   LP001051 0.678697271155592 Y          \n",
       "5   LP001054 0.748737767631716 Y          \n",
       "6   LP001055 0.858169543761897 Y          \n",
       "7   LP001056 0.150628378617232 N          \n",
       "8   LP001067 0.831222573500111 Y          \n",
       "... ...      ...               ...        \n",
       "31  LP001219 0.635249587007604 Y          \n",
       "32  LP001220 0.778879211220089 Y          \n",
       "33  LP001221 0.655852403884163 Y          \n",
       "34  LP001226 0.907423735584945 Y          \n",
       "35  LP001230 0.793581469490938 Y          \n",
       "36  LP001231 0.674474429102871 Y          \n",
       "37  LP001242 0.837883444209099 Y          "
      ]
     },
     "metadata": {},
     "output_type": "display_data"
    }
   ],
   "source": [
    "accord(test)"
   ]
  },
  {
   "cell_type": "code",
   "execution_count": 181,
   "metadata": {},
   "outputs": [
    {
     "data": {
      "text/plain": [
       "\n",
       " N  Y \n",
       " 3 34 "
      ]
     },
     "metadata": {},
     "output_type": "display_data"
    }
   ],
   "source": [
    "table(accord(test)$Loan_Status)"
   ]
  },
  {
   "cell_type": "code",
   "execution_count": 188,
   "metadata": {},
   "outputs": [
    {
     "data": {
      "text/html": [
       "<table>\n",
       "<thead><tr><th></th><th scope=col>Loan_ID</th><th scope=col>Gender</th><th scope=col>Married</th><th scope=col>Dependents</th><th scope=col>Education</th><th scope=col>Self_Employed</th><th scope=col>ApplicantIncome</th><th scope=col>CoapplicantIncome</th><th scope=col>LoanAmount</th><th scope=col>Loan_Amount_Term</th><th scope=col>Credit_History</th><th scope=col>Property_Area</th><th scope=col>Loan_Status</th></tr></thead>\n",
       "<tbody>\n",
       "\t<tr><th scope=row>7</th><td>LP001056    </td><td>Male        </td><td>Yes         </td><td>2           </td><td>Not Graduate</td><td>No          </td><td>3881        </td><td>    0       </td><td>147         </td><td>360         </td><td>0           </td><td>Rural       </td><td>N           </td></tr>\n",
       "\t<tr><th scope=row>20</th><td>LP001153    </td><td>Male        </td><td>No          </td><td>0           </td><td>Graduate    </td><td>No          </td><td>   0        </td><td>24000       </td><td>148         </td><td>360         </td><td>0           </td><td>Rural       </td><td>N           </td></tr>\n",
       "\t<tr><th scope=row>28</th><td>LP001203    </td><td>Male        </td><td>No          </td><td>0           </td><td>Graduate    </td><td>No          </td><td>3150        </td><td>    0       </td><td>176         </td><td>360         </td><td>0           </td><td>Semiurban   </td><td>N           </td></tr>\n",
       "</tbody>\n",
       "</table>\n"
      ],
      "text/latex": [
       "\\begin{tabular}{r|lllllllllllll}\n",
       "  & Loan\\_ID & Gender & Married & Dependents & Education & Self\\_Employed & ApplicantIncome & CoapplicantIncome & LoanAmount & Loan\\_Amount\\_Term & Credit\\_History & Property\\_Area & Loan\\_Status\\\\\n",
       "\\hline\n",
       "\t7 & LP001056     & Male         & Yes          & 2            & Not Graduate & No           & 3881         &     0        & 147          & 360          & 0            & Rural        & N           \\\\\n",
       "\t20 & LP001153     & Male         & No           & 0            & Graduate     & No           &    0         & 24000        & 148          & 360          & 0            & Rural        & N           \\\\\n",
       "\t28 & LP001203     & Male         & No           & 0            & Graduate     & No           & 3150         &     0        & 176          & 360          & 0            & Semiurban    & N           \\\\\n",
       "\\end{tabular}\n"
      ],
      "text/markdown": [
       "\n",
       "| <!--/--> | Loan_ID | Gender | Married | Dependents | Education | Self_Employed | ApplicantIncome | CoapplicantIncome | LoanAmount | Loan_Amount_Term | Credit_History | Property_Area | Loan_Status |\n",
       "|---|---|---|---|---|---|---|---|---|---|---|---|---|---|\n",
       "| 7 | LP001056     | Male         | Yes          | 2            | Not Graduate | No           | 3881         |     0        | 147          | 360          | 0            | Rural        | N            |\n",
       "| 20 | LP001153     | Male         | No           | 0            | Graduate     | No           |    0         | 24000        | 148          | 360          | 0            | Rural        | N            |\n",
       "| 28 | LP001203     | Male         | No           | 0            | Graduate     | No           | 3150         |     0        | 176          | 360          | 0            | Semiurban    | N            |\n",
       "\n"
      ],
      "text/plain": [
       "   Loan_ID  Gender Married Dependents Education    Self_Employed\n",
       "7  LP001056 Male   Yes     2          Not Graduate No           \n",
       "20 LP001153 Male   No      0          Graduate     No           \n",
       "28 LP001203 Male   No      0          Graduate     No           \n",
       "   ApplicantIncome CoapplicantIncome LoanAmount Loan_Amount_Term Credit_History\n",
       "7  3881                0             147        360              0             \n",
       "20    0            24000             148        360              0             \n",
       "28 3150                0             176        360              0             \n",
       "   Property_Area Loan_Status\n",
       "7  Rural         N          \n",
       "20 Rural         N          \n",
       "28 Semiurban     N          "
      ]
     },
     "metadata": {},
     "output_type": "display_data"
    }
   ],
   "source": [
    "test[test$Loan_Status == 'N', ]"
   ]
  },
  {
   "cell_type": "code",
   "execution_count": 190,
   "metadata": {},
   "outputs": [
    {
     "data": {
      "text/html": [
       "<table>\n",
       "<thead><tr><th></th><th scope=col>Loan_ID</th><th scope=col>Gender</th><th scope=col>Married</th><th scope=col>Dependents</th><th scope=col>Education</th><th scope=col>Self_Employed</th><th scope=col>ApplicantIncome</th><th scope=col>CoapplicantIncome</th><th scope=col>LoanAmount</th><th scope=col>Loan_Amount_Term</th><th scope=col>Credit_History</th><th scope=col>Property_Area</th><th scope=col>Loan_Status</th></tr></thead>\n",
       "<tbody>\n",
       "\t<tr><th scope=row>7</th><td>LP001056    </td><td>Male        </td><td>Yes         </td><td>2           </td><td>Not Graduate</td><td>No          </td><td>3881        </td><td>    0       </td><td>147         </td><td>360         </td><td>0           </td><td>Rural       </td><td>N           </td></tr>\n",
       "\t<tr><th scope=row>20</th><td>LP001153    </td><td>Male        </td><td>No          </td><td>0           </td><td>Graduate    </td><td>No          </td><td>   0        </td><td>24000       </td><td>148         </td><td>360         </td><td>0           </td><td>Rural       </td><td>N           </td></tr>\n",
       "\t<tr><th scope=row>28</th><td>LP001203    </td><td>Male        </td><td>No          </td><td>0           </td><td>Graduate    </td><td>No          </td><td>3150        </td><td>    0       </td><td>176         </td><td>360         </td><td>0           </td><td>Semiurban   </td><td>N           </td></tr>\n",
       "</tbody>\n",
       "</table>\n"
      ],
      "text/latex": [
       "\\begin{tabular}{r|lllllllllllll}\n",
       "  & Loan\\_ID & Gender & Married & Dependents & Education & Self\\_Employed & ApplicantIncome & CoapplicantIncome & LoanAmount & Loan\\_Amount\\_Term & Credit\\_History & Property\\_Area & Loan\\_Status\\\\\n",
       "\\hline\n",
       "\t7 & LP001056     & Male         & Yes          & 2            & Not Graduate & No           & 3881         &     0        & 147          & 360          & 0            & Rural        & N           \\\\\n",
       "\t20 & LP001153     & Male         & No           & 0            & Graduate     & No           &    0         & 24000        & 148          & 360          & 0            & Rural        & N           \\\\\n",
       "\t28 & LP001203     & Male         & No           & 0            & Graduate     & No           & 3150         &     0        & 176          & 360          & 0            & Semiurban    & N           \\\\\n",
       "\\end{tabular}\n"
      ],
      "text/markdown": [
       "\n",
       "| <!--/--> | Loan_ID | Gender | Married | Dependents | Education | Self_Employed | ApplicantIncome | CoapplicantIncome | LoanAmount | Loan_Amount_Term | Credit_History | Property_Area | Loan_Status |\n",
       "|---|---|---|---|---|---|---|---|---|---|---|---|---|---|\n",
       "| 7 | LP001056     | Male         | Yes          | 2            | Not Graduate | No           | 3881         |     0        | 147          | 360          | 0            | Rural        | N            |\n",
       "| 20 | LP001153     | Male         | No           | 0            | Graduate     | No           |    0         | 24000        | 148          | 360          | 0            | Rural        | N            |\n",
       "| 28 | LP001203     | Male         | No           | 0            | Graduate     | No           | 3150         |     0        | 176          | 360          | 0            | Semiurban    | N            |\n",
       "\n"
      ],
      "text/plain": [
       "   Loan_ID  Gender Married Dependents Education    Self_Employed\n",
       "7  LP001056 Male   Yes     2          Not Graduate No           \n",
       "20 LP001153 Male   No      0          Graduate     No           \n",
       "28 LP001203 Male   No      0          Graduate     No           \n",
       "   ApplicantIncome CoapplicantIncome LoanAmount Loan_Amount_Term Credit_History\n",
       "7  3881                0             147        360              0             \n",
       "20    0            24000             148        360              0             \n",
       "28 3150                0             176        360              0             \n",
       "   Property_Area Loan_Status\n",
       "7  Rural         N          \n",
       "20 Rural         N          \n",
       "28 Semiurban     N          "
      ]
     },
     "metadata": {},
     "output_type": "display_data"
    }
   ],
   "source": [
    "test[test$Credit_History == 0, ]"
   ]
  },
  {
   "cell_type": "markdown",
   "metadata": {},
   "source": [
    "### Vérification graphique:"
   ]
  },
  {
   "cell_type": "code",
   "execution_count": 182,
   "metadata": {},
   "outputs": [
    {
     "data": {
      "text/html": [
       "<ol class=list-inline>\n",
       "\t<li>467</li>\n",
       "\t<li>12</li>\n",
       "</ol>\n"
      ],
      "text/latex": [
       "\\begin{enumerate*}\n",
       "\\item 467\n",
       "\\item 12\n",
       "\\end{enumerate*}\n"
      ],
      "text/markdown": [
       "1. 467\n",
       "2. 12\n",
       "\n",
       "\n"
      ],
      "text/plain": [
       "[1] 467  12"
      ]
     },
     "metadata": {},
     "output_type": "display_data"
    },
    {
     "data": {
      "text/html": [
       "<table>\n",
       "<thead><tr><th></th><th scope=col>Gender</th><th scope=col>Married</th><th scope=col>Dependents</th><th scope=col>Education</th><th scope=col>Self_Employed</th><th scope=col>ApplicantIncome</th><th scope=col>CoapplicantIncome</th><th scope=col>LoanAmount</th><th scope=col>Loan_Amount_Term</th><th scope=col>Credit_History</th><th scope=col>Property_Area</th><th scope=col>Loan_Status</th></tr></thead>\n",
       "<tbody>\n",
       "\t<tr><th scope=row>LP001015</th><td>Male        </td><td>Yes         </td><td>0           </td><td>Graduate    </td><td>No          </td><td>5720        </td><td>   0        </td><td>110         </td><td>360         </td><td>1           </td><td>Urban       </td><td>Y           </td></tr>\n",
       "\t<tr><th scope=row>LP001022</th><td>Male        </td><td>Yes         </td><td>1           </td><td>Graduate    </td><td>No          </td><td>3076        </td><td>1500        </td><td>126         </td><td>360         </td><td>1           </td><td>Urban       </td><td>Y           </td></tr>\n",
       "\t<tr><th scope=row>LP001031</th><td>Male        </td><td>Yes         </td><td>2           </td><td>Graduate    </td><td>No          </td><td>5000        </td><td>1800        </td><td>208         </td><td>360         </td><td>1           </td><td>Urban       </td><td>Y           </td></tr>\n",
       "\t<tr><th scope=row>LP001051</th><td>Male        </td><td>No          </td><td>0           </td><td>Not Graduate</td><td>No          </td><td>3276        </td><td>   0        </td><td> 78         </td><td>360         </td><td>1           </td><td>Urban       </td><td>Y           </td></tr>\n",
       "\t<tr><th scope=row>LP001054</th><td>Male        </td><td>Yes         </td><td>0           </td><td>Not Graduate</td><td>Yes         </td><td>2165        </td><td>3422        </td><td>152         </td><td>360         </td><td>1           </td><td>Urban       </td><td>Y           </td></tr>\n",
       "\t<tr><th scope=row>LP001055</th><td>Female      </td><td>No          </td><td>1           </td><td>Not Graduate</td><td>No          </td><td>2226        </td><td>   0        </td><td> 59         </td><td>360         </td><td>1           </td><td>Semiurban   </td><td>Y           </td></tr>\n",
       "</tbody>\n",
       "</table>\n"
      ],
      "text/latex": [
       "\\begin{tabular}{r|llllllllllll}\n",
       "  & Gender & Married & Dependents & Education & Self\\_Employed & ApplicantIncome & CoapplicantIncome & LoanAmount & Loan\\_Amount\\_Term & Credit\\_History & Property\\_Area & Loan\\_Status\\\\\n",
       "\\hline\n",
       "\tLP001015 & Male         & Yes          & 0            & Graduate     & No           & 5720         &    0         & 110          & 360          & 1            & Urban        & Y           \\\\\n",
       "\tLP001022 & Male         & Yes          & 1            & Graduate     & No           & 3076         & 1500         & 126          & 360          & 1            & Urban        & Y           \\\\\n",
       "\tLP001031 & Male         & Yes          & 2            & Graduate     & No           & 5000         & 1800         & 208          & 360          & 1            & Urban        & Y           \\\\\n",
       "\tLP001051 & Male         & No           & 0            & Not Graduate & No           & 3276         &    0         &  78          & 360          & 1            & Urban        & Y           \\\\\n",
       "\tLP001054 & Male         & Yes          & 0            & Not Graduate & Yes          & 2165         & 3422         & 152          & 360          & 1            & Urban        & Y           \\\\\n",
       "\tLP001055 & Female       & No           & 1            & Not Graduate & No           & 2226         &    0         &  59          & 360          & 1            & Semiurban    & Y           \\\\\n",
       "\\end{tabular}\n"
      ],
      "text/markdown": [
       "\n",
       "| <!--/--> | Gender | Married | Dependents | Education | Self_Employed | ApplicantIncome | CoapplicantIncome | LoanAmount | Loan_Amount_Term | Credit_History | Property_Area | Loan_Status |\n",
       "|---|---|---|---|---|---|---|---|---|---|---|---|---|\n",
       "| LP001015 | Male         | Yes          | 0            | Graduate     | No           | 5720         |    0         | 110          | 360          | 1            | Urban        | Y            |\n",
       "| LP001022 | Male         | Yes          | 1            | Graduate     | No           | 3076         | 1500         | 126          | 360          | 1            | Urban        | Y            |\n",
       "| LP001031 | Male         | Yes          | 2            | Graduate     | No           | 5000         | 1800         | 208          | 360          | 1            | Urban        | Y            |\n",
       "| LP001051 | Male         | No           | 0            | Not Graduate | No           | 3276         |    0         |  78          | 360          | 1            | Urban        | Y            |\n",
       "| LP001054 | Male         | Yes          | 0            | Not Graduate | Yes          | 2165         | 3422         | 152          | 360          | 1            | Urban        | Y            |\n",
       "| LP001055 | Female       | No           | 1            | Not Graduate | No           | 2226         |    0         |  59          | 360          | 1            | Semiurban    | Y            |\n",
       "\n"
      ],
      "text/plain": [
       "         Gender Married Dependents Education    Self_Employed ApplicantIncome\n",
       "LP001015 Male   Yes     0          Graduate     No            5720           \n",
       "LP001022 Male   Yes     1          Graduate     No            3076           \n",
       "LP001031 Male   Yes     2          Graduate     No            5000           \n",
       "LP001051 Male   No      0          Not Graduate No            3276           \n",
       "LP001054 Male   Yes     0          Not Graduate Yes           2165           \n",
       "LP001055 Female No      1          Not Graduate No            2226           \n",
       "         CoapplicantIncome LoanAmount Loan_Amount_Term Credit_History\n",
       "LP001015    0              110        360              1             \n",
       "LP001022 1500              126        360              1             \n",
       "LP001031 1800              208        360              1             \n",
       "LP001051    0               78        360              1             \n",
       "LP001054 3422              152        360              1             \n",
       "LP001055    0               59        360              1             \n",
       "         Property_Area Loan_Status\n",
       "LP001015 Urban         Y          \n",
       "LP001022 Urban         Y          \n",
       "LP001031 Urban         Y          \n",
       "LP001051 Urban         Y          \n",
       "LP001054 Urban         Y          \n",
       "LP001055 Semiurban     Y          "
      ]
     },
     "metadata": {},
     "output_type": "display_data"
    }
   ],
   "source": [
    "test <- cbind(test, Loan_Status = as.factor(accord(test)$Loan_Status))\n",
    "verif <- rbind(test, train)\n",
    "rownames(verif) <- verif$Loan_ID\n",
    "verif <- verif[, -1]\n",
    "dim(verif)\n",
    "head(verif)"
   ]
  },
  {
   "cell_type": "code",
   "execution_count": 183,
   "metadata": {},
   "outputs": [],
   "source": [
    "viz <- MCA(verif, ncp = 4, quanti.sup = 6:9, quali.sup = 12, ind.sup = 1:nrow(test))"
   ]
  },
  {
   "cell_type": "code",
   "execution_count": 184,
   "metadata": {
    "scrolled": false
   },
   "outputs": [
    {
     "data": {
      "image/png": "[encoded data removed]",
      "text/plain": [
       "plot without title"
      ]
     },
     "metadata": {},
     "output_type": "display_data"
    },
    {
     "data": {
      "image/png": "[encoded data removed]",
      "text/plain": [
       "plot without title"
      ]
     },
     "metadata": {},
     "output_type": "display_data"
    }
   ],
   "source": [
    "# Graphes des modalités et des individus:\n",
    "options(repr.plot.width = 8, repr.plot.height = 5)\n",
    "fviz_mca_ind (viz, axes = c(1, 3), geom = c('point', 'text'), habillage = 12, pointsize = 2, labelsize = 2, \n",
    "              palette = c(\"#FC4E07\", \"#00AFBB\"), addEllipses = T, ellipse.level = 0.95, repel = F)\n",
    "\n",
    "fviz_mca_ind (viz, axes = c(3, 4), geom = c('point', 'text'), habillage = 12, pointsize = 2, labelsize = 2, \n",
    "              palette = c(\"#FC4E07\", \"#00AFBB\"), addEllipses = T, ellipse.level = 0.95, repel = F)"
   ]
  },
  {
   "cell_type": "markdown",
   "metadata": {},
   "source": [
    "<a href=\"#sommaire\">Retour au sommaire</a>"
   ]
  },
  {
   "cell_type": "markdown",
   "metadata": {},
   "source": [
    "La banque pourra éventuellement proposer un rendez_vous à toutes les demandes qui ont intégrer l'ellipse bleu sans être trop proches du centre de l'ellipse rouge.\n",
    "Plus restrictivement, elle pourra les choisir en fonction de leur position sur les graphes: en dessous de l'axe des abscisses pour le graphe du haut et à gauche de l'axe des ordonnées pour le graphe du bas."
   ]
  },
  {
   "cell_type": "code",
   "execution_count": null,
   "metadata": {},
   "outputs": [],
   "source": []
  }
 ],
 "metadata": {
  "kernelspec": {
   "display_name": "R",
   "language": "R",
   "name": "ir"
  },
  "language_info": {
   "codemirror_mode": "r",
   "file_extension": ".r",
   "mimetype": "text/x-r-source",
   "name": "R",
   "pygments_lexer": "r",
   "version": "3.6.1"
  }
 },
 "nbformat": 4,
 "nbformat_minor": 4
}
